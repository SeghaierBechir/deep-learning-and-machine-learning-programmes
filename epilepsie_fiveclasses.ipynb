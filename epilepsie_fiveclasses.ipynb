{
  "nbformat": 4,
  "nbformat_minor": 0,
  "metadata": {
    "colab": {
      "name": "fiveclasses.ipynb",
      "provenance": [],
      "collapsed_sections": []
    },
    "kernelspec": {
      "name": "python3",
      "display_name": "Python 3"
    },
    "language_info": {
      "name": "python"
    },
    "accelerator": "GPU"
  },
  "cells": [
    {
      "cell_type": "code",
      "metadata": {
        "id": "Br7H8WbSpcXu"
      },
      "source": [
        "import keras\n",
        "#from keras.datasets import mnist #import Data\n",
        "from sklearn.model_selection import train_test_split\n",
        "from keras.models import Sequential #preparing layres position\n",
        "from keras.layers import Dense, Dropout, Flatten, Activation  #3 layers\n",
        "from keras.layers import Conv2D,MaxPooling2D,GRU,Conv1D,MaxPooling1D #convolution & pooling\n",
        "from tensorflow.keras import utils as np_utils\n",
        "import numpy as np\n",
        "np.set_printoptions(threshold=1000,suppress=True)\n",
        "import pandas as pd\n",
        "import seaborn as sns\n",
        "import matplotlib.pyplot as plt #graph 2D\n",
        "import warnings\n",
        "warnings.filterwarnings('ignore')"
      ],
      "execution_count": null,
      "outputs": []
    },
    {
      "cell_type": "markdown",
      "metadata": {
        "id": "h7eFalyNGGgh"
      },
      "source": [
        "#Preprocessing"
      ]
    },
    {
      "cell_type": "code",
      "metadata": {
        "colab": {
          "base_uri": "https://localhost:8080/",
          "height": 270
        },
        "id": "v9UBkkvcqGbC",
        "outputId": "6f7dc38e-1c1b-4ff4-a7d9-dd9d0f5a8829"
      },
      "source": [
        "epilepsie_data=pd.read_csv('data.csv',sep=',',header=0)\n",
        "epilepsie_data.head()"
      ],
      "execution_count": null,
      "outputs": [
        {
          "output_type": "execute_result",
          "data": {
            "text/html": [
              "<div>\n",
              "<style scoped>\n",
              "    .dataframe tbody tr th:only-of-type {\n",
              "        vertical-align: middle;\n",
              "    }\n",
              "\n",
              "    .dataframe tbody tr th {\n",
              "        vertical-align: top;\n",
              "    }\n",
              "\n",
              "    .dataframe thead th {\n",
              "        text-align: right;\n",
              "    }\n",
              "</style>\n",
              "<table border=\"1\" class=\"dataframe\">\n",
              "  <thead>\n",
              "    <tr style=\"text-align: right;\">\n",
              "      <th></th>\n",
              "      <th>Unnamed: 0</th>\n",
              "      <th>X1</th>\n",
              "      <th>X2</th>\n",
              "      <th>X3</th>\n",
              "      <th>X4</th>\n",
              "      <th>X5</th>\n",
              "      <th>X6</th>\n",
              "      <th>X7</th>\n",
              "      <th>X8</th>\n",
              "      <th>X9</th>\n",
              "      <th>X10</th>\n",
              "      <th>X11</th>\n",
              "      <th>X12</th>\n",
              "      <th>X13</th>\n",
              "      <th>X14</th>\n",
              "      <th>X15</th>\n",
              "      <th>X16</th>\n",
              "      <th>X17</th>\n",
              "      <th>X18</th>\n",
              "      <th>X19</th>\n",
              "      <th>X20</th>\n",
              "      <th>X21</th>\n",
              "      <th>X22</th>\n",
              "      <th>X23</th>\n",
              "      <th>X24</th>\n",
              "      <th>X25</th>\n",
              "      <th>X26</th>\n",
              "      <th>X27</th>\n",
              "      <th>X28</th>\n",
              "      <th>X29</th>\n",
              "      <th>X30</th>\n",
              "      <th>X31</th>\n",
              "      <th>X32</th>\n",
              "      <th>X33</th>\n",
              "      <th>X34</th>\n",
              "      <th>X35</th>\n",
              "      <th>X36</th>\n",
              "      <th>X37</th>\n",
              "      <th>X38</th>\n",
              "      <th>X39</th>\n",
              "      <th>...</th>\n",
              "      <th>X140</th>\n",
              "      <th>X141</th>\n",
              "      <th>X142</th>\n",
              "      <th>X143</th>\n",
              "      <th>X144</th>\n",
              "      <th>X145</th>\n",
              "      <th>X146</th>\n",
              "      <th>X147</th>\n",
              "      <th>X148</th>\n",
              "      <th>X149</th>\n",
              "      <th>X150</th>\n",
              "      <th>X151</th>\n",
              "      <th>X152</th>\n",
              "      <th>X153</th>\n",
              "      <th>X154</th>\n",
              "      <th>X155</th>\n",
              "      <th>X156</th>\n",
              "      <th>X157</th>\n",
              "      <th>X158</th>\n",
              "      <th>X159</th>\n",
              "      <th>X160</th>\n",
              "      <th>X161</th>\n",
              "      <th>X162</th>\n",
              "      <th>X163</th>\n",
              "      <th>X164</th>\n",
              "      <th>X165</th>\n",
              "      <th>X166</th>\n",
              "      <th>X167</th>\n",
              "      <th>X168</th>\n",
              "      <th>X169</th>\n",
              "      <th>X170</th>\n",
              "      <th>X171</th>\n",
              "      <th>X172</th>\n",
              "      <th>X173</th>\n",
              "      <th>X174</th>\n",
              "      <th>X175</th>\n",
              "      <th>X176</th>\n",
              "      <th>X177</th>\n",
              "      <th>X178</th>\n",
              "      <th>y</th>\n",
              "    </tr>\n",
              "  </thead>\n",
              "  <tbody>\n",
              "    <tr>\n",
              "      <th>0</th>\n",
              "      <td>X21.V1.791</td>\n",
              "      <td>135</td>\n",
              "      <td>190</td>\n",
              "      <td>229</td>\n",
              "      <td>223</td>\n",
              "      <td>192</td>\n",
              "      <td>125</td>\n",
              "      <td>55</td>\n",
              "      <td>-9</td>\n",
              "      <td>-33</td>\n",
              "      <td>-38</td>\n",
              "      <td>-10</td>\n",
              "      <td>35</td>\n",
              "      <td>64</td>\n",
              "      <td>113</td>\n",
              "      <td>152</td>\n",
              "      <td>164</td>\n",
              "      <td>127</td>\n",
              "      <td>50</td>\n",
              "      <td>-47</td>\n",
              "      <td>-121</td>\n",
              "      <td>-138</td>\n",
              "      <td>-125</td>\n",
              "      <td>-101</td>\n",
              "      <td>-50</td>\n",
              "      <td>11</td>\n",
              "      <td>39</td>\n",
              "      <td>24</td>\n",
              "      <td>48</td>\n",
              "      <td>64</td>\n",
              "      <td>46</td>\n",
              "      <td>13</td>\n",
              "      <td>-19</td>\n",
              "      <td>-61</td>\n",
              "      <td>-96</td>\n",
              "      <td>-130</td>\n",
              "      <td>-132</td>\n",
              "      <td>-116</td>\n",
              "      <td>-115</td>\n",
              "      <td>-71</td>\n",
              "      <td>...</td>\n",
              "      <td>54</td>\n",
              "      <td>90</td>\n",
              "      <td>111</td>\n",
              "      <td>107</td>\n",
              "      <td>64</td>\n",
              "      <td>32</td>\n",
              "      <td>18</td>\n",
              "      <td>-25</td>\n",
              "      <td>-69</td>\n",
              "      <td>-65</td>\n",
              "      <td>-44</td>\n",
              "      <td>-33</td>\n",
              "      <td>-57</td>\n",
              "      <td>-88</td>\n",
              "      <td>-114</td>\n",
              "      <td>-130</td>\n",
              "      <td>-114</td>\n",
              "      <td>-83</td>\n",
              "      <td>-53</td>\n",
              "      <td>-79</td>\n",
              "      <td>-72</td>\n",
              "      <td>-85</td>\n",
              "      <td>-109</td>\n",
              "      <td>-98</td>\n",
              "      <td>-72</td>\n",
              "      <td>-65</td>\n",
              "      <td>-63</td>\n",
              "      <td>-11</td>\n",
              "      <td>10</td>\n",
              "      <td>8</td>\n",
              "      <td>-17</td>\n",
              "      <td>-15</td>\n",
              "      <td>-31</td>\n",
              "      <td>-77</td>\n",
              "      <td>-103</td>\n",
              "      <td>-127</td>\n",
              "      <td>-116</td>\n",
              "      <td>-83</td>\n",
              "      <td>-51</td>\n",
              "      <td>4</td>\n",
              "    </tr>\n",
              "    <tr>\n",
              "      <th>1</th>\n",
              "      <td>X15.V1.924</td>\n",
              "      <td>386</td>\n",
              "      <td>382</td>\n",
              "      <td>356</td>\n",
              "      <td>331</td>\n",
              "      <td>320</td>\n",
              "      <td>315</td>\n",
              "      <td>307</td>\n",
              "      <td>272</td>\n",
              "      <td>244</td>\n",
              "      <td>232</td>\n",
              "      <td>237</td>\n",
              "      <td>258</td>\n",
              "      <td>212</td>\n",
              "      <td>2</td>\n",
              "      <td>-267</td>\n",
              "      <td>-605</td>\n",
              "      <td>-850</td>\n",
              "      <td>-1001</td>\n",
              "      <td>-1109</td>\n",
              "      <td>-1090</td>\n",
              "      <td>-967</td>\n",
              "      <td>-746</td>\n",
              "      <td>-464</td>\n",
              "      <td>-152</td>\n",
              "      <td>118</td>\n",
              "      <td>318</td>\n",
              "      <td>427</td>\n",
              "      <td>473</td>\n",
              "      <td>485</td>\n",
              "      <td>447</td>\n",
              "      <td>397</td>\n",
              "      <td>339</td>\n",
              "      <td>312</td>\n",
              "      <td>314</td>\n",
              "      <td>326</td>\n",
              "      <td>335</td>\n",
              "      <td>332</td>\n",
              "      <td>324</td>\n",
              "      <td>310</td>\n",
              "      <td>...</td>\n",
              "      <td>27</td>\n",
              "      <td>146</td>\n",
              "      <td>229</td>\n",
              "      <td>269</td>\n",
              "      <td>297</td>\n",
              "      <td>307</td>\n",
              "      <td>303</td>\n",
              "      <td>305</td>\n",
              "      <td>306</td>\n",
              "      <td>307</td>\n",
              "      <td>280</td>\n",
              "      <td>231</td>\n",
              "      <td>159</td>\n",
              "      <td>85</td>\n",
              "      <td>51</td>\n",
              "      <td>43</td>\n",
              "      <td>62</td>\n",
              "      <td>63</td>\n",
              "      <td>63</td>\n",
              "      <td>69</td>\n",
              "      <td>89</td>\n",
              "      <td>123</td>\n",
              "      <td>136</td>\n",
              "      <td>127</td>\n",
              "      <td>102</td>\n",
              "      <td>95</td>\n",
              "      <td>105</td>\n",
              "      <td>131</td>\n",
              "      <td>163</td>\n",
              "      <td>168</td>\n",
              "      <td>164</td>\n",
              "      <td>150</td>\n",
              "      <td>146</td>\n",
              "      <td>152</td>\n",
              "      <td>157</td>\n",
              "      <td>156</td>\n",
              "      <td>154</td>\n",
              "      <td>143</td>\n",
              "      <td>129</td>\n",
              "      <td>1</td>\n",
              "    </tr>\n",
              "    <tr>\n",
              "      <th>2</th>\n",
              "      <td>X8.V1.1</td>\n",
              "      <td>-32</td>\n",
              "      <td>-39</td>\n",
              "      <td>-47</td>\n",
              "      <td>-37</td>\n",
              "      <td>-32</td>\n",
              "      <td>-36</td>\n",
              "      <td>-57</td>\n",
              "      <td>-73</td>\n",
              "      <td>-85</td>\n",
              "      <td>-94</td>\n",
              "      <td>-99</td>\n",
              "      <td>-94</td>\n",
              "      <td>-96</td>\n",
              "      <td>-104</td>\n",
              "      <td>-103</td>\n",
              "      <td>-92</td>\n",
              "      <td>-75</td>\n",
              "      <td>-69</td>\n",
              "      <td>-69</td>\n",
              "      <td>-53</td>\n",
              "      <td>-37</td>\n",
              "      <td>-14</td>\n",
              "      <td>-10</td>\n",
              "      <td>-39</td>\n",
              "      <td>-78</td>\n",
              "      <td>-102</td>\n",
              "      <td>-98</td>\n",
              "      <td>-80</td>\n",
              "      <td>-54</td>\n",
              "      <td>-40</td>\n",
              "      <td>-35</td>\n",
              "      <td>-39</td>\n",
              "      <td>-32</td>\n",
              "      <td>-13</td>\n",
              "      <td>7</td>\n",
              "      <td>34</td>\n",
              "      <td>41</td>\n",
              "      <td>33</td>\n",
              "      <td>6</td>\n",
              "      <td>...</td>\n",
              "      <td>-82</td>\n",
              "      <td>-107</td>\n",
              "      <td>-126</td>\n",
              "      <td>-124</td>\n",
              "      <td>-108</td>\n",
              "      <td>-84</td>\n",
              "      <td>-68</td>\n",
              "      <td>-61</td>\n",
              "      <td>-56</td>\n",
              "      <td>-63</td>\n",
              "      <td>-62</td>\n",
              "      <td>-33</td>\n",
              "      <td>1</td>\n",
              "      <td>28</td>\n",
              "      <td>45</td>\n",
              "      <td>37</td>\n",
              "      <td>48</td>\n",
              "      <td>62</td>\n",
              "      <td>80</td>\n",
              "      <td>66</td>\n",
              "      <td>23</td>\n",
              "      <td>-11</td>\n",
              "      <td>-39</td>\n",
              "      <td>-44</td>\n",
              "      <td>-42</td>\n",
              "      <td>-45</td>\n",
              "      <td>-48</td>\n",
              "      <td>-42</td>\n",
              "      <td>-6</td>\n",
              "      <td>29</td>\n",
              "      <td>57</td>\n",
              "      <td>64</td>\n",
              "      <td>48</td>\n",
              "      <td>19</td>\n",
              "      <td>-12</td>\n",
              "      <td>-30</td>\n",
              "      <td>-35</td>\n",
              "      <td>-35</td>\n",
              "      <td>-36</td>\n",
              "      <td>5</td>\n",
              "    </tr>\n",
              "    <tr>\n",
              "      <th>3</th>\n",
              "      <td>X16.V1.60</td>\n",
              "      <td>-105</td>\n",
              "      <td>-101</td>\n",
              "      <td>-96</td>\n",
              "      <td>-92</td>\n",
              "      <td>-89</td>\n",
              "      <td>-95</td>\n",
              "      <td>-102</td>\n",
              "      <td>-100</td>\n",
              "      <td>-87</td>\n",
              "      <td>-79</td>\n",
              "      <td>-72</td>\n",
              "      <td>-68</td>\n",
              "      <td>-74</td>\n",
              "      <td>-80</td>\n",
              "      <td>-83</td>\n",
              "      <td>-73</td>\n",
              "      <td>-68</td>\n",
              "      <td>-61</td>\n",
              "      <td>-58</td>\n",
              "      <td>-59</td>\n",
              "      <td>-64</td>\n",
              "      <td>-79</td>\n",
              "      <td>-84</td>\n",
              "      <td>-97</td>\n",
              "      <td>-94</td>\n",
              "      <td>-84</td>\n",
              "      <td>-77</td>\n",
              "      <td>-75</td>\n",
              "      <td>-72</td>\n",
              "      <td>-68</td>\n",
              "      <td>-76</td>\n",
              "      <td>-76</td>\n",
              "      <td>-72</td>\n",
              "      <td>-67</td>\n",
              "      <td>-69</td>\n",
              "      <td>-69</td>\n",
              "      <td>-69</td>\n",
              "      <td>-67</td>\n",
              "      <td>-68</td>\n",
              "      <td>...</td>\n",
              "      <td>-69</td>\n",
              "      <td>-66</td>\n",
              "      <td>-74</td>\n",
              "      <td>-69</td>\n",
              "      <td>-61</td>\n",
              "      <td>-51</td>\n",
              "      <td>-45</td>\n",
              "      <td>-45</td>\n",
              "      <td>-49</td>\n",
              "      <td>-58</td>\n",
              "      <td>-64</td>\n",
              "      <td>-78</td>\n",
              "      <td>-80</td>\n",
              "      <td>-90</td>\n",
              "      <td>-87</td>\n",
              "      <td>-83</td>\n",
              "      <td>-78</td>\n",
              "      <td>-64</td>\n",
              "      <td>-38</td>\n",
              "      <td>-22</td>\n",
              "      <td>-29</td>\n",
              "      <td>-42</td>\n",
              "      <td>-51</td>\n",
              "      <td>-68</td>\n",
              "      <td>-71</td>\n",
              "      <td>-69</td>\n",
              "      <td>-69</td>\n",
              "      <td>-74</td>\n",
              "      <td>-74</td>\n",
              "      <td>-80</td>\n",
              "      <td>-82</td>\n",
              "      <td>-81</td>\n",
              "      <td>-80</td>\n",
              "      <td>-77</td>\n",
              "      <td>-85</td>\n",
              "      <td>-77</td>\n",
              "      <td>-72</td>\n",
              "      <td>-69</td>\n",
              "      <td>-65</td>\n",
              "      <td>5</td>\n",
              "    </tr>\n",
              "    <tr>\n",
              "      <th>4</th>\n",
              "      <td>X20.V1.54</td>\n",
              "      <td>-9</td>\n",
              "      <td>-65</td>\n",
              "      <td>-98</td>\n",
              "      <td>-102</td>\n",
              "      <td>-78</td>\n",
              "      <td>-48</td>\n",
              "      <td>-16</td>\n",
              "      <td>0</td>\n",
              "      <td>-21</td>\n",
              "      <td>-59</td>\n",
              "      <td>-90</td>\n",
              "      <td>-103</td>\n",
              "      <td>-84</td>\n",
              "      <td>-43</td>\n",
              "      <td>-9</td>\n",
              "      <td>3</td>\n",
              "      <td>-21</td>\n",
              "      <td>-60</td>\n",
              "      <td>-96</td>\n",
              "      <td>-103</td>\n",
              "      <td>-75</td>\n",
              "      <td>-29</td>\n",
              "      <td>14</td>\n",
              "      <td>55</td>\n",
              "      <td>78</td>\n",
              "      <td>73</td>\n",
              "      <td>28</td>\n",
              "      <td>-13</td>\n",
              "      <td>-43</td>\n",
              "      <td>-68</td>\n",
              "      <td>-78</td>\n",
              "      <td>-75</td>\n",
              "      <td>-55</td>\n",
              "      <td>-41</td>\n",
              "      <td>-19</td>\n",
              "      <td>-20</td>\n",
              "      <td>-29</td>\n",
              "      <td>-36</td>\n",
              "      <td>-20</td>\n",
              "      <td>...</td>\n",
              "      <td>38</td>\n",
              "      <td>26</td>\n",
              "      <td>10</td>\n",
              "      <td>-4</td>\n",
              "      <td>-13</td>\n",
              "      <td>-8</td>\n",
              "      <td>0</td>\n",
              "      <td>10</td>\n",
              "      <td>19</td>\n",
              "      <td>29</td>\n",
              "      <td>57</td>\n",
              "      <td>63</td>\n",
              "      <td>45</td>\n",
              "      <td>7</td>\n",
              "      <td>-13</td>\n",
              "      <td>-23</td>\n",
              "      <td>-9</td>\n",
              "      <td>9</td>\n",
              "      <td>11</td>\n",
              "      <td>3</td>\n",
              "      <td>-1</td>\n",
              "      <td>-2</td>\n",
              "      <td>4</td>\n",
              "      <td>18</td>\n",
              "      <td>27</td>\n",
              "      <td>27</td>\n",
              "      <td>14</td>\n",
              "      <td>15</td>\n",
              "      <td>11</td>\n",
              "      <td>10</td>\n",
              "      <td>4</td>\n",
              "      <td>2</td>\n",
              "      <td>-12</td>\n",
              "      <td>-32</td>\n",
              "      <td>-41</td>\n",
              "      <td>-65</td>\n",
              "      <td>-83</td>\n",
              "      <td>-89</td>\n",
              "      <td>-73</td>\n",
              "      <td>5</td>\n",
              "    </tr>\n",
              "  </tbody>\n",
              "</table>\n",
              "<p>5 rows × 180 columns</p>\n",
              "</div>"
            ],
            "text/plain": [
              "   Unnamed: 0   X1   X2   X3   X4   X5  ...  X174  X175  X176  X177  X178  y\n",
              "0  X21.V1.791  135  190  229  223  192  ...  -103  -127  -116   -83   -51  4\n",
              "1  X15.V1.924  386  382  356  331  320  ...   157   156   154   143   129  1\n",
              "2     X8.V1.1  -32  -39  -47  -37  -32  ...   -12   -30   -35   -35   -36  5\n",
              "3   X16.V1.60 -105 -101  -96  -92  -89  ...   -85   -77   -72   -69   -65  5\n",
              "4   X20.V1.54   -9  -65  -98 -102  -78  ...   -41   -65   -83   -89   -73  5\n",
              "\n",
              "[5 rows x 180 columns]"
            ]
          },
          "metadata": {
            "tags": []
          },
          "execution_count": 2
        }
      ]
    },
    {
      "cell_type": "code",
      "metadata": {
        "colab": {
          "base_uri": "https://localhost:8080/"
        },
        "id": "q-59rA9fqNuK",
        "outputId": "d15dc490-5458-48ba-f664-5913eba4d8b4"
      },
      "source": [
        "epilepsie_data.shape"
      ],
      "execution_count": null,
      "outputs": [
        {
          "output_type": "execute_result",
          "data": {
            "text/plain": [
              "(11500, 180)"
            ]
          },
          "metadata": {
            "tags": []
          },
          "execution_count": 3
        }
      ]
    },
    {
      "cell_type": "code",
      "metadata": {
        "id": "s_tG5IkIqZCX"
      },
      "source": [
        "features_names=list(epilepsie_data.columns)\n",
        "features_names"
      ],
      "execution_count": null,
      "outputs": []
    },
    {
      "cell_type": "code",
      "metadata": {
        "colab": {
          "base_uri": "https://localhost:8080/"
        },
        "id": "TcbhUnHzq643",
        "outputId": "4adf617b-b88e-40fb-b0e2-963a5076d028"
      },
      "source": [
        "epilepsie_data.info()"
      ],
      "execution_count": null,
      "outputs": [
        {
          "output_type": "stream",
          "text": [
            "<class 'pandas.core.frame.DataFrame'>\n",
            "RangeIndex: 11500 entries, 0 to 11499\n",
            "Columns: 180 entries, Unnamed: 0 to y\n",
            "dtypes: int64(179), object(1)\n",
            "memory usage: 15.8+ MB\n"
          ],
          "name": "stdout"
        }
      ]
    },
    {
      "cell_type": "code",
      "metadata": {
        "colab": {
          "base_uri": "https://localhost:8080/"
        },
        "id": "iJv_xWOhrBFo",
        "outputId": "f530401f-de25-43c2-d2e9-1ecbdce37fad"
      },
      "source": [
        "epilepsie_data.isnull().sum()"
      ],
      "execution_count": null,
      "outputs": [
        {
          "output_type": "execute_result",
          "data": {
            "text/plain": [
              "Unnamed: 0    0\n",
              "X1            0\n",
              "X2            0\n",
              "X3            0\n",
              "X4            0\n",
              "             ..\n",
              "X175          0\n",
              "X176          0\n",
              "X177          0\n",
              "X178          0\n",
              "y             0\n",
              "Length: 180, dtype: int64"
            ]
          },
          "metadata": {
            "tags": []
          },
          "execution_count": 5
        }
      ]
    },
    {
      "cell_type": "code",
      "metadata": {
        "colab": {
          "base_uri": "https://localhost:8080/",
          "height": 346
        },
        "id": "mN_MggT5rHDc",
        "outputId": "ee5b54d0-663d-4b26-ab53-675d887778e7"
      },
      "source": [
        "epilepsie_data.describe()"
      ],
      "execution_count": null,
      "outputs": [
        {
          "output_type": "execute_result",
          "data": {
            "text/html": [
              "<div>\n",
              "<style scoped>\n",
              "    .dataframe tbody tr th:only-of-type {\n",
              "        vertical-align: middle;\n",
              "    }\n",
              "\n",
              "    .dataframe tbody tr th {\n",
              "        vertical-align: top;\n",
              "    }\n",
              "\n",
              "    .dataframe thead th {\n",
              "        text-align: right;\n",
              "    }\n",
              "</style>\n",
              "<table border=\"1\" class=\"dataframe\">\n",
              "  <thead>\n",
              "    <tr style=\"text-align: right;\">\n",
              "      <th></th>\n",
              "      <th>X1</th>\n",
              "      <th>X2</th>\n",
              "      <th>X3</th>\n",
              "      <th>X4</th>\n",
              "      <th>X5</th>\n",
              "      <th>X6</th>\n",
              "      <th>X7</th>\n",
              "      <th>X8</th>\n",
              "      <th>X9</th>\n",
              "      <th>X10</th>\n",
              "      <th>X11</th>\n",
              "      <th>X12</th>\n",
              "      <th>X13</th>\n",
              "      <th>X14</th>\n",
              "      <th>X15</th>\n",
              "      <th>X16</th>\n",
              "      <th>X17</th>\n",
              "      <th>X18</th>\n",
              "      <th>X19</th>\n",
              "      <th>X20</th>\n",
              "      <th>X21</th>\n",
              "      <th>X22</th>\n",
              "      <th>X23</th>\n",
              "      <th>X24</th>\n",
              "      <th>X25</th>\n",
              "      <th>X26</th>\n",
              "      <th>X27</th>\n",
              "      <th>X28</th>\n",
              "      <th>X29</th>\n",
              "      <th>X30</th>\n",
              "      <th>X31</th>\n",
              "      <th>X32</th>\n",
              "      <th>X33</th>\n",
              "      <th>X34</th>\n",
              "      <th>X35</th>\n",
              "      <th>X36</th>\n",
              "      <th>X37</th>\n",
              "      <th>X38</th>\n",
              "      <th>X39</th>\n",
              "      <th>X40</th>\n",
              "      <th>...</th>\n",
              "      <th>X140</th>\n",
              "      <th>X141</th>\n",
              "      <th>X142</th>\n",
              "      <th>X143</th>\n",
              "      <th>X144</th>\n",
              "      <th>X145</th>\n",
              "      <th>X146</th>\n",
              "      <th>X147</th>\n",
              "      <th>X148</th>\n",
              "      <th>X149</th>\n",
              "      <th>X150</th>\n",
              "      <th>X151</th>\n",
              "      <th>X152</th>\n",
              "      <th>X153</th>\n",
              "      <th>X154</th>\n",
              "      <th>X155</th>\n",
              "      <th>X156</th>\n",
              "      <th>X157</th>\n",
              "      <th>X158</th>\n",
              "      <th>X159</th>\n",
              "      <th>X160</th>\n",
              "      <th>X161</th>\n",
              "      <th>X162</th>\n",
              "      <th>X163</th>\n",
              "      <th>X164</th>\n",
              "      <th>X165</th>\n",
              "      <th>X166</th>\n",
              "      <th>X167</th>\n",
              "      <th>X168</th>\n",
              "      <th>X169</th>\n",
              "      <th>X170</th>\n",
              "      <th>X171</th>\n",
              "      <th>X172</th>\n",
              "      <th>X173</th>\n",
              "      <th>X174</th>\n",
              "      <th>X175</th>\n",
              "      <th>X176</th>\n",
              "      <th>X177</th>\n",
              "      <th>X178</th>\n",
              "      <th>y</th>\n",
              "    </tr>\n",
              "  </thead>\n",
              "  <tbody>\n",
              "    <tr>\n",
              "      <th>count</th>\n",
              "      <td>11500.000000</td>\n",
              "      <td>11500.000000</td>\n",
              "      <td>11500.000000</td>\n",
              "      <td>11500.000000</td>\n",
              "      <td>11500.000000</td>\n",
              "      <td>11500.000000</td>\n",
              "      <td>11500.000000</td>\n",
              "      <td>11500.00000</td>\n",
              "      <td>11500.00000</td>\n",
              "      <td>11500.000000</td>\n",
              "      <td>11500.000000</td>\n",
              "      <td>11500.000000</td>\n",
              "      <td>11500.000000</td>\n",
              "      <td>11500.000000</td>\n",
              "      <td>11500.000000</td>\n",
              "      <td>11500.000000</td>\n",
              "      <td>11500.000000</td>\n",
              "      <td>11500.000000</td>\n",
              "      <td>11500.000000</td>\n",
              "      <td>11500.000000</td>\n",
              "      <td>11500.000000</td>\n",
              "      <td>11500.000000</td>\n",
              "      <td>11500.000000</td>\n",
              "      <td>11500.000000</td>\n",
              "      <td>11500.000000</td>\n",
              "      <td>11500.00000</td>\n",
              "      <td>11500.000000</td>\n",
              "      <td>11500.000000</td>\n",
              "      <td>11500.000000</td>\n",
              "      <td>11500.000000</td>\n",
              "      <td>11500.000000</td>\n",
              "      <td>11500.000000</td>\n",
              "      <td>11500.000000</td>\n",
              "      <td>11500.000000</td>\n",
              "      <td>11500.000000</td>\n",
              "      <td>11500.000000</td>\n",
              "      <td>11500.000000</td>\n",
              "      <td>11500.000000</td>\n",
              "      <td>11500.000000</td>\n",
              "      <td>11500.000000</td>\n",
              "      <td>...</td>\n",
              "      <td>11500.000000</td>\n",
              "      <td>11500.000000</td>\n",
              "      <td>11500.000000</td>\n",
              "      <td>11500.000000</td>\n",
              "      <td>11500.000000</td>\n",
              "      <td>11500.000000</td>\n",
              "      <td>11500.000000</td>\n",
              "      <td>11500.000000</td>\n",
              "      <td>11500.000000</td>\n",
              "      <td>11500.000000</td>\n",
              "      <td>11500.000000</td>\n",
              "      <td>11500.000000</td>\n",
              "      <td>11500.000000</td>\n",
              "      <td>11500.000000</td>\n",
              "      <td>11500.000000</td>\n",
              "      <td>11500.000000</td>\n",
              "      <td>11500.000000</td>\n",
              "      <td>11500.000000</td>\n",
              "      <td>11500.000000</td>\n",
              "      <td>11500.000000</td>\n",
              "      <td>11500.000000</td>\n",
              "      <td>11500.000000</td>\n",
              "      <td>11500.000000</td>\n",
              "      <td>11500.000000</td>\n",
              "      <td>11500.000000</td>\n",
              "      <td>11500.000000</td>\n",
              "      <td>11500.000000</td>\n",
              "      <td>11500.000000</td>\n",
              "      <td>11500.000000</td>\n",
              "      <td>11500.000000</td>\n",
              "      <td>11500.000000</td>\n",
              "      <td>11500.000000</td>\n",
              "      <td>11500.000000</td>\n",
              "      <td>11500.000000</td>\n",
              "      <td>11500.000000</td>\n",
              "      <td>11500.000000</td>\n",
              "      <td>11500.000000</td>\n",
              "      <td>11500.000000</td>\n",
              "      <td>11500.000000</td>\n",
              "      <td>11500.000000</td>\n",
              "    </tr>\n",
              "    <tr>\n",
              "      <th>mean</th>\n",
              "      <td>-11.581391</td>\n",
              "      <td>-10.911565</td>\n",
              "      <td>-10.187130</td>\n",
              "      <td>-9.143043</td>\n",
              "      <td>-8.009739</td>\n",
              "      <td>-7.003478</td>\n",
              "      <td>-6.502087</td>\n",
              "      <td>-6.68713</td>\n",
              "      <td>-6.55800</td>\n",
              "      <td>-6.168435</td>\n",
              "      <td>-5.827478</td>\n",
              "      <td>-6.042174</td>\n",
              "      <td>-6.687304</td>\n",
              "      <td>-7.088870</td>\n",
              "      <td>-7.211217</td>\n",
              "      <td>-7.088261</td>\n",
              "      <td>-6.806696</td>\n",
              "      <td>-6.744696</td>\n",
              "      <td>-6.484783</td>\n",
              "      <td>-6.448435</td>\n",
              "      <td>-6.355391</td>\n",
              "      <td>-6.543130</td>\n",
              "      <td>-6.884348</td>\n",
              "      <td>-6.883217</td>\n",
              "      <td>-6.118870</td>\n",
              "      <td>-5.15913</td>\n",
              "      <td>-4.785652</td>\n",
              "      <td>-4.874783</td>\n",
              "      <td>-5.393565</td>\n",
              "      <td>-5.935478</td>\n",
              "      <td>-6.349913</td>\n",
              "      <td>-6.212522</td>\n",
              "      <td>-5.859826</td>\n",
              "      <td>-5.299826</td>\n",
              "      <td>-4.955652</td>\n",
              "      <td>-5.278087</td>\n",
              "      <td>-6.162261</td>\n",
              "      <td>-7.316609</td>\n",
              "      <td>-7.998522</td>\n",
              "      <td>-7.818870</td>\n",
              "      <td>...</td>\n",
              "      <td>-6.997304</td>\n",
              "      <td>-7.339391</td>\n",
              "      <td>-7.911565</td>\n",
              "      <td>-8.177304</td>\n",
              "      <td>-8.608870</td>\n",
              "      <td>-8.578087</td>\n",
              "      <td>-8.240000</td>\n",
              "      <td>-7.691391</td>\n",
              "      <td>-7.356522</td>\n",
              "      <td>-7.228783</td>\n",
              "      <td>-6.980870</td>\n",
              "      <td>-6.756783</td>\n",
              "      <td>-6.355304</td>\n",
              "      <td>-6.423826</td>\n",
              "      <td>-6.465217</td>\n",
              "      <td>-6.316435</td>\n",
              "      <td>-5.808000</td>\n",
              "      <td>-5.255913</td>\n",
              "      <td>-4.682087</td>\n",
              "      <td>-4.638609</td>\n",
              "      <td>-4.770261</td>\n",
              "      <td>-5.650870</td>\n",
              "      <td>-7.170348</td>\n",
              "      <td>-8.759826</td>\n",
              "      <td>-9.784783</td>\n",
              "      <td>-10.096261</td>\n",
              "      <td>-9.842957</td>\n",
              "      <td>-9.701739</td>\n",
              "      <td>-9.351391</td>\n",
              "      <td>-9.498870</td>\n",
              "      <td>-10.145739</td>\n",
              "      <td>-11.630348</td>\n",
              "      <td>-12.943478</td>\n",
              "      <td>-13.668870</td>\n",
              "      <td>-13.363304</td>\n",
              "      <td>-13.045043</td>\n",
              "      <td>-12.705130</td>\n",
              "      <td>-12.426000</td>\n",
              "      <td>-12.195652</td>\n",
              "      <td>3.000000</td>\n",
              "    </tr>\n",
              "    <tr>\n",
              "      <th>std</th>\n",
              "      <td>165.626284</td>\n",
              "      <td>166.059609</td>\n",
              "      <td>163.524317</td>\n",
              "      <td>161.269041</td>\n",
              "      <td>160.998007</td>\n",
              "      <td>161.328725</td>\n",
              "      <td>161.467837</td>\n",
              "      <td>162.11912</td>\n",
              "      <td>162.03336</td>\n",
              "      <td>160.436352</td>\n",
              "      <td>160.471017</td>\n",
              "      <td>161.181118</td>\n",
              "      <td>165.071121</td>\n",
              "      <td>169.198359</td>\n",
              "      <td>170.641967</td>\n",
              "      <td>168.930355</td>\n",
              "      <td>164.646296</td>\n",
              "      <td>162.062661</td>\n",
              "      <td>162.571333</td>\n",
              "      <td>162.339911</td>\n",
              "      <td>162.823325</td>\n",
              "      <td>163.909723</td>\n",
              "      <td>165.844176</td>\n",
              "      <td>166.009100</td>\n",
              "      <td>164.715153</td>\n",
              "      <td>162.77423</td>\n",
              "      <td>162.902294</td>\n",
              "      <td>164.799831</td>\n",
              "      <td>165.391697</td>\n",
              "      <td>164.291120</td>\n",
              "      <td>163.165167</td>\n",
              "      <td>163.408052</td>\n",
              "      <td>163.561408</td>\n",
              "      <td>162.548119</td>\n",
              "      <td>160.813772</td>\n",
              "      <td>160.441049</td>\n",
              "      <td>162.881958</td>\n",
              "      <td>166.235164</td>\n",
              "      <td>166.314965</td>\n",
              "      <td>164.513017</td>\n",
              "      <td>...</td>\n",
              "      <td>168.567495</td>\n",
              "      <td>168.662705</td>\n",
              "      <td>167.643458</td>\n",
              "      <td>167.414439</td>\n",
              "      <td>167.922773</td>\n",
              "      <td>168.274009</td>\n",
              "      <td>167.808218</td>\n",
              "      <td>166.739558</td>\n",
              "      <td>165.678558</td>\n",
              "      <td>167.130911</td>\n",
              "      <td>168.156296</td>\n",
              "      <td>167.459868</td>\n",
              "      <td>165.061414</td>\n",
              "      <td>164.248830</td>\n",
              "      <td>166.226332</td>\n",
              "      <td>168.143625</td>\n",
              "      <td>167.067064</td>\n",
              "      <td>166.446540</td>\n",
              "      <td>167.554020</td>\n",
              "      <td>169.418457</td>\n",
              "      <td>170.639171</td>\n",
              "      <td>170.817824</td>\n",
              "      <td>168.145372</td>\n",
              "      <td>166.817974</td>\n",
              "      <td>166.999981</td>\n",
              "      <td>167.756860</td>\n",
              "      <td>166.988820</td>\n",
              "      <td>167.062497</td>\n",
              "      <td>166.606345</td>\n",
              "      <td>165.235574</td>\n",
              "      <td>164.652883</td>\n",
              "      <td>166.149790</td>\n",
              "      <td>168.554058</td>\n",
              "      <td>168.556486</td>\n",
              "      <td>167.257290</td>\n",
              "      <td>164.241019</td>\n",
              "      <td>162.895832</td>\n",
              "      <td>162.886311</td>\n",
              "      <td>164.852015</td>\n",
              "      <td>1.414275</td>\n",
              "    </tr>\n",
              "    <tr>\n",
              "      <th>min</th>\n",
              "      <td>-1839.000000</td>\n",
              "      <td>-1838.000000</td>\n",
              "      <td>-1835.000000</td>\n",
              "      <td>-1845.000000</td>\n",
              "      <td>-1791.000000</td>\n",
              "      <td>-1757.000000</td>\n",
              "      <td>-1832.000000</td>\n",
              "      <td>-1778.00000</td>\n",
              "      <td>-1840.00000</td>\n",
              "      <td>-1867.000000</td>\n",
              "      <td>-1765.000000</td>\n",
              "      <td>-1803.000000</td>\n",
              "      <td>-1833.000000</td>\n",
              "      <td>-1867.000000</td>\n",
              "      <td>-1870.000000</td>\n",
              "      <td>-1839.000000</td>\n",
              "      <td>-1867.000000</td>\n",
              "      <td>-1856.000000</td>\n",
              "      <td>-1844.000000</td>\n",
              "      <td>-1717.000000</td>\n",
              "      <td>-1764.000000</td>\n",
              "      <td>-1856.000000</td>\n",
              "      <td>-1844.000000</td>\n",
              "      <td>-1866.000000</td>\n",
              "      <td>-1863.000000</td>\n",
              "      <td>-1866.00000</td>\n",
              "      <td>-1781.000000</td>\n",
              "      <td>-1860.000000</td>\n",
              "      <td>-1818.000000</td>\n",
              "      <td>-1867.000000</td>\n",
              "      <td>-1743.000000</td>\n",
              "      <td>-1517.000000</td>\n",
              "      <td>-1552.000000</td>\n",
              "      <td>-1720.000000</td>\n",
              "      <td>-1864.000000</td>\n",
              "      <td>-1814.000000</td>\n",
              "      <td>-1829.000000</td>\n",
              "      <td>-1851.000000</td>\n",
              "      <td>-1840.000000</td>\n",
              "      <td>-1673.000000</td>\n",
              "      <td>...</td>\n",
              "      <td>-1867.000000</td>\n",
              "      <td>-1826.000000</td>\n",
              "      <td>-1866.000000</td>\n",
              "      <td>-1854.000000</td>\n",
              "      <td>-1789.000000</td>\n",
              "      <td>-1872.000000</td>\n",
              "      <td>-1866.000000</td>\n",
              "      <td>-1675.000000</td>\n",
              "      <td>-1778.000000</td>\n",
              "      <td>-1733.000000</td>\n",
              "      <td>-1862.000000</td>\n",
              "      <td>-1861.000000</td>\n",
              "      <td>-1857.000000</td>\n",
              "      <td>-1839.000000</td>\n",
              "      <td>-1860.000000</td>\n",
              "      <td>-1843.000000</td>\n",
              "      <td>-1863.000000</td>\n",
              "      <td>-1861.000000</td>\n",
              "      <td>-1845.000000</td>\n",
              "      <td>-1820.000000</td>\n",
              "      <td>-1864.000000</td>\n",
              "      <td>-1868.000000</td>\n",
              "      <td>-1855.000000</td>\n",
              "      <td>-1852.000000</td>\n",
              "      <td>-1870.000000</td>\n",
              "      <td>-1847.000000</td>\n",
              "      <td>-1578.000000</td>\n",
              "      <td>-1838.000000</td>\n",
              "      <td>-1763.000000</td>\n",
              "      <td>-1860.000000</td>\n",
              "      <td>-1867.000000</td>\n",
              "      <td>-1865.000000</td>\n",
              "      <td>-1642.000000</td>\n",
              "      <td>-1723.000000</td>\n",
              "      <td>-1866.000000</td>\n",
              "      <td>-1863.000000</td>\n",
              "      <td>-1781.000000</td>\n",
              "      <td>-1727.000000</td>\n",
              "      <td>-1829.000000</td>\n",
              "      <td>1.000000</td>\n",
              "    </tr>\n",
              "    <tr>\n",
              "      <th>25%</th>\n",
              "      <td>-54.000000</td>\n",
              "      <td>-55.000000</td>\n",
              "      <td>-54.000000</td>\n",
              "      <td>-54.000000</td>\n",
              "      <td>-54.000000</td>\n",
              "      <td>-54.000000</td>\n",
              "      <td>-54.000000</td>\n",
              "      <td>-55.00000</td>\n",
              "      <td>-55.00000</td>\n",
              "      <td>-54.000000</td>\n",
              "      <td>-54.000000</td>\n",
              "      <td>-54.000000</td>\n",
              "      <td>-54.000000</td>\n",
              "      <td>-54.000000</td>\n",
              "      <td>-53.000000</td>\n",
              "      <td>-53.000000</td>\n",
              "      <td>-53.000000</td>\n",
              "      <td>-52.000000</td>\n",
              "      <td>-53.000000</td>\n",
              "      <td>-53.000000</td>\n",
              "      <td>-53.000000</td>\n",
              "      <td>-53.000000</td>\n",
              "      <td>-53.000000</td>\n",
              "      <td>-52.000000</td>\n",
              "      <td>-52.000000</td>\n",
              "      <td>-52.00000</td>\n",
              "      <td>-51.000000</td>\n",
              "      <td>-50.000000</td>\n",
              "      <td>-50.000000</td>\n",
              "      <td>-50.000000</td>\n",
              "      <td>-51.000000</td>\n",
              "      <td>-52.000000</td>\n",
              "      <td>-52.000000</td>\n",
              "      <td>-51.000000</td>\n",
              "      <td>-51.000000</td>\n",
              "      <td>-51.000000</td>\n",
              "      <td>-51.000000</td>\n",
              "      <td>-51.000000</td>\n",
              "      <td>-52.000000</td>\n",
              "      <td>-52.000000</td>\n",
              "      <td>...</td>\n",
              "      <td>-54.000000</td>\n",
              "      <td>-55.000000</td>\n",
              "      <td>-55.000000</td>\n",
              "      <td>-56.000000</td>\n",
              "      <td>-56.000000</td>\n",
              "      <td>-56.000000</td>\n",
              "      <td>-55.000000</td>\n",
              "      <td>-57.000000</td>\n",
              "      <td>-55.000000</td>\n",
              "      <td>-55.000000</td>\n",
              "      <td>-54.000000</td>\n",
              "      <td>-54.000000</td>\n",
              "      <td>-53.000000</td>\n",
              "      <td>-53.000000</td>\n",
              "      <td>-53.000000</td>\n",
              "      <td>-52.000000</td>\n",
              "      <td>-52.250000</td>\n",
              "      <td>-52.000000</td>\n",
              "      <td>-52.000000</td>\n",
              "      <td>-53.000000</td>\n",
              "      <td>-52.000000</td>\n",
              "      <td>-52.000000</td>\n",
              "      <td>-52.000000</td>\n",
              "      <td>-53.000000</td>\n",
              "      <td>-54.000000</td>\n",
              "      <td>-54.000000</td>\n",
              "      <td>-55.000000</td>\n",
              "      <td>-55.000000</td>\n",
              "      <td>-55.000000</td>\n",
              "      <td>-55.000000</td>\n",
              "      <td>-55.000000</td>\n",
              "      <td>-56.000000</td>\n",
              "      <td>-56.000000</td>\n",
              "      <td>-56.000000</td>\n",
              "      <td>-55.000000</td>\n",
              "      <td>-56.000000</td>\n",
              "      <td>-55.000000</td>\n",
              "      <td>-55.000000</td>\n",
              "      <td>-55.000000</td>\n",
              "      <td>2.000000</td>\n",
              "    </tr>\n",
              "    <tr>\n",
              "      <th>50%</th>\n",
              "      <td>-8.000000</td>\n",
              "      <td>-8.000000</td>\n",
              "      <td>-7.000000</td>\n",
              "      <td>-8.000000</td>\n",
              "      <td>-8.000000</td>\n",
              "      <td>-8.000000</td>\n",
              "      <td>-8.000000</td>\n",
              "      <td>-8.00000</td>\n",
              "      <td>-7.00000</td>\n",
              "      <td>-7.000000</td>\n",
              "      <td>-8.000000</td>\n",
              "      <td>-8.000000</td>\n",
              "      <td>-8.000000</td>\n",
              "      <td>-8.000000</td>\n",
              "      <td>-7.000000</td>\n",
              "      <td>-7.000000</td>\n",
              "      <td>-6.000000</td>\n",
              "      <td>-7.000000</td>\n",
              "      <td>-6.000000</td>\n",
              "      <td>-6.000000</td>\n",
              "      <td>-7.000000</td>\n",
              "      <td>-6.000000</td>\n",
              "      <td>-6.000000</td>\n",
              "      <td>-7.000000</td>\n",
              "      <td>-7.000000</td>\n",
              "      <td>-6.00000</td>\n",
              "      <td>-6.000000</td>\n",
              "      <td>-6.000000</td>\n",
              "      <td>-5.000000</td>\n",
              "      <td>-5.000000</td>\n",
              "      <td>-5.000000</td>\n",
              "      <td>-6.000000</td>\n",
              "      <td>-6.000000</td>\n",
              "      <td>-6.000000</td>\n",
              "      <td>-6.000000</td>\n",
              "      <td>-6.000000</td>\n",
              "      <td>-6.000000</td>\n",
              "      <td>-6.000000</td>\n",
              "      <td>-7.000000</td>\n",
              "      <td>-7.000000</td>\n",
              "      <td>...</td>\n",
              "      <td>-7.000000</td>\n",
              "      <td>-8.000000</td>\n",
              "      <td>-8.000000</td>\n",
              "      <td>-8.000000</td>\n",
              "      <td>-8.000000</td>\n",
              "      <td>-8.000000</td>\n",
              "      <td>-8.000000</td>\n",
              "      <td>-9.000000</td>\n",
              "      <td>-9.000000</td>\n",
              "      <td>-9.000000</td>\n",
              "      <td>-8.000000</td>\n",
              "      <td>-8.000000</td>\n",
              "      <td>-7.000000</td>\n",
              "      <td>-7.000000</td>\n",
              "      <td>-7.000000</td>\n",
              "      <td>-7.000000</td>\n",
              "      <td>-7.000000</td>\n",
              "      <td>-7.000000</td>\n",
              "      <td>-7.000000</td>\n",
              "      <td>-7.000000</td>\n",
              "      <td>-6.000000</td>\n",
              "      <td>-7.000000</td>\n",
              "      <td>-7.000000</td>\n",
              "      <td>-7.000000</td>\n",
              "      <td>-8.000000</td>\n",
              "      <td>-8.000000</td>\n",
              "      <td>-9.000000</td>\n",
              "      <td>-9.000000</td>\n",
              "      <td>-8.000000</td>\n",
              "      <td>-8.000000</td>\n",
              "      <td>-9.000000</td>\n",
              "      <td>-10.000000</td>\n",
              "      <td>-10.000000</td>\n",
              "      <td>-10.000000</td>\n",
              "      <td>-10.000000</td>\n",
              "      <td>-9.000000</td>\n",
              "      <td>-9.000000</td>\n",
              "      <td>-9.000000</td>\n",
              "      <td>-9.000000</td>\n",
              "      <td>3.000000</td>\n",
              "    </tr>\n",
              "    <tr>\n",
              "      <th>75%</th>\n",
              "      <td>34.000000</td>\n",
              "      <td>35.000000</td>\n",
              "      <td>36.000000</td>\n",
              "      <td>36.000000</td>\n",
              "      <td>35.000000</td>\n",
              "      <td>36.000000</td>\n",
              "      <td>35.000000</td>\n",
              "      <td>36.00000</td>\n",
              "      <td>36.00000</td>\n",
              "      <td>35.250000</td>\n",
              "      <td>36.000000</td>\n",
              "      <td>35.000000</td>\n",
              "      <td>36.000000</td>\n",
              "      <td>37.000000</td>\n",
              "      <td>37.000000</td>\n",
              "      <td>38.000000</td>\n",
              "      <td>37.000000</td>\n",
              "      <td>38.000000</td>\n",
              "      <td>38.000000</td>\n",
              "      <td>39.000000</td>\n",
              "      <td>39.000000</td>\n",
              "      <td>38.000000</td>\n",
              "      <td>37.000000</td>\n",
              "      <td>38.000000</td>\n",
              "      <td>37.000000</td>\n",
              "      <td>38.00000</td>\n",
              "      <td>37.000000</td>\n",
              "      <td>38.250000</td>\n",
              "      <td>38.000000</td>\n",
              "      <td>38.000000</td>\n",
              "      <td>38.000000</td>\n",
              "      <td>38.000000</td>\n",
              "      <td>38.000000</td>\n",
              "      <td>38.000000</td>\n",
              "      <td>39.000000</td>\n",
              "      <td>39.000000</td>\n",
              "      <td>39.000000</td>\n",
              "      <td>38.000000</td>\n",
              "      <td>38.000000</td>\n",
              "      <td>37.000000</td>\n",
              "      <td>...</td>\n",
              "      <td>36.000000</td>\n",
              "      <td>35.000000</td>\n",
              "      <td>35.000000</td>\n",
              "      <td>35.000000</td>\n",
              "      <td>35.000000</td>\n",
              "      <td>35.000000</td>\n",
              "      <td>35.000000</td>\n",
              "      <td>35.000000</td>\n",
              "      <td>34.000000</td>\n",
              "      <td>35.000000</td>\n",
              "      <td>36.000000</td>\n",
              "      <td>36.000000</td>\n",
              "      <td>36.000000</td>\n",
              "      <td>37.000000</td>\n",
              "      <td>36.000000</td>\n",
              "      <td>36.000000</td>\n",
              "      <td>35.250000</td>\n",
              "      <td>36.000000</td>\n",
              "      <td>36.000000</td>\n",
              "      <td>37.000000</td>\n",
              "      <td>36.000000</td>\n",
              "      <td>36.000000</td>\n",
              "      <td>37.000000</td>\n",
              "      <td>35.000000</td>\n",
              "      <td>35.000000</td>\n",
              "      <td>34.000000</td>\n",
              "      <td>35.000000</td>\n",
              "      <td>35.000000</td>\n",
              "      <td>34.000000</td>\n",
              "      <td>35.000000</td>\n",
              "      <td>34.000000</td>\n",
              "      <td>34.000000</td>\n",
              "      <td>33.000000</td>\n",
              "      <td>33.000000</td>\n",
              "      <td>34.000000</td>\n",
              "      <td>34.000000</td>\n",
              "      <td>34.000000</td>\n",
              "      <td>34.000000</td>\n",
              "      <td>34.000000</td>\n",
              "      <td>4.000000</td>\n",
              "    </tr>\n",
              "    <tr>\n",
              "      <th>max</th>\n",
              "      <td>1726.000000</td>\n",
              "      <td>1713.000000</td>\n",
              "      <td>1697.000000</td>\n",
              "      <td>1612.000000</td>\n",
              "      <td>1518.000000</td>\n",
              "      <td>1816.000000</td>\n",
              "      <td>2047.000000</td>\n",
              "      <td>2047.00000</td>\n",
              "      <td>2047.00000</td>\n",
              "      <td>2047.000000</td>\n",
              "      <td>2047.000000</td>\n",
              "      <td>2047.000000</td>\n",
              "      <td>2047.000000</td>\n",
              "      <td>1829.000000</td>\n",
              "      <td>1631.000000</td>\n",
              "      <td>1532.000000</td>\n",
              "      <td>1441.000000</td>\n",
              "      <td>1352.000000</td>\n",
              "      <td>1504.000000</td>\n",
              "      <td>1821.000000</td>\n",
              "      <td>2022.000000</td>\n",
              "      <td>2047.000000</td>\n",
              "      <td>2040.000000</td>\n",
              "      <td>1879.000000</td>\n",
              "      <td>1666.000000</td>\n",
              "      <td>1435.00000</td>\n",
              "      <td>1340.000000</td>\n",
              "      <td>1257.000000</td>\n",
              "      <td>1452.000000</td>\n",
              "      <td>1551.000000</td>\n",
              "      <td>1446.000000</td>\n",
              "      <td>1381.000000</td>\n",
              "      <td>1259.000000</td>\n",
              "      <td>1213.000000</td>\n",
              "      <td>1364.000000</td>\n",
              "      <td>1220.000000</td>\n",
              "      <td>1304.000000</td>\n",
              "      <td>1344.000000</td>\n",
              "      <td>1298.000000</td>\n",
              "      <td>1518.000000</td>\n",
              "      <td>...</td>\n",
              "      <td>2047.000000</td>\n",
              "      <td>2047.000000</td>\n",
              "      <td>2047.000000</td>\n",
              "      <td>2045.000000</td>\n",
              "      <td>2047.000000</td>\n",
              "      <td>2047.000000</td>\n",
              "      <td>2047.000000</td>\n",
              "      <td>2047.000000</td>\n",
              "      <td>1934.000000</td>\n",
              "      <td>1644.000000</td>\n",
              "      <td>1524.000000</td>\n",
              "      <td>1565.000000</td>\n",
              "      <td>1682.000000</td>\n",
              "      <td>1977.000000</td>\n",
              "      <td>2047.000000</td>\n",
              "      <td>2047.000000</td>\n",
              "      <td>1902.000000</td>\n",
              "      <td>1681.000000</td>\n",
              "      <td>1502.000000</td>\n",
              "      <td>1314.000000</td>\n",
              "      <td>1431.000000</td>\n",
              "      <td>1543.000000</td>\n",
              "      <td>1556.000000</td>\n",
              "      <td>1597.000000</td>\n",
              "      <td>1629.000000</td>\n",
              "      <td>1726.000000</td>\n",
              "      <td>2047.000000</td>\n",
              "      <td>2047.000000</td>\n",
              "      <td>2047.000000</td>\n",
              "      <td>2047.000000</td>\n",
              "      <td>1777.000000</td>\n",
              "      <td>1472.000000</td>\n",
              "      <td>1319.000000</td>\n",
              "      <td>1436.000000</td>\n",
              "      <td>1733.000000</td>\n",
              "      <td>1958.000000</td>\n",
              "      <td>2047.000000</td>\n",
              "      <td>2047.000000</td>\n",
              "      <td>1915.000000</td>\n",
              "      <td>5.000000</td>\n",
              "    </tr>\n",
              "  </tbody>\n",
              "</table>\n",
              "<p>8 rows × 179 columns</p>\n",
              "</div>"
            ],
            "text/plain": [
              "                 X1            X2  ...          X178             y\n",
              "count  11500.000000  11500.000000  ...  11500.000000  11500.000000\n",
              "mean     -11.581391    -10.911565  ...    -12.195652      3.000000\n",
              "std      165.626284    166.059609  ...    164.852015      1.414275\n",
              "min    -1839.000000  -1838.000000  ...  -1829.000000      1.000000\n",
              "25%      -54.000000    -55.000000  ...    -55.000000      2.000000\n",
              "50%       -8.000000     -8.000000  ...     -9.000000      3.000000\n",
              "75%       34.000000     35.000000  ...     34.000000      4.000000\n",
              "max     1726.000000   1713.000000  ...   1915.000000      5.000000\n",
              "\n",
              "[8 rows x 179 columns]"
            ]
          },
          "metadata": {
            "tags": []
          },
          "execution_count": 6
        }
      ]
    },
    {
      "cell_type": "code",
      "metadata": {
        "colab": {
          "base_uri": "https://localhost:8080/"
        },
        "id": "T_uMTzLtrQAD",
        "outputId": "9de24003-f9e9-4f2a-a82d-6b9bfb0e2257"
      },
      "source": [
        "epilepsie_data['y'].value_counts()"
      ],
      "execution_count": null,
      "outputs": [
        {
          "output_type": "execute_result",
          "data": {
            "text/plain": [
              "5    2300\n",
              "4    2300\n",
              "3    2300\n",
              "2    2300\n",
              "1    2300\n",
              "Name: y, dtype: int64"
            ]
          },
          "metadata": {
            "tags": []
          },
          "execution_count": 7
        }
      ]
    },
    {
      "cell_type": "code",
      "metadata": {
        "colab": {
          "base_uri": "https://localhost:8080/"
        },
        "id": "w4eHWVcerUK4",
        "outputId": "17d9f6bd-b44f-4c63-ec66-c8f04f874a39"
      },
      "source": [
        "epilepsie_data['y'].value_counts(normalize=True)"
      ],
      "execution_count": null,
      "outputs": [
        {
          "output_type": "execute_result",
          "data": {
            "text/plain": [
              "5    0.2\n",
              "4    0.2\n",
              "3    0.2\n",
              "2    0.2\n",
              "1    0.2\n",
              "Name: y, dtype: float64"
            ]
          },
          "metadata": {
            "tags": []
          },
          "execution_count": 8
        }
      ]
    },
    {
      "cell_type": "code",
      "metadata": {
        "colab": {
          "base_uri": "https://localhost:8080/",
          "height": 282
        },
        "id": "zDM2n_sqrY-p",
        "outputId": "ec6f7d29-0af4-4cda-929c-3959296bfcca"
      },
      "source": [
        "plt.hist(epilepsie_data['y'],label='y')\n",
        "plt.legend()"
      ],
      "execution_count": null,
      "outputs": [
        {
          "output_type": "execute_result",
          "data": {
            "text/plain": [
              "<matplotlib.legend.Legend at 0x7f535f2907d0>"
            ]
          },
          "metadata": {
            "tags": []
          },
          "execution_count": 9
        },
        {
          "output_type": "display_data",
          "data": {
            "image/png": "[encoded data removed]",
            "text/plain": [
              "<Figure size 432x288 with 1 Axes>"
            ]
          },
          "metadata": {
            "tags": [],
            "needs_background": "light"
          }
        }
      ]
    },
    {
      "cell_type": "markdown",
      "metadata": {
        "id": "qXAo83GvGNny"
      },
      "source": [
        "#epilepsie courbes"
      ]
    },
    {
      "cell_type": "code",
      "metadata": {
        "id": "EPOuY-yL8Vlo"
      },
      "source": [
        "epilepsie_data=epilepsie_data.drop(['Unnamed: 0'],axis=1)"
      ],
      "execution_count": null,
      "outputs": []
    },
    {
      "cell_type": "code",
      "metadata": {
        "colab": {
          "base_uri": "https://localhost:8080/"
        },
        "id": "0dSPvMap8XX7",
        "outputId": "ecf82996-d54f-46d1-b3cd-a42d3b14d59f"
      },
      "source": [
        "epilepsie_data.shape"
      ],
      "execution_count": null,
      "outputs": [
        {
          "output_type": "execute_result",
          "data": {
            "text/plain": [
              "(11500, 179)"
            ]
          },
          "metadata": {
            "tags": []
          },
          "execution_count": 11
        }
      ]
    },
    {
      "cell_type": "code",
      "metadata": {
        "id": "s41FZ8-k8IVT"
      },
      "source": [
        "ep1=epilepsie_data[epilepsie_data.y==1]\n",
        "ep2=epilepsie_data[epilepsie_data.y==2]\n",
        "ep3=epilepsie_data[epilepsie_data.y==3]\n",
        "ep4=epilepsie_data[epilepsie_data.y==4]\n",
        "ep5=epilepsie_data[epilepsie_data.y==5]"
      ],
      "execution_count": null,
      "outputs": []
    },
    {
      "cell_type": "code",
      "metadata": {
        "id": "4C-ED3F29AwE"
      },
      "source": [
        "a=ep1.iloc[1]\n",
        "b=ep2.iloc[1]\n",
        "c=ep3.iloc[1]\n",
        "d=ep4.iloc[1]\n",
        "e=ep5.iloc[1]\n"
      ],
      "execution_count": null,
      "outputs": []
    },
    {
      "cell_type": "code",
      "metadata": {
        "colab": {
          "base_uri": "https://localhost:8080/"
        },
        "id": "lH_qqukN8HKz",
        "outputId": "baa3956d-cda9-4589-cbe0-20553098c054"
      },
      "source": [
        "a"
      ],
      "execution_count": null,
      "outputs": [
        {
          "output_type": "execute_result",
          "data": {
            "text/plain": [
              "X1     -278\n",
              "X2     -246\n",
              "X3     -215\n",
              "X4     -191\n",
              "X5     -177\n",
              "       ... \n",
              "X175   -174\n",
              "X176   -125\n",
              "X177    -79\n",
              "X178    -40\n",
              "y         1\n",
              "Name: 8, Length: 179, dtype: int64"
            ]
          },
          "metadata": {
            "tags": []
          },
          "execution_count": 17
        }
      ]
    },
    {
      "cell_type": "code",
      "metadata": {
        "colab": {
          "base_uri": "https://localhost:8080/",
          "height": 282
        },
        "id": "Z7X5CvluGVRq",
        "outputId": "7d040531-5398-4bc3-d98e-58a2c70f7560"
      },
      "source": [
        "plt.plot(a,color='red')\n",
        "plt.tight_layout\n",
        "plt.gca()\n",
        "plt.legend(['epilepsie'],loc='upper left')\n",
        "plt.show"
      ],
      "execution_count": null,
      "outputs": [
        {
          "output_type": "execute_result",
          "data": {
            "text/plain": [
              "<function matplotlib.pyplot.show>"
            ]
          },
          "metadata": {
            "tags": []
          },
          "execution_count": 18
        },
        {
          "output_type": "display_data",
          "data": {
            "image/png": "[encoded data removed]",
            "text/plain": [
              "<Figure size 432x288 with 1 Axes>"
            ]
          },
          "metadata": {
            "tags": [],
            "needs_background": "light"
          }
        }
      ]
    },
    {
      "cell_type": "code",
      "metadata": {
        "colab": {
          "base_uri": "https://localhost:8080/",
          "height": 282
        },
        "id": "sjmWeUwtGexs",
        "outputId": "d2281b6a-1c24-4ef6-f18c-c59df11f845e"
      },
      "source": [
        "plt.plot(b,color='blue')\n",
        "plt.tight_layout\n",
        "plt.gca()\n",
        "plt.legend(['first condition'],loc='upper left')\n",
        "plt.show"
      ],
      "execution_count": null,
      "outputs": [
        {
          "output_type": "execute_result",
          "data": {
            "text/plain": [
              "<function matplotlib.pyplot.show>"
            ]
          },
          "metadata": {
            "tags": []
          },
          "execution_count": 19
        },
        {
          "output_type": "display_data",
          "data": {
            "image/png": "[encoded data removed]",
            "text/plain": [
              "<Figure size 432x288 with 1 Axes>"
            ]
          },
          "metadata": {
            "tags": [],
            "needs_background": "light"
          }
        }
      ]
    },
    {
      "cell_type": "code",
      "metadata": {
        "colab": {
          "base_uri": "https://localhost:8080/",
          "height": 282
        },
        "id": "EMYPDv4mGq7L",
        "outputId": "b9f81446-fc91-4ecf-ded4-d0822e4f7f36"
      },
      "source": [
        "plt.plot(c,color='green')\n",
        "plt.tight_layout\n",
        "plt.gca()\n",
        "plt.legend(['second condition'],loc='upper left')\n",
        "plt.show"
      ],
      "execution_count": null,
      "outputs": [
        {
          "output_type": "execute_result",
          "data": {
            "text/plain": [
              "<function matplotlib.pyplot.show>"
            ]
          },
          "metadata": {
            "tags": []
          },
          "execution_count": 20
        },
        {
          "output_type": "display_data",
          "data": {
            "image/png": "[encoded data removed]",
            "text/plain": [
              "<Figure size 432x288 with 1 Axes>"
            ]
          },
          "metadata": {
            "tags": [],
            "needs_background": "light"
          }
        }
      ]
    },
    {
      "cell_type": "code",
      "metadata": {
        "colab": {
          "base_uri": "https://localhost:8080/",
          "height": 283
        },
        "id": "72MdnOmaG937",
        "outputId": "18143dd9-861b-4781-ac4f-f022cd7309fb"
      },
      "source": [
        "plt.plot(d,color='yellow')\n",
        "plt.tight_layout\n",
        "plt.gca()\n",
        "plt.legend(['third condition'],loc='upper left')\n",
        "plt.show"
      ],
      "execution_count": null,
      "outputs": [
        {
          "output_type": "execute_result",
          "data": {
            "text/plain": [
              "<function matplotlib.pyplot.show>"
            ]
          },
          "metadata": {
            "tags": []
          },
          "execution_count": 21
        },
        {
          "output_type": "display_data",
          "data": {
            "image/png": "[encoded data removed]",
            "text/plain": [
              "<Figure size 432x288 with 1 Axes>"
            ]
          },
          "metadata": {
            "tags": [],
            "needs_background": "light"
          }
        }
      ]
    },
    {
      "cell_type": "code",
      "metadata": {
        "colab": {
          "base_uri": "https://localhost:8080/",
          "height": 282
        },
        "id": "IOns_XkFHJHt",
        "outputId": "86078956-a984-49b3-f17a-35a88af93f8a"
      },
      "source": [
        "plt.plot(e,color='magenta')\n",
        "plt.tight_layout\n",
        "plt.gca()\n",
        "plt.legend(['fourth condition'],loc='upper left')\n",
        "plt.show"
      ],
      "execution_count": null,
      "outputs": [
        {
          "output_type": "execute_result",
          "data": {
            "text/plain": [
              "<function matplotlib.pyplot.show>"
            ]
          },
          "metadata": {
            "tags": []
          },
          "execution_count": 22
        },
        {
          "output_type": "display_data",
          "data": {
            "image/png": "[encoded data removed]",
            "text/plain": [
              "<Figure size 432x288 with 1 Axes>"
            ]
          },
          "metadata": {
            "tags": [],
            "needs_background": "light"
          }
        }
      ]
    },
    {
      "cell_type": "code",
      "metadata": {
        "colab": {
          "base_uri": "https://localhost:8080/",
          "height": 282
        },
        "id": "aGgwmLqr-0K8",
        "outputId": "7d3dd111-8394-414b-e2ee-ced943c9090d"
      },
      "source": [
        "plt.plot(a,color='red')\n",
        "plt.plot(b,color='blue')\n",
        "plt.plot(c,color='green')\n",
        "plt.plot(d,color='yellow')\n",
        "plt.plot(e,color='magenta')\n",
        "plt.tight_layout\n",
        "plt.gca()\n",
        "plt.legend(['epilepsie','first condition','second condition','third condition','fourth condition'],loc='upper left')\n",
        "plt.show"
      ],
      "execution_count": null,
      "outputs": [
        {
          "output_type": "execute_result",
          "data": {
            "text/plain": [
              "<function matplotlib.pyplot.show>"
            ]
          },
          "metadata": {
            "tags": []
          },
          "execution_count": 23
        },
        {
          "output_type": "display_data",
          "data": {
            "image/png": "[encoded data removed]",
            "text/plain": [
              "<Figure size 432x288 with 1 Axes>"
            ]
          },
          "metadata": {
            "tags": [],
            "needs_background": "light"
          }
        }
      ]
    },
    {
      "cell_type": "code",
      "metadata": {
        "colab": {
          "base_uri": "https://localhost:8080/",
          "height": 282
        },
        "id": "Jm3Ps_7gDr-1",
        "outputId": "9c81b01a-79e2-486a-9dc9-c8ad49d76672"
      },
      "source": [
        "fig,(ax1,ax2,ax3,ax4,ax5) = plt.subplots(nrows=5)\n",
        "ax1.plot(a,color='red')\n",
        "ax2.plot(b,color='blue')\n",
        "ax3.plot(c,color='green')\n",
        "ax4.plot(d,color='yellow')\n",
        "ax5.plot(e,color='magenta')\n",
        "plt.tight_layout\n",
        "plt.gca()\n",
        "plt.show"
      ],
      "execution_count": null,
      "outputs": [
        {
          "output_type": "execute_result",
          "data": {
            "text/plain": [
              "<function matplotlib.pyplot.show>"
            ]
          },
          "metadata": {
            "tags": []
          },
          "execution_count": 24
        },
        {
          "output_type": "display_data",
          "data": {
            "image/png": "[encoded data removed]",
            "text/plain": [
              "<Figure size 432x288 with 5 Axes>"
            ]
          },
          "metadata": {
            "tags": [],
            "needs_background": "light"
          }
        }
      ]
    },
    {
      "cell_type": "markdown",
      "metadata": {
        "id": "uGz4R4wJ9BMQ"
      },
      "source": [
        "#training"
      ]
    },
    {
      "cell_type": "code",
      "metadata": {
        "id": "e_EVPT9-woUq"
      },
      "source": [
        "X=epilepsie_data.iloc[:,0:178]\n",
        "Y=epilepsie_data['y']\n",
        "X=X.values\n",
        "Y=Y.values"
      ],
      "execution_count": null,
      "outputs": []
    },
    {
      "cell_type": "code",
      "metadata": {
        "colab": {
          "base_uri": "https://localhost:8080/"
        },
        "id": "3Y2I51eh9KBD",
        "outputId": "b3d2179b-8a55-4394-8555-ba58ad51bf39"
      },
      "source": [
        "Y"
      ],
      "execution_count": null,
      "outputs": [
        {
          "output_type": "execute_result",
          "data": {
            "text/plain": [
              "array([4, 1, 5, ..., 5, 3, 4])"
            ]
          },
          "metadata": {
            "tags": []
          },
          "execution_count": 13
        }
      ]
    },
    {
      "cell_type": "code",
      "metadata": {
        "id": "_oHfLUDF9ME1"
      },
      "source": [
        "Xtrain,Xtest,Ytrain,Ytest = train_test_split(X,Y,test_size=0.1,random_state=1)"
      ],
      "execution_count": null,
      "outputs": []
    },
    {
      "cell_type": "code",
      "metadata": {
        "colab": {
          "base_uri": "https://localhost:8080/"
        },
        "id": "7impMDzL9VAz",
        "outputId": "aa462d9d-e8a4-483f-8125-6435f82116f5"
      },
      "source": [
        "Xtrain.shape"
      ],
      "execution_count": null,
      "outputs": [
        {
          "output_type": "execute_result",
          "data": {
            "text/plain": [
              "(10350, 178)"
            ]
          },
          "metadata": {
            "tags": []
          },
          "execution_count": 15
        }
      ]
    },
    {
      "cell_type": "code",
      "metadata": {
        "id": "_hQmgZ_t9ZHK"
      },
      "source": [
        "Xtrain=Xtrain.reshape(Xtrain.shape[0],Xtrain.shape[1],1).astype('float32')\n",
        "Xtest=Xtest.reshape(Xtest.shape[0],Xtrain.shape[1],1).astype('float32')\n",
        "input_shape=(Xtrain.shape[1],1)"
      ],
      "execution_count": null,
      "outputs": []
    },
    {
      "cell_type": "code",
      "metadata": {
        "id": "e8YqmYDO9ank"
      },
      "source": [
        "Xtrain /=255.0\n",
        "Xtest /=255.0"
      ],
      "execution_count": null,
      "outputs": []
    },
    {
      "cell_type": "code",
      "metadata": {
        "colab": {
          "base_uri": "https://localhost:8080/"
        },
        "id": "S6tMep4X9hom",
        "outputId": "e0864486-ebb1-43f5-a512-08f4db11a1c0"
      },
      "source": [
        "Ytrain.shape"
      ],
      "execution_count": null,
      "outputs": [
        {
          "output_type": "execute_result",
          "data": {
            "text/plain": [
              "(10350,)"
            ]
          },
          "metadata": {
            "tags": []
          },
          "execution_count": 18
        }
      ]
    },
    {
      "cell_type": "code",
      "metadata": {
        "id": "d-Lf3myw9mAQ"
      },
      "source": [
        "Ytrain_one_hot = np_utils.to_categorical(Ytrain)\n",
        "Ytest_one_hot = np_utils.to_categorical(Ytest)"
      ],
      "execution_count": null,
      "outputs": []
    },
    {
      "cell_type": "markdown",
      "metadata": {
        "id": "TRtexHxa9oSJ"
      },
      "source": [
        "#CNN Model"
      ]
    },
    {
      "cell_type": "code",
      "metadata": {
        "id": "oKwq7KUd9qDi"
      },
      "source": [
        "model = Sequential()\n",
        "model.add(Conv1D(64,kernel_size=3,activation='relu',strides=1,input_shape=(Xtrain.shape[1],Xtrain.shape[2])))\n",
        "model.add(MaxPooling1D(pool_size=2,strides=2))\n",
        "\n",
        "model.add(Conv1D(128,kernel_size=3,activation='relu'))\n",
        "model.add(Conv1D(512,kernel_size=3,activation='relu'))\n",
        "model.add(Conv1D(1024,kernel_size=3,activation='relu'))\n",
        "\n",
        "model.add(Flatten())\n",
        "x = model.output\n",
        "x=Dense(256,activation='relu')(x)\n",
        "x=Dropout(0.3)(x)\n",
        "x=Dense(256,activation='relu')(x)\n",
        "#x=Dropout(0.3)(x)\n",
        "x=Dense(128,activation='relu')(x)\n",
        "#x=Dropout(0.2)(x)\n",
        "x=Dense(64,activation='relu')(x)\n",
        "\n",
        "prediction_layer = Dense(Ytrain_one_hot.shape[1], activation = 'softmax')(x)"
      ],
      "execution_count": null,
      "outputs": []
    },
    {
      "cell_type": "code",
      "metadata": {
        "id": "MOxEzOjW92aY"
      },
      "source": [
        "from keras.models import Model"
      ],
      "execution_count": null,
      "outputs": []
    },
    {
      "cell_type": "code",
      "metadata": {
        "id": "EZaoVT_U92pe"
      },
      "source": [
        "cnn_model = Model(inputs=model.input,outputs=prediction_layer)"
      ],
      "execution_count": null,
      "outputs": []
    },
    {
      "cell_type": "code",
      "metadata": {
        "colab": {
          "base_uri": "https://localhost:8080/"
        },
        "id": "ZBVYw7L-9_BI",
        "outputId": "cb914ae5-e974-40b2-ed1b-8aa9621bac43"
      },
      "source": [
        "cnn_model.summary()"
      ],
      "execution_count": null,
      "outputs": [
        {
          "output_type": "stream",
          "text": [
            "Model: \"model\"\n",
            "_________________________________________________________________\n",
            "Layer (type)                 Output Shape              Param #   \n",
            "=================================================================\n",
            "conv1d_input (InputLayer)    [(None, 178, 1)]          0         \n",
            "_________________________________________________________________\n",
            "conv1d (Conv1D)              (None, 176, 64)           256       \n",
            "_________________________________________________________________\n",
            "max_pooling1d (MaxPooling1D) (None, 88, 64)            0         \n",
            "_________________________________________________________________\n",
            "conv1d_1 (Conv1D)            (None, 86, 128)           24704     \n",
            "_________________________________________________________________\n",
            "conv1d_2 (Conv1D)            (None, 84, 512)           197120    \n",
            "_________________________________________________________________\n",
            "conv1d_3 (Conv1D)            (None, 82, 1024)          1573888   \n",
            "_________________________________________________________________\n",
            "flatten (Flatten)            (None, 83968)             0         \n",
            "_________________________________________________________________\n",
            "dense (Dense)                (None, 256)               21496064  \n",
            "_________________________________________________________________\n",
            "dropout (Dropout)            (None, 256)               0         \n",
            "_________________________________________________________________\n",
            "dense_1 (Dense)              (None, 256)               65792     \n",
            "_________________________________________________________________\n",
            "dense_2 (Dense)              (None, 128)               32896     \n",
            "_________________________________________________________________\n",
            "dense_3 (Dense)              (None, 64)                8256      \n",
            "_________________________________________________________________\n",
            "dense_4 (Dense)              (None, 6)                 390       \n",
            "=================================================================\n",
            "Total params: 23,399,366\n",
            "Trainable params: 23,399,366\n",
            "Non-trainable params: 0\n",
            "_________________________________________________________________\n"
          ],
          "name": "stdout"
        }
      ]
    },
    {
      "cell_type": "code",
      "metadata": {
        "id": "UdVD4Lml-B1N"
      },
      "source": [
        "cnn_model.compile(loss=keras.losses.categorical_crossentropy,optimizer=keras.optimizers.Adam(),metrics=['accuracy'])"
      ],
      "execution_count": null,
      "outputs": []
    },
    {
      "cell_type": "code",
      "metadata": {
        "id": "Co2Nr0zq-KBu"
      },
      "source": [
        "batch_size = 1350 #elements contains\n",
        "epochs = 50"
      ],
      "execution_count": null,
      "outputs": []
    },
    {
      "cell_type": "code",
      "metadata": {
        "colab": {
          "base_uri": "https://localhost:8080/"
        },
        "id": "xbeXPYjL-Oo_",
        "outputId": "00461dae-832c-438c-9bf0-6f0429f398d5"
      },
      "source": [
        "history = cnn_model.fit(Xtrain,Ytrain_one_hot,batch_size = batch_size,epochs=epochs,verbose=1,validation_data=(Xtest,Ytest_one_hot))"
      ],
      "execution_count": null,
      "outputs": [
        {
          "output_type": "stream",
          "text": [
            "Epoch 1/50\n",
            "8/8 [==============================] - 52s 740ms/step - loss: 1.6978 - accuracy: 0.2055 - val_loss: 1.5122 - val_accuracy: 0.2426\n",
            "Epoch 2/50\n",
            "8/8 [==============================] - 3s 348ms/step - loss: 1.4680 - accuracy: 0.2876 - val_loss: 1.3031 - val_accuracy: 0.3843\n",
            "Epoch 3/50\n",
            "8/8 [==============================] - 3s 350ms/step - loss: 1.2607 - accuracy: 0.4091 - val_loss: 1.1544 - val_accuracy: 0.4443\n",
            "Epoch 4/50\n",
            "8/8 [==============================] - 3s 350ms/step - loss: 1.1673 - accuracy: 0.4347 - val_loss: 1.0960 - val_accuracy: 0.4461\n",
            "Epoch 5/50\n",
            "8/8 [==============================] - 3s 351ms/step - loss: 1.0964 - accuracy: 0.4673 - val_loss: 1.0444 - val_accuracy: 0.4765\n",
            "Epoch 6/50\n",
            "8/8 [==============================] - 3s 354ms/step - loss: 1.0031 - accuracy: 0.5425 - val_loss: 0.8659 - val_accuracy: 0.6061\n",
            "Epoch 7/50\n",
            "8/8 [==============================] - 3s 355ms/step - loss: 0.8755 - accuracy: 0.6088 - val_loss: 0.8079 - val_accuracy: 0.6496\n",
            "Epoch 8/50\n",
            "8/8 [==============================] - 3s 356ms/step - loss: 0.8587 - accuracy: 0.6092 - val_loss: 0.8150 - val_accuracy: 0.6252\n",
            "Epoch 9/50\n",
            "8/8 [==============================] - 3s 356ms/step - loss: 0.8006 - accuracy: 0.6259 - val_loss: 0.7627 - val_accuracy: 0.6417\n",
            "Epoch 10/50\n",
            "8/8 [==============================] - 3s 357ms/step - loss: 0.7543 - accuracy: 0.6537 - val_loss: 0.7272 - val_accuracy: 0.6583\n",
            "Epoch 11/50\n",
            "8/8 [==============================] - 3s 359ms/step - loss: 0.7079 - accuracy: 0.6650 - val_loss: 0.7506 - val_accuracy: 0.6435\n",
            "Epoch 12/50\n",
            "8/8 [==============================] - 3s 359ms/step - loss: 0.6983 - accuracy: 0.6764 - val_loss: 0.6478 - val_accuracy: 0.7061\n",
            "Epoch 13/50\n",
            "8/8 [==============================] - 3s 360ms/step - loss: 0.6533 - accuracy: 0.6943 - val_loss: 0.6267 - val_accuracy: 0.6957\n",
            "Epoch 14/50\n",
            "8/8 [==============================] - 3s 361ms/step - loss: 0.6371 - accuracy: 0.6966 - val_loss: 0.6174 - val_accuracy: 0.7130\n",
            "Epoch 15/50\n",
            "8/8 [==============================] - 3s 360ms/step - loss: 0.6107 - accuracy: 0.7170 - val_loss: 0.6268 - val_accuracy: 0.7148\n",
            "Epoch 16/50\n",
            "8/8 [==============================] - 3s 363ms/step - loss: 0.5939 - accuracy: 0.7286 - val_loss: 0.6010 - val_accuracy: 0.7278\n",
            "Epoch 17/50\n",
            "8/8 [==============================] - 3s 364ms/step - loss: 0.5639 - accuracy: 0.7290 - val_loss: 0.5869 - val_accuracy: 0.7417\n",
            "Epoch 18/50\n",
            "8/8 [==============================] - 3s 364ms/step - loss: 0.5438 - accuracy: 0.7437 - val_loss: 0.5950 - val_accuracy: 0.7096\n",
            "Epoch 19/50\n",
            "8/8 [==============================] - 3s 364ms/step - loss: 0.5243 - accuracy: 0.7543 - val_loss: 0.6118 - val_accuracy: 0.7409\n",
            "Epoch 20/50\n",
            "8/8 [==============================] - 3s 365ms/step - loss: 0.5311 - accuracy: 0.7500 - val_loss: 0.5918 - val_accuracy: 0.7374\n",
            "Epoch 21/50\n",
            "8/8 [==============================] - 3s 365ms/step - loss: 0.5033 - accuracy: 0.7707 - val_loss: 0.5609 - val_accuracy: 0.7583\n",
            "Epoch 22/50\n",
            "8/8 [==============================] - 3s 365ms/step - loss: 0.4860 - accuracy: 0.7755 - val_loss: 0.5759 - val_accuracy: 0.7270\n",
            "Epoch 23/50\n",
            "8/8 [==============================] - 3s 365ms/step - loss: 0.4742 - accuracy: 0.7762 - val_loss: 0.5924 - val_accuracy: 0.7174\n",
            "Epoch 24/50\n",
            "8/8 [==============================] - 3s 365ms/step - loss: 0.4646 - accuracy: 0.7827 - val_loss: 0.5582 - val_accuracy: 0.7426\n",
            "Epoch 25/50\n",
            "8/8 [==============================] - 3s 367ms/step - loss: 0.4406 - accuracy: 0.7964 - val_loss: 0.5552 - val_accuracy: 0.7652\n",
            "Epoch 26/50\n",
            "8/8 [==============================] - 3s 365ms/step - loss: 0.4227 - accuracy: 0.8088 - val_loss: 0.5572 - val_accuracy: 0.7530\n",
            "Epoch 27/50\n",
            "8/8 [==============================] - 3s 367ms/step - loss: 0.4042 - accuracy: 0.8107 - val_loss: 0.5485 - val_accuracy: 0.7730\n",
            "Epoch 28/50\n",
            "8/8 [==============================] - 3s 367ms/step - loss: 0.3764 - accuracy: 0.8332 - val_loss: 0.5605 - val_accuracy: 0.7748\n",
            "Epoch 29/50\n",
            "8/8 [==============================] - 3s 368ms/step - loss: 0.3714 - accuracy: 0.8331 - val_loss: 0.5958 - val_accuracy: 0.7496\n",
            "Epoch 30/50\n",
            "8/8 [==============================] - 3s 370ms/step - loss: 0.3612 - accuracy: 0.8401 - val_loss: 0.5578 - val_accuracy: 0.7791\n",
            "Epoch 31/50\n",
            "8/8 [==============================] - 3s 368ms/step - loss: 0.3295 - accuracy: 0.8559 - val_loss: 0.5780 - val_accuracy: 0.7843\n",
            "Epoch 32/50\n",
            "8/8 [==============================] - 3s 370ms/step - loss: 0.3033 - accuracy: 0.8658 - val_loss: 0.6090 - val_accuracy: 0.7643\n",
            "Epoch 33/50\n",
            "8/8 [==============================] - 3s 372ms/step - loss: 0.2867 - accuracy: 0.8744 - val_loss: 0.6294 - val_accuracy: 0.7678\n",
            "Epoch 34/50\n",
            "8/8 [==============================] - 3s 372ms/step - loss: 0.2671 - accuracy: 0.8879 - val_loss: 0.6591 - val_accuracy: 0.7652\n",
            "Epoch 35/50\n",
            "8/8 [==============================] - 3s 373ms/step - loss: 0.2414 - accuracy: 0.8947 - val_loss: 0.7018 - val_accuracy: 0.7678\n",
            "Epoch 36/50\n",
            "8/8 [==============================] - 3s 373ms/step - loss: 0.2471 - accuracy: 0.8945 - val_loss: 0.6283 - val_accuracy: 0.7626\n",
            "Epoch 37/50\n",
            "8/8 [==============================] - 3s 372ms/step - loss: 0.2316 - accuracy: 0.8998 - val_loss: 0.7491 - val_accuracy: 0.7826\n",
            "Epoch 38/50\n",
            "8/8 [==============================] - 3s 373ms/step - loss: 0.1956 - accuracy: 0.9164 - val_loss: 0.7162 - val_accuracy: 0.7678\n",
            "Epoch 39/50\n",
            "8/8 [==============================] - 3s 372ms/step - loss: 0.1925 - accuracy: 0.9221 - val_loss: 0.7929 - val_accuracy: 0.7626\n",
            "Epoch 40/50\n",
            "8/8 [==============================] - 3s 374ms/step - loss: 0.1617 - accuracy: 0.9349 - val_loss: 0.8541 - val_accuracy: 0.7661\n",
            "Epoch 41/50\n",
            "8/8 [==============================] - 3s 375ms/step - loss: 0.1638 - accuracy: 0.9314 - val_loss: 0.8837 - val_accuracy: 0.7617\n",
            "Epoch 42/50\n",
            "8/8 [==============================] - 3s 375ms/step - loss: 0.1584 - accuracy: 0.9363 - val_loss: 0.8630 - val_accuracy: 0.7635\n",
            "Epoch 43/50\n",
            "8/8 [==============================] - 3s 374ms/step - loss: 0.1525 - accuracy: 0.9332 - val_loss: 0.8904 - val_accuracy: 0.7774\n",
            "Epoch 44/50\n",
            "8/8 [==============================] - 3s 376ms/step - loss: 0.1335 - accuracy: 0.9464 - val_loss: 0.9633 - val_accuracy: 0.7574\n",
            "Epoch 45/50\n",
            "8/8 [==============================] - 3s 376ms/step - loss: 0.1406 - accuracy: 0.9465 - val_loss: 0.8806 - val_accuracy: 0.7704\n",
            "Epoch 46/50\n",
            "8/8 [==============================] - 3s 376ms/step - loss: 0.1264 - accuracy: 0.9522 - val_loss: 0.9313 - val_accuracy: 0.7739\n",
            "Epoch 47/50\n",
            "8/8 [==============================] - 3s 378ms/step - loss: 0.1116 - accuracy: 0.9583 - val_loss: 0.9484 - val_accuracy: 0.7887\n",
            "Epoch 48/50\n",
            "8/8 [==============================] - 3s 376ms/step - loss: 0.0977 - accuracy: 0.9615 - val_loss: 1.0142 - val_accuracy: 0.7670\n",
            "Epoch 49/50\n",
            "8/8 [==============================] - 3s 377ms/step - loss: 0.0873 - accuracy: 0.9659 - val_loss: 1.0276 - val_accuracy: 0.7835\n",
            "Epoch 50/50\n",
            "8/8 [==============================] - 3s 377ms/step - loss: 0.0923 - accuracy: 0.9672 - val_loss: 0.9360 - val_accuracy: 0.7800\n"
          ],
          "name": "stdout"
        }
      ]
    },
    {
      "cell_type": "code",
      "metadata": {
        "colab": {
          "base_uri": "https://localhost:8080/"
        },
        "id": "O4exw0II_hQy",
        "outputId": "ced19546-4977-4fb3-d608-740aa3c206e8"
      },
      "source": [
        "score = cnn_model.evaluate(Xtrain,Ytrain_one_hot,verbose=0)\n",
        "print('test loss = ',score[0])\n",
        "print('accuracy = ',score[1])"
      ],
      "execution_count": null,
      "outputs": [
        {
          "output_type": "stream",
          "text": [
            "test loss =  0.03722545504570007\n",
            "accuracy =  0.990241527557373\n"
          ],
          "name": "stdout"
        }
      ]
    },
    {
      "cell_type": "code",
      "metadata": {
        "colab": {
          "base_uri": "https://localhost:8080/"
        },
        "id": "vKhSY13XAAgv",
        "outputId": "0989bd9b-db91-47d6-9087-3dfbc1a2c0e9"
      },
      "source": [
        "score = cnn_model.evaluate(Xtest,Ytest_one_hot,verbose=0)\n",
        "print('test loss = ',score[0])\n",
        "print('accuracy = ',score[1])"
      ],
      "execution_count": null,
      "outputs": [
        {
          "output_type": "stream",
          "text": [
            "test loss =  0.9360040426254272\n",
            "accuracy =  0.7799999713897705\n"
          ],
          "name": "stdout"
        }
      ]
    },
    {
      "cell_type": "code",
      "metadata": {
        "colab": {
          "base_uri": "https://localhost:8080/",
          "height": 332
        },
        "id": "k2BlRQFZAwaG",
        "outputId": "2136dc53-2b44-4702-f277-7db499a9f7b6"
      },
      "source": [
        "print(history.history)\n",
        "plt.plot(history.history['accuracy'])\n",
        "plt.plot(history.history['val_accuracy'])\n",
        "plt.title('model accuracy')\n",
        "plt.ylabel('accuracy')\n",
        "plt.xlabel('epoch')\n",
        "plt.legend(['train','test'],loc='upper left')\n",
        "#plt.legend(['test'],loc='upper left')\n",
        "plt.show()"
      ],
      "execution_count": null,
      "outputs": [
        {
          "output_type": "stream",
          "text": [
            "{'loss': [1.6372325420379639, 1.442889928817749, 1.2276533842086792, 1.1543673276901245, 1.0898562669754028, 0.9821904301643372, 0.8701655864715576, 0.8423497080802917, 0.7838202714920044, 0.7501137852668762, 0.7001420855522156, 0.6772566437721252, 0.6443241834640503, 0.6275506019592285, 0.6097805500030518, 0.5927028059959412, 0.5612557530403137, 0.5408840775489807, 0.5288870334625244, 0.5352251529693604, 0.4996238052845001, 0.4852984547615051, 0.4713105261325836, 0.4635380804538727, 0.442868173122406, 0.41972798109054565, 0.39880603551864624, 0.3764794170856476, 0.371965616941452, 0.3671131730079651, 0.3312860131263733, 0.3043529689311981, 0.279487282037735, 0.2651140093803406, 0.24789902567863464, 0.2530571222305298, 0.22574138641357422, 0.1965179592370987, 0.186724454164505, 0.16231192648410797, 0.16537822782993317, 0.157863050699234, 0.15275394916534424, 0.13373936712741852, 0.14166568219661713, 0.12522755563259125, 0.10983233153820038, 0.09537149220705032, 0.09162032604217529, 0.10105940699577332], 'accuracy': [0.21971014142036438, 0.3199999928474426, 0.41922706365585327, 0.4434782564640045, 0.468502402305603, 0.555362343788147, 0.6120772957801819, 0.6153623461723328, 0.6419323682785034, 0.6572946906089783, 0.6725603938102722, 0.689082145690918, 0.6996135115623474, 0.7025120854377747, 0.718357503414154, 0.727053165435791, 0.7345893979072571, 0.7453140020370483, 0.7528502345085144, 0.7493720054626465, 0.7714009881019592, 0.7756521701812744, 0.7789372205734253, 0.7825120687484741, 0.7950724363327026, 0.8071497678756714, 0.8172946572303772, 0.8309178948402405, 0.8319807052612305, 0.8349758386611938, 0.8514009714126587, 0.8651207685470581, 0.8777777552604675, 0.8871497511863708, 0.8884057998657227, 0.8911111354827881, 0.9007729291915894, 0.9161352515220642, 0.9241545796394348, 0.9342029094696045, 0.9313043355941772, 0.9366183280944824, 0.9340096712112427, 0.9448308944702148, 0.9458937048912048, 0.95333331823349, 0.9576811790466309, 0.9624154567718506, 0.9642512202262878, 0.9628019332885742], 'val_loss': [1.512247920036316, 1.3031233549118042, 1.1543583869934082, 1.095993161201477, 1.0443836450576782, 0.8659486174583435, 0.8078781962394714, 0.8149872422218323, 0.7626502513885498, 0.7272443771362305, 0.7505965232849121, 0.6477819681167603, 0.6267036199569702, 0.6174404621124268, 0.6267968416213989, 0.6009679436683655, 0.5868809223175049, 0.5950415134429932, 0.6118041276931763, 0.5917973518371582, 0.5608654022216797, 0.5758870244026184, 0.592391312122345, 0.5582047700881958, 0.5551797151565552, 0.5571683049201965, 0.5485063195228577, 0.5605376958847046, 0.5958350896835327, 0.5577753186225891, 0.5780217051506042, 0.6090497374534607, 0.62941974401474, 0.6590502858161926, 0.7017989158630371, 0.6283075213432312, 0.7490739822387695, 0.7161866426467896, 0.7928929924964905, 0.8541371822357178, 0.883650004863739, 0.8629655838012695, 0.8904378414154053, 0.9633377194404602, 0.8805837631225586, 0.9313191175460815, 0.9483504295349121, 1.0141533613204956, 1.0276457071304321, 0.9360039234161377], 'val_accuracy': [0.2426086962223053, 0.3843478262424469, 0.4443478286266327, 0.44608694314956665, 0.47652173042297363, 0.6060869693756104, 0.6495652198791504, 0.6252173781394958, 0.6417391300201416, 0.6582608819007874, 0.643478274345398, 0.7060869336128235, 0.695652186870575, 0.7130434513092041, 0.7147825956344604, 0.7278260588645935, 0.7417391538619995, 0.7095652222633362, 0.7408695816993713, 0.7373912930488586, 0.7582608461380005, 0.7269565463066101, 0.717391312122345, 0.7426086664199829, 0.7652173638343811, 0.7530434727668762, 0.7730434536933899, 0.7747825980186462, 0.7495652437210083, 0.7791304588317871, 0.7843478322029114, 0.7643478512763977, 0.7678260803222656, 0.7652173638343811, 0.7678260803222656, 0.7626087069511414, 0.782608687877655, 0.7678260803222656, 0.7626087069511414, 0.7660869359970093, 0.7617391347885132, 0.7634782791137695, 0.7773913145065308, 0.7573913335800171, 0.7704347968101501, 0.7739130258560181, 0.7886956334114075, 0.7669565081596375, 0.7834782600402832, 0.7799999713897705]}\n"
          ],
          "name": "stdout"
        },
        {
          "output_type": "display_data",
          "data": {
            "image/png": "[encoded data removed]",
            "text/plain": [
              "<Figure size 432x288 with 1 Axes>"
            ]
          },
          "metadata": {
            "tags": [],
            "needs_background": "light"
          }
        }
      ]
    },
    {
      "cell_type": "code",
      "metadata": {
        "colab": {
          "base_uri": "https://localhost:8080/",
          "height": 295
        },
        "id": "RF6hytp4A6nq",
        "outputId": "61b79758-be8a-46d0-8f80-1d5d56756b43"
      },
      "source": [
        "plt.plot(history.history['loss'])\n",
        "plt.plot(history.history['val_loss'])\n",
        "plt.title('model loss')\n",
        "plt.ylabel('loss')\n",
        "plt.xlabel('epoch')\n",
        "plt.legend(['train','test'],loc='upper left')\n",
        "plt.show()"
      ],
      "execution_count": null,
      "outputs": [
        {
          "output_type": "display_data",
          "data": {
            "image/png": "[encoded data removed]",
            "text/plain": [
              "<Figure size 432x288 with 1 Axes>"
            ]
          },
          "metadata": {
            "tags": [],
            "needs_background": "light"
          }
        }
      ]
    },
    {
      "cell_type": "code",
      "metadata": {
        "id": "PwmOpUKBG8oM"
      },
      "source": [
        "y_pred = cnn_model.predict(Xtest)\n",
        "y_pred = np.argmax(y_pred,axis=-1)"
      ],
      "execution_count": null,
      "outputs": []
    },
    {
      "cell_type": "code",
      "metadata": {
        "id": "FJIAHLb4HGJs"
      },
      "source": [
        "from sklearn.metrics import confusion_matrix, classification_report"
      ],
      "execution_count": null,
      "outputs": []
    },
    {
      "cell_type": "code",
      "metadata": {
        "id": "Xvws5zBqHQJ_"
      },
      "source": [
        "cm = confusion_matrix(Ytest, y_pred)"
      ],
      "execution_count": null,
      "outputs": []
    },
    {
      "cell_type": "code",
      "metadata": {
        "colab": {
          "base_uri": "https://localhost:8080/",
          "height": 282
        },
        "id": "4qsFMVomHUFH",
        "outputId": "022b9c00-6bd9-4af7-ee3a-771f010ee534"
      },
      "source": [
        "sns.heatmap(cm,annot=True,fmt='g')"
      ],
      "execution_count": null,
      "outputs": [
        {
          "output_type": "execute_result",
          "data": {
            "text/plain": [
              "<matplotlib.axes._subplots.AxesSubplot at 0x7f5300621510>"
            ]
          },
          "metadata": {
            "tags": []
          },
          "execution_count": 34
        },
        {
          "output_type": "display_data",
          "data": {
            "image/png": "[encoded data removed]",
            "text/plain": [
              "<Figure size 432x288 with 2 Axes>"
            ]
          },
          "metadata": {
            "tags": [],
            "needs_background": "light"
          }
        }
      ]
    },
    {
      "cell_type": "code",
      "metadata": {
        "colab": {
          "base_uri": "https://localhost:8080/",
          "height": 296
        },
        "id": "mv3BrfavwHYB",
        "outputId": "c0bcb0ac-def1-4b13-850d-ffba87f00993"
      },
      "source": [
        "incorr_fraction = 1 - np.diag(cm) / np.sum(cm, axis=1)\n",
        "plt.bar(np.arange(5), incorr_fraction)\n",
        "plt.xlabel('True Label')\n",
        "plt.ylabel('Fraction of incorrect predictions')"
      ],
      "execution_count": null,
      "outputs": [
        {
          "output_type": "execute_result",
          "data": {
            "text/plain": [
              "Text(0, 0.5, 'Fraction of incorrect predictions')"
            ]
          },
          "metadata": {
            "tags": []
          },
          "execution_count": 35
        },
        {
          "output_type": "display_data",
          "data": {
            "image/png": "[encoded data removed]",
            "text/plain": [
              "<Figure size 432x288 with 1 Axes>"
            ]
          },
          "metadata": {
            "tags": [],
            "needs_background": "light"
          }
        }
      ]
    },
    {
      "cell_type": "code",
      "metadata": {
        "colab": {
          "base_uri": "https://localhost:8080/"
        },
        "id": "6aKFsdNKNLy1",
        "outputId": "002b12ae-3fee-43f6-d1cf-c2a7a94ffa2a"
      },
      "source": [
        "cp = classification_report(Ytest,y_pred)\n",
        "print(cp)\n",
        "#print(classification_report(Ytrain_one_hot,y_pred))"
      ],
      "execution_count": null,
      "outputs": [
        {
          "output_type": "stream",
          "text": [
            "              precision    recall  f1-score   support\n",
            "\n",
            "           1       0.98      0.97      0.97       241\n",
            "           2       0.73      0.75      0.74       250\n",
            "           3       0.69      0.66      0.68       217\n",
            "           4       0.79      0.69      0.74       204\n",
            "           5       0.71      0.81      0.76       238\n",
            "\n",
            "    accuracy                           0.78      1150\n",
            "   macro avg       0.78      0.78      0.78      1150\n",
            "weighted avg       0.78      0.78      0.78      1150\n",
            "\n"
          ],
          "name": "stdout"
        }
      ]
    },
    {
      "cell_type": "markdown",
      "metadata": {
        "id": "rmS4NenOHX_G"
      },
      "source": [
        "#CNN_LSTM_Model"
      ]
    },
    {
      "cell_type": "code",
      "metadata": {
        "id": "JRWfzRYPHaV4"
      },
      "source": [
        "from keras.layers import LSTM"
      ],
      "execution_count": null,
      "outputs": []
    },
    {
      "cell_type": "code",
      "metadata": {
        "id": "dKsavTzDHfXS"
      },
      "source": [
        "model_LSTM = Sequential()\n",
        "model_LSTM.add(Conv1D(64,kernel_size=3,activation='relu',strides=1,input_shape=(Xtrain.shape[1],Xtrain.shape[2])))\n",
        "model_LSTM.add(MaxPooling1D(pool_size=2,strides=2))\n",
        "\n",
        "model_LSTM.add(Conv1D(128,kernel_size=3,activation='relu'))\n",
        "model_LSTM.add(Conv1D(512,kernel_size=3,activation='relu'))\n",
        "model_LSTM.add(Conv1D(1024,kernel_size=3,activation='relu'))\n",
        "\n",
        "#model.add(Flatten())\n",
        "model_LSTM.add(Dense(256,activation='relu'))\n",
        "model_LSTM.add(Dropout(0.2))\n",
        "model_LSTM.add(LSTM(64,activation='tanh',return_sequences=True))\n",
        "model_LSTM.add(LSTM(64,activation='tanh'))\n",
        "model_LSTM.add(Dense(256,activation='relu'))\n",
        "model_LSTM.add(Dense(128,activation='relu'))\n",
        "model_LSTM.add(Dense(64,activation='relu'))\n",
        "model_LSTM.add(Dense(Ytrain_one_hot.shape[1], activation = 'softmax'))\n"
      ],
      "execution_count": null,
      "outputs": []
    },
    {
      "cell_type": "code",
      "metadata": {
        "colab": {
          "base_uri": "https://localhost:8080/"
        },
        "id": "279V4dHveECL",
        "outputId": "359644ff-9355-428b-cec6-b6965670fa9d"
      },
      "source": [
        "model_LSTM.summary()"
      ],
      "execution_count": null,
      "outputs": [
        {
          "output_type": "stream",
          "text": [
            "Model: \"sequential_1\"\n",
            "_________________________________________________________________\n",
            "Layer (type)                 Output Shape              Param #   \n",
            "=================================================================\n",
            "conv1d_4 (Conv1D)            (None, 176, 64)           256       \n",
            "_________________________________________________________________\n",
            "max_pooling1d_1 (MaxPooling1 (None, 88, 64)            0         \n",
            "_________________________________________________________________\n",
            "conv1d_5 (Conv1D)            (None, 86, 128)           24704     \n",
            "_________________________________________________________________\n",
            "conv1d_6 (Conv1D)            (None, 84, 512)           197120    \n",
            "_________________________________________________________________\n",
            "conv1d_7 (Conv1D)            (None, 82, 1024)          1573888   \n",
            "_________________________________________________________________\n",
            "dense_5 (Dense)              (None, 82, 256)           262400    \n",
            "_________________________________________________________________\n",
            "dropout_1 (Dropout)          (None, 82, 256)           0         \n",
            "_________________________________________________________________\n",
            "lstm (LSTM)                  (None, 82, 64)            82176     \n",
            "_________________________________________________________________\n",
            "lstm_1 (LSTM)                (None, 64)                33024     \n",
            "_________________________________________________________________\n",
            "dense_6 (Dense)              (None, 256)               16640     \n",
            "_________________________________________________________________\n",
            "dense_7 (Dense)              (None, 128)               32896     \n",
            "_________________________________________________________________\n",
            "dense_8 (Dense)              (None, 64)                8256      \n",
            "_________________________________________________________________\n",
            "dense_9 (Dense)              (None, 6)                 390       \n",
            "=================================================================\n",
            "Total params: 2,231,750\n",
            "Trainable params: 2,231,750\n",
            "Non-trainable params: 0\n",
            "_________________________________________________________________\n"
          ],
          "name": "stdout"
        }
      ]
    },
    {
      "cell_type": "code",
      "metadata": {
        "id": "4VeDskmwHorC"
      },
      "source": [
        "model_LSTM.compile(loss=keras.losses.categorical_crossentropy,optimizer=keras.optimizers.Adam(),metrics=['accuracy'])"
      ],
      "execution_count": null,
      "outputs": []
    },
    {
      "cell_type": "code",
      "metadata": {
        "id": "i2HIlF8jHtv-"
      },
      "source": [
        "batch_size = 1350 #elements contains\n",
        "epochs = 50"
      ],
      "execution_count": null,
      "outputs": []
    },
    {
      "cell_type": "code",
      "metadata": {
        "colab": {
          "base_uri": "https://localhost:8080/"
        },
        "id": "OvC8s1tpHxfm",
        "outputId": "cb103042-fb4b-47e4-bb42-128e830a6239"
      },
      "source": [
        "history_LSTM = model_LSTM.fit(Xtrain,Ytrain_one_hot,batch_size = batch_size,epochs=epochs,verbose=1,validation_data=(Xtest,Ytest_one_hot))"
      ],
      "execution_count": null,
      "outputs": [
        {
          "output_type": "stream",
          "text": [
            "Epoch 1/50\n",
            "8/8 [==============================] - 11s 536ms/step - loss: 1.7344 - accuracy: 0.2105 - val_loss: 1.5144 - val_accuracy: 0.2504\n",
            "Epoch 2/50\n",
            "8/8 [==============================] - 3s 406ms/step - loss: 1.4706 - accuracy: 0.3339 - val_loss: 1.2980 - val_accuracy: 0.4357\n",
            "Epoch 3/50\n",
            "8/8 [==============================] - 3s 406ms/step - loss: 1.2662 - accuracy: 0.4385 - val_loss: 1.2744 - val_accuracy: 0.3974\n",
            "Epoch 4/50\n",
            "8/8 [==============================] - 3s 405ms/step - loss: 1.1974 - accuracy: 0.4546 - val_loss: 1.0933 - val_accuracy: 0.4983\n",
            "Epoch 5/50\n",
            "8/8 [==============================] - 3s 408ms/step - loss: 1.0173 - accuracy: 0.5439 - val_loss: 1.0351 - val_accuracy: 0.5296\n",
            "Epoch 7/50\n",
            "8/8 [==============================] - 3s 409ms/step - loss: 0.9972 - accuracy: 0.5537 - val_loss: 1.0326 - val_accuracy: 0.5287\n",
            "Epoch 8/50\n",
            "8/8 [==============================] - 3s 411ms/step - loss: 0.9625 - accuracy: 0.5806 - val_loss: 0.9054 - val_accuracy: 0.6017\n",
            "Epoch 9/50\n",
            "8/8 [==============================] - 3s 411ms/step - loss: 0.9143 - accuracy: 0.6009 - val_loss: 0.9587 - val_accuracy: 0.5522\n",
            "Epoch 10/50\n",
            "8/8 [==============================] - 3s 413ms/step - loss: 0.9075 - accuracy: 0.5990 - val_loss: 0.8650 - val_accuracy: 0.5948\n",
            "Epoch 11/50\n",
            "8/8 [==============================] - 3s 414ms/step - loss: 0.8198 - accuracy: 0.6309 - val_loss: 0.7867 - val_accuracy: 0.6357\n",
            "Epoch 12/50\n",
            "8/8 [==============================] - 3s 415ms/step - loss: 0.7631 - accuracy: 0.6557 - val_loss: 0.7932 - val_accuracy: 0.6322\n",
            "Epoch 13/50\n",
            "8/8 [==============================] - 3s 417ms/step - loss: 0.7365 - accuracy: 0.6637 - val_loss: 0.7659 - val_accuracy: 0.6487\n",
            "Epoch 14/50\n",
            "8/8 [==============================] - 3s 416ms/step - loss: 0.7485 - accuracy: 0.6618 - val_loss: 0.7345 - val_accuracy: 0.6530\n",
            "Epoch 15/50\n",
            "8/8 [==============================] - 3s 417ms/step - loss: 0.7003 - accuracy: 0.6758 - val_loss: 0.6849 - val_accuracy: 0.6600\n",
            "Epoch 16/50\n",
            "8/8 [==============================] - 3s 417ms/step - loss: 0.6740 - accuracy: 0.6887 - val_loss: 0.6751 - val_accuracy: 0.6852\n",
            "Epoch 17/50\n",
            "8/8 [==============================] - 3s 417ms/step - loss: 0.6600 - accuracy: 0.6917 - val_loss: 0.6630 - val_accuracy: 0.6939\n",
            "Epoch 18/50\n",
            "8/8 [==============================] - 3s 419ms/step - loss: 0.6357 - accuracy: 0.7082 - val_loss: 0.6502 - val_accuracy: 0.7000\n",
            "Epoch 19/50\n",
            "8/8 [==============================] - 3s 419ms/step - loss: 0.6524 - accuracy: 0.6980 - val_loss: 0.8021 - val_accuracy: 0.6339\n",
            "Epoch 20/50\n",
            "8/8 [==============================] - 3s 419ms/step - loss: 0.6693 - accuracy: 0.6891 - val_loss: 0.7349 - val_accuracy: 0.6443\n",
            "Epoch 21/50\n",
            "8/8 [==============================] - 3s 420ms/step - loss: 0.6576 - accuracy: 0.6874 - val_loss: 0.7157 - val_accuracy: 0.6539\n",
            "Epoch 22/50\n",
            "8/8 [==============================] - 3s 423ms/step - loss: 0.6334 - accuracy: 0.7069 - val_loss: 0.6271 - val_accuracy: 0.7035\n",
            "Epoch 23/50\n",
            "8/8 [==============================] - 3s 422ms/step - loss: 0.6087 - accuracy: 0.7179 - val_loss: 0.6382 - val_accuracy: 0.7000\n",
            "Epoch 24/50\n",
            "8/8 [==============================] - 3s 425ms/step - loss: 0.5995 - accuracy: 0.7193 - val_loss: 0.6603 - val_accuracy: 0.6930\n",
            "Epoch 25/50\n",
            "8/8 [==============================] - 3s 424ms/step - loss: 0.5998 - accuracy: 0.7122 - val_loss: 0.6303 - val_accuracy: 0.6896\n",
            "Epoch 26/50\n",
            "8/8 [==============================] - 3s 424ms/step - loss: 0.5952 - accuracy: 0.7177 - val_loss: 0.6209 - val_accuracy: 0.7078\n",
            "Epoch 27/50\n",
            "8/8 [==============================] - 3s 425ms/step - loss: 0.5852 - accuracy: 0.7137 - val_loss: 0.5944 - val_accuracy: 0.7200\n",
            "Epoch 28/50\n",
            "8/8 [==============================] - 3s 424ms/step - loss: 0.5719 - accuracy: 0.7292 - val_loss: 0.6021 - val_accuracy: 0.7200\n",
            "Epoch 29/50\n",
            "8/8 [==============================] - 3s 426ms/step - loss: 0.5564 - accuracy: 0.7338 - val_loss: 0.5922 - val_accuracy: 0.7191\n",
            "Epoch 30/50\n",
            "8/8 [==============================] - 3s 425ms/step - loss: 0.5695 - accuracy: 0.7275 - val_loss: 0.6019 - val_accuracy: 0.7191\n",
            "Epoch 31/50\n",
            "8/8 [==============================] - 3s 427ms/step - loss: 0.5667 - accuracy: 0.7282 - val_loss: 0.5898 - val_accuracy: 0.7209\n",
            "Epoch 32/50\n",
            "8/8 [==============================] - 3s 425ms/step - loss: 0.5731 - accuracy: 0.7290 - val_loss: 0.5985 - val_accuracy: 0.7183\n",
            "Epoch 33/50\n",
            "8/8 [==============================] - 3s 426ms/step - loss: 0.5600 - accuracy: 0.7351 - val_loss: 0.5894 - val_accuracy: 0.7070\n",
            "Epoch 34/50\n",
            "8/8 [==============================] - 3s 428ms/step - loss: 0.5571 - accuracy: 0.7373 - val_loss: 0.5896 - val_accuracy: 0.7061\n",
            "Epoch 35/50\n",
            "8/8 [==============================] - 3s 428ms/step - loss: 0.5620 - accuracy: 0.7280 - val_loss: 0.5728 - val_accuracy: 0.7243\n",
            "Epoch 36/50\n",
            "8/8 [==============================] - 3s 428ms/step - loss: 0.5575 - accuracy: 0.7399 - val_loss: 0.5780 - val_accuracy: 0.7296\n",
            "Epoch 37/50\n",
            "8/8 [==============================] - 3s 429ms/step - loss: 0.5555 - accuracy: 0.7406 - val_loss: 0.6358 - val_accuracy: 0.7061\n",
            "Epoch 38/50\n",
            "8/8 [==============================] - 3s 428ms/step - loss: 0.5884 - accuracy: 0.7233 - val_loss: 0.5930 - val_accuracy: 0.7270\n",
            "Epoch 39/50\n",
            "8/8 [==============================] - 3s 430ms/step - loss: 0.5442 - accuracy: 0.7404 - val_loss: 0.5629 - val_accuracy: 0.7365\n",
            "Epoch 40/50\n",
            "8/8 [==============================] - 3s 431ms/step - loss: 0.5349 - accuracy: 0.7489 - val_loss: 0.5894 - val_accuracy: 0.7070\n",
            "Epoch 41/50\n",
            "8/8 [==============================] - 3s 431ms/step - loss: 0.5524 - accuracy: 0.7411 - val_loss: 0.5741 - val_accuracy: 0.7435\n",
            "Epoch 42/50\n",
            "8/8 [==============================] - 3s 431ms/step - loss: 0.5358 - accuracy: 0.7519 - val_loss: 0.5847 - val_accuracy: 0.7113\n",
            "Epoch 43/50\n",
            "8/8 [==============================] - 3s 432ms/step - loss: 0.5537 - accuracy: 0.7371 - val_loss: 0.5682 - val_accuracy: 0.7400\n",
            "Epoch 44/50\n",
            "8/8 [==============================] - 3s 431ms/step - loss: 0.5345 - accuracy: 0.7510 - val_loss: 0.5529 - val_accuracy: 0.7504\n",
            "Epoch 45/50\n",
            "8/8 [==============================] - 3s 433ms/step - loss: 0.5238 - accuracy: 0.7517 - val_loss: 0.5399 - val_accuracy: 0.7583\n",
            "Epoch 46/50\n",
            "8/8 [==============================] - 3s 432ms/step - loss: 0.5146 - accuracy: 0.7616 - val_loss: 0.5652 - val_accuracy: 0.7374\n",
            "Epoch 47/50\n",
            "8/8 [==============================] - 3s 432ms/step - loss: 0.5069 - accuracy: 0.7684 - val_loss: 0.5549 - val_accuracy: 0.7461\n",
            "Epoch 48/50\n",
            "8/8 [==============================] - 3s 432ms/step - loss: 0.5157 - accuracy: 0.7667 - val_loss: 0.5583 - val_accuracy: 0.7435\n",
            "Epoch 49/50\n",
            "8/8 [==============================] - 3s 432ms/step - loss: 0.5051 - accuracy: 0.7639 - val_loss: 0.5359 - val_accuracy: 0.7635\n",
            "Epoch 50/50\n",
            "8/8 [==============================] - 3s 433ms/step - loss: 0.5036 - accuracy: 0.7617 - val_loss: 0.5290 - val_accuracy: 0.7609\n"
          ],
          "name": "stdout"
        }
      ]
    },
    {
      "cell_type": "code",
      "metadata": {
        "colab": {
          "base_uri": "https://localhost:8080/"
        },
        "id": "NLlI-gzDIzog",
        "outputId": "c23f08e9-684a-47e0-b1a1-2f13fa99a211"
      },
      "source": [
        "score = model_LSTM.evaluate(Xtrain,Ytrain_one_hot,verbose=0)\n",
        "print('test loss = ',score[0])\n",
        "print('accuracy = ',score[1])"
      ],
      "execution_count": null,
      "outputs": [
        {
          "output_type": "stream",
          "text": [
            "test loss =  0.49550455808639526\n",
            "accuracy =  0.7718840837478638\n"
          ],
          "name": "stdout"
        }
      ]
    },
    {
      "cell_type": "code",
      "metadata": {
        "colab": {
          "base_uri": "https://localhost:8080/"
        },
        "id": "gqqO_8sjI7G8",
        "outputId": "b22eefc3-6a2d-4b1f-d486-8e867d5eef8a"
      },
      "source": [
        "score = model_LSTM.evaluate(Xtest,Ytest_one_hot,verbose=0)\n",
        "print('test loss = ',score[0])\n",
        "print('accuracy = ',score[1])"
      ],
      "execution_count": null,
      "outputs": [
        {
          "output_type": "stream",
          "text": [
            "test loss =  0.5290066003799438\n",
            "accuracy =  0.760869562625885\n"
          ],
          "name": "stdout"
        }
      ]
    },
    {
      "cell_type": "code",
      "metadata": {
        "colab": {
          "base_uri": "https://localhost:8080/",
          "height": 295
        },
        "id": "T2FyXvITJBdK",
        "outputId": "933f9884-2d59-49dd-8d37-ef898911dd54"
      },
      "source": [
        "#print(history_LSTM.history)\n",
        "plt.plot(history_LSTM.history['accuracy'])\n",
        "plt.plot(history_LSTM.history['val_accuracy'])\n",
        "plt.title('model accuracy')\n",
        "plt.ylabel('accuracy')\n",
        "plt.xlabel('epoch')\n",
        "plt.legend(['train','test'],loc='upper left')\n",
        "#plt.legend(['test'],loc='upper left')\n",
        "plt.show()"
      ],
      "execution_count": null,
      "outputs": [
        {
          "output_type": "display_data",
          "data": {
            "image/png": "[encoded data removed]",
            "text/plain": [
              "<Figure size 432x288 with 1 Axes>"
            ]
          },
          "metadata": {
            "tags": [],
            "needs_background": "light"
          }
        }
      ]
    },
    {
      "cell_type": "code",
      "metadata": {
        "colab": {
          "base_uri": "https://localhost:8080/",
          "height": 295
        },
        "id": "ay7_7pEhJI-m",
        "outputId": "64fa8462-ec4a-4bd6-ae99-7894f4282c87"
      },
      "source": [
        "plt.plot(history_LSTM.history['loss'])\n",
        "plt.plot(history_LSTM.history['val_loss'])\n",
        "plt.title('model loss')\n",
        "plt.ylabel('loss')\n",
        "plt.xlabel('epoch')\n",
        "plt.legend(['train','test'],loc='upper left')\n",
        "plt.show()"
      ],
      "execution_count": null,
      "outputs": [
        {
          "output_type": "display_data",
          "data": {
            "image/png": "[encoded data removed]",
            "text/plain": [
              "<Figure size 432x288 with 1 Axes>"
            ]
          },
          "metadata": {
            "tags": [],
            "needs_background": "light"
          }
        }
      ]
    },
    {
      "cell_type": "code",
      "metadata": {
        "id": "2y7qVwyPJQOK"
      },
      "source": [
        "y_pred = model_LSTM.predict(Xtest)\n",
        "y_pred = np.argmax(y_pred,axis=-1)"
      ],
      "execution_count": null,
      "outputs": []
    },
    {
      "cell_type": "code",
      "metadata": {
        "colab": {
          "base_uri": "https://localhost:8080/"
        },
        "id": "afD1pk-yJTe0",
        "outputId": "a5bb9cc8-89da-4a43-ace9-b41511f622a2"
      },
      "source": [
        "cm = confusion_matrix(Ytest, y_pred)\n",
        "print(cm)"
      ],
      "execution_count": null,
      "outputs": [
        {
          "output_type": "stream",
          "text": [
            "[[234   5   1   1   0]\n",
            " [  3 145  91   1  10]\n",
            " [  2  50 151   3  11]\n",
            " [  0   4   3 147  50]\n",
            " [  0   7  11  22 198]]\n"
          ],
          "name": "stdout"
        }
      ]
    },
    {
      "cell_type": "code",
      "metadata": {
        "colab": {
          "base_uri": "https://localhost:8080/",
          "height": 282
        },
        "id": "94tnQrO2JhUb",
        "outputId": "b502f73e-fa55-41c4-86cd-543d9a8d29a3"
      },
      "source": [
        "sns.heatmap(cm,annot=True,fmt='g')"
      ],
      "execution_count": null,
      "outputs": [
        {
          "output_type": "execute_result",
          "data": {
            "text/plain": [
              "<matplotlib.axes._subplots.AxesSubplot at 0x7f530cb3a110>"
            ]
          },
          "metadata": {
            "tags": []
          },
          "execution_count": 49
        },
        {
          "output_type": "display_data",
          "data": {
            "image/png": "[encoded data removed]",
            "text/plain": [
              "<Figure size 432x288 with 2 Axes>"
            ]
          },
          "metadata": {
            "tags": [],
            "needs_background": "light"
          }
        }
      ]
    },
    {
      "cell_type": "code",
      "metadata": {
        "colab": {
          "base_uri": "https://localhost:8080/",
          "height": 296
        },
        "id": "LHI1CbO8xmlX",
        "outputId": "05424d92-a7f7-402a-c229-3380333c7aa3"
      },
      "source": [
        "incorr_fraction = 1 - np.diag(cm) / np.sum(cm, axis=1)\n",
        "plt.bar(np.arange(5), incorr_fraction)\n",
        "plt.xlabel('True Label')\n",
        "plt.ylabel('Fraction of incorrect predictions')"
      ],
      "execution_count": null,
      "outputs": [
        {
          "output_type": "execute_result",
          "data": {
            "text/plain": [
              "Text(0, 0.5, 'Fraction of incorrect predictions')"
            ]
          },
          "metadata": {
            "tags": []
          },
          "execution_count": 50
        },
        {
          "output_type": "display_data",
          "data": {
            "image/png": "[encoded data removed]",
            "text/plain": [
              "<Figure size 432x288 with 1 Axes>"
            ]
          },
          "metadata": {
            "tags": [],
            "needs_background": "light"
          }
        }
      ]
    },
    {
      "cell_type": "code",
      "metadata": {
        "colab": {
          "base_uri": "https://localhost:8080/"
        },
        "id": "eJLA0BLcSki-",
        "outputId": "08bed32e-a489-4f0c-be15-1ba28b733586"
      },
      "source": [
        "cp = classification_report(Ytest,y_pred)\n",
        "print(cp)"
      ],
      "execution_count": null,
      "outputs": [
        {
          "output_type": "stream",
          "text": [
            "              precision    recall  f1-score   support\n",
            "\n",
            "           1       0.98      0.97      0.98       241\n",
            "           2       0.69      0.58      0.63       250\n",
            "           3       0.59      0.70      0.64       217\n",
            "           4       0.84      0.72      0.78       204\n",
            "           5       0.74      0.83      0.78       238\n",
            "\n",
            "    accuracy                           0.76      1150\n",
            "   macro avg       0.77      0.76      0.76      1150\n",
            "weighted avg       0.77      0.76      0.76      1150\n",
            "\n"
          ],
          "name": "stdout"
        }
      ]
    },
    {
      "cell_type": "markdown",
      "metadata": {
        "id": "5RrOaDG8Jo_X"
      },
      "source": [
        "#CNN & CNN_LSTM Courbe"
      ]
    },
    {
      "cell_type": "code",
      "metadata": {
        "colab": {
          "base_uri": "https://localhost:8080/",
          "height": 295
        },
        "id": "0rC5pkyXJs9e",
        "outputId": "dc702da3-5c6a-4008-c2fa-aefe45d739e2"
      },
      "source": [
        "plt.plot(history_LSTM.history['val_accuracy'])\n",
        "plt.plot(history.history['val_accuracy'])\n",
        "plt.title('model accuracy')\n",
        "plt.ylabel('accuracy')\n",
        "plt.xlabel('epoch')\n",
        "plt.legend(['CNN_LSTM_Model','CNN_Model'],loc='upper left')\n",
        "plt.show()"
      ],
      "execution_count": null,
      "outputs": [
        {
          "output_type": "display_data",
          "data": {
            "image/png": "[encoded data removed]",
            "text/plain": [
              "<Figure size 432x288 with 1 Axes>"
            ]
          },
          "metadata": {
            "tags": [],
            "needs_background": "light"
          }
        }
      ]
    },
    {
      "cell_type": "code",
      "metadata": {
        "colab": {
          "base_uri": "https://localhost:8080/",
          "height": 295
        },
        "id": "qndRzUttJ2y0",
        "outputId": "b37848a3-69b3-4854-e257-a60aa7cec59a"
      },
      "source": [
        "plt.plot(history_LSTM.history['val_loss'])\n",
        "plt.plot(history.history['val_loss'])\n",
        "plt.title('model loss')\n",
        "plt.ylabel('loss')\n",
        "plt.xlabel('epoch')\n",
        "plt.legend(['CNN_LSTM_Model','CNN_Model'],loc='upper left')\n",
        "plt.show()"
      ],
      "execution_count": null,
      "outputs": [
        {
          "output_type": "display_data",
          "data": {
            "image/png": "[encoded data removed]",
            "text/plain": [
              "<Figure size 432x288 with 1 Axes>"
            ]
          },
          "metadata": {
            "tags": [],
            "needs_background": "light"
          }
        }
      ]
    },
    {
      "cell_type": "markdown",
      "metadata": {
        "id": "zqE83qAVJ9AS"
      },
      "source": [
        "#CNN_SVM"
      ]
    },
    {
      "cell_type": "code",
      "metadata": {
        "id": "YuO2kBW2J6Cx"
      },
      "source": [
        "X_for_SVM = cnn_model.predict(Xtrain)"
      ],
      "execution_count": null,
      "outputs": []
    },
    {
      "cell_type": "code",
      "metadata": {
        "id": "endgPtXQKJw4"
      },
      "source": [
        "from sklearn.svm import SVC"
      ],
      "execution_count": null,
      "outputs": []
    },
    {
      "cell_type": "code",
      "metadata": {
        "id": "gzrYCEbGKNbD"
      },
      "source": [
        "SVM_model = SVC(gamma='auto',C=150,kernel='linear')"
      ],
      "execution_count": null,
      "outputs": []
    },
    {
      "cell_type": "code",
      "metadata": {
        "colab": {
          "base_uri": "https://localhost:8080/"
        },
        "id": "6fTuxMkjKQ8V",
        "outputId": "a38682ab-c675-4c67-ce33-3c0e452b91e2"
      },
      "source": [
        "SVM_model.fit(X_for_SVM,Ytrain)"
      ],
      "execution_count": null,
      "outputs": [
        {
          "output_type": "execute_result",
          "data": {
            "text/plain": [
              "SVC(C=150, break_ties=False, cache_size=200, class_weight=None, coef0=0.0,\n",
              "    decision_function_shape='ovr', degree=3, gamma='auto', kernel='linear',\n",
              "    max_iter=-1, probability=False, random_state=None, shrinking=True,\n",
              "    tol=0.001, verbose=False)"
            ]
          },
          "metadata": {
            "tags": []
          },
          "execution_count": 57
        }
      ]
    },
    {
      "cell_type": "code",
      "metadata": {
        "id": "lE1X0VibKRL1"
      },
      "source": [
        "X_test_features = cnn_model.predict(Xtest)"
      ],
      "execution_count": null,
      "outputs": []
    },
    {
      "cell_type": "code",
      "metadata": {
        "id": "gZ4hs1TwWTQ5"
      },
      "source": [
        "prediction_SVM = SVM_model.predict(X_test_features)"
      ],
      "execution_count": null,
      "outputs": []
    },
    {
      "cell_type": "code",
      "metadata": {
        "id": "PiRtG42PWYFS"
      },
      "source": [
        "from sklearn import metrics"
      ],
      "execution_count": null,
      "outputs": []
    },
    {
      "cell_type": "code",
      "metadata": {
        "colab": {
          "base_uri": "https://localhost:8080/"
        },
        "id": "oaYo5aoOWbtj",
        "outputId": "56c0d4dd-92d9-4f65-a4f4-894dfebc7fb6"
      },
      "source": [
        "print (\"Accuracy = \", metrics.accuracy_score(Ytest, prediction_SVM))"
      ],
      "execution_count": null,
      "outputs": [
        {
          "output_type": "stream",
          "text": [
            "Accuracy =  0.7860869565217391\n"
          ],
          "name": "stdout"
        }
      ]
    },
    {
      "cell_type": "code",
      "metadata": {
        "colab": {
          "base_uri": "https://localhost:8080/"
        },
        "id": "f7oFnif8Wb9q",
        "outputId": "9b6a427e-24ac-4e6c-d7ed-778c79b232f3"
      },
      "source": [
        "cm = confusion_matrix(Ytest, prediction_SVM)\n",
        "print(cm)"
      ],
      "execution_count": null,
      "outputs": [
        {
          "output_type": "stream",
          "text": [
            "[[234   5   0   2   0]\n",
            " [  5 186  48   1  10]\n",
            " [  3  55 142   5  12]\n",
            " [  0   4   3 157  40]\n",
            " [  0   5   7  41 185]]\n"
          ],
          "name": "stdout"
        }
      ]
    },
    {
      "cell_type": "code",
      "metadata": {
        "colab": {
          "base_uri": "https://localhost:8080/",
          "height": 282
        },
        "id": "I3-7SpVdWkbS",
        "outputId": "574e5f56-160d-43c2-b51e-646012bedb6d"
      },
      "source": [
        "sns.heatmap(cm, annot=True,fmt='g')"
      ],
      "execution_count": null,
      "outputs": [
        {
          "output_type": "execute_result",
          "data": {
            "text/plain": [
              "<matplotlib.axes._subplots.AxesSubplot at 0x7f530bebd990>"
            ]
          },
          "metadata": {
            "tags": []
          },
          "execution_count": 63
        },
        {
          "output_type": "display_data",
          "data": {
            "image/png": "[encoded data removed]",
            "text/plain": [
              "<Figure size 432x288 with 2 Axes>"
            ]
          },
          "metadata": {
            "tags": [],
            "needs_background": "light"
          }
        }
      ]
    },
    {
      "cell_type": "code",
      "metadata": {
        "colab": {
          "base_uri": "https://localhost:8080/",
          "height": 296
        },
        "id": "Q_jccES9ybjc",
        "outputId": "a026f90d-e256-41a3-a5b1-66451e08b57a"
      },
      "source": [
        "incorr_fraction = 1 - np.diag(cm) / np.sum(cm, axis=1)\n",
        "plt.bar(np.arange(5), incorr_fraction)\n",
        "plt.xlabel('True Label')\n",
        "plt.ylabel('Fraction of incorrect predictions')"
      ],
      "execution_count": null,
      "outputs": [
        {
          "output_type": "execute_result",
          "data": {
            "text/plain": [
              "Text(0, 0.5, 'Fraction of incorrect predictions')"
            ]
          },
          "metadata": {
            "tags": []
          },
          "execution_count": 64
        },
        {
          "output_type": "display_data",
          "data": {
            "image/png": "[encoded data removed]",
            "text/plain": [
              "<Figure size 432x288 with 1 Axes>"
            ]
          },
          "metadata": {
            "tags": [],
            "needs_background": "light"
          }
        }
      ]
    },
    {
      "cell_type": "code",
      "metadata": {
        "colab": {
          "base_uri": "https://localhost:8080/"
        },
        "id": "PXWpeV1RW5jk",
        "outputId": "d05617f5-7a9d-499b-f5b8-b91d11b066aa"
      },
      "source": [
        "cp = classification_report(Ytest,prediction_SVM)\n",
        "print(cp)"
      ],
      "execution_count": null,
      "outputs": [
        {
          "output_type": "stream",
          "text": [
            "              precision    recall  f1-score   support\n",
            "\n",
            "           1       0.97      0.97      0.97       241\n",
            "           2       0.73      0.74      0.74       250\n",
            "           3       0.71      0.65      0.68       217\n",
            "           4       0.76      0.77      0.77       204\n",
            "           5       0.75      0.78      0.76       238\n",
            "\n",
            "    accuracy                           0.79      1150\n",
            "   macro avg       0.78      0.78      0.78      1150\n",
            "weighted avg       0.79      0.79      0.79      1150\n",
            "\n"
          ],
          "name": "stdout"
        }
      ]
    },
    {
      "cell_type": "markdown",
      "metadata": {
        "id": "grSrY4G-XA1_"
      },
      "source": [
        "#CNN_RF"
      ]
    },
    {
      "cell_type": "code",
      "metadata": {
        "id": "Ky32qQEeXCpE"
      },
      "source": [
        "X_For_RF = cnn_model.predict(Xtrain)"
      ],
      "execution_count": null,
      "outputs": []
    },
    {
      "cell_type": "code",
      "metadata": {
        "id": "zRECMa3KXJ4F"
      },
      "source": [
        "from sklearn.ensemble import RandomForestClassifier"
      ],
      "execution_count": null,
      "outputs": []
    },
    {
      "cell_type": "code",
      "metadata": {
        "id": "xbKDjJtjXKFn"
      },
      "source": [
        "RF_model = RandomForestClassifier(n_estimators=200,criterion='entropy',random_state=42)"
      ],
      "execution_count": null,
      "outputs": []
    },
    {
      "cell_type": "code",
      "metadata": {
        "colab": {
          "base_uri": "https://localhost:8080/"
        },
        "id": "5jqII4R9XRjh",
        "outputId": "cfd61da2-2650-47e5-8d75-41f4c59adfab"
      },
      "source": [
        "RF_model.fit(X_For_RF,Ytrain)"
      ],
      "execution_count": null,
      "outputs": [
        {
          "output_type": "execute_result",
          "data": {
            "text/plain": [
              "RandomForestClassifier(bootstrap=True, ccp_alpha=0.0, class_weight=None,\n",
              "                       criterion='entropy', max_depth=None, max_features='auto',\n",
              "                       max_leaf_nodes=None, max_samples=None,\n",
              "                       min_impurity_decrease=0.0, min_impurity_split=None,\n",
              "                       min_samples_leaf=1, min_samples_split=2,\n",
              "                       min_weight_fraction_leaf=0.0, n_estimators=200,\n",
              "                       n_jobs=None, oob_score=False, random_state=42, verbose=0,\n",
              "                       warm_start=False)"
            ]
          },
          "metadata": {
            "tags": []
          },
          "execution_count": 69
        }
      ]
    },
    {
      "cell_type": "code",
      "metadata": {
        "id": "PhBOcskQXRvb"
      },
      "source": [
        "X_test_features = cnn_model.predict(Xtest)"
      ],
      "execution_count": null,
      "outputs": []
    },
    {
      "cell_type": "code",
      "metadata": {
        "id": "WL5HSdDrXR8i"
      },
      "source": [
        "prediction_RF = RF_model.predict(X_test_features)"
      ],
      "execution_count": null,
      "outputs": []
    },
    {
      "cell_type": "code",
      "metadata": {
        "colab": {
          "base_uri": "https://localhost:8080/"
        },
        "id": "SGRHEwleXeEZ",
        "outputId": "be9f0ff0-54b8-4bea-a383-24ac08056401"
      },
      "source": [
        "print (\"Accuracy = \", metrics.accuracy_score(Ytest, prediction_RF))"
      ],
      "execution_count": null,
      "outputs": [
        {
          "output_type": "stream",
          "text": [
            "Accuracy =  0.7913043478260869\n"
          ],
          "name": "stdout"
        }
      ]
    },
    {
      "cell_type": "code",
      "metadata": {
        "id": "8r9ZYoeIXhzb"
      },
      "source": [
        "cm = confusion_matrix(Ytest, prediction_RF)"
      ],
      "execution_count": null,
      "outputs": []
    },
    {
      "cell_type": "code",
      "metadata": {
        "colab": {
          "base_uri": "https://localhost:8080/",
          "height": 282
        },
        "id": "JkxA0hiHXnjx",
        "outputId": "10b10a13-db5c-4e29-a7c6-7dc028a7608e"
      },
      "source": [
        "sns.heatmap(cm, annot=True,fmt='g')"
      ],
      "execution_count": null,
      "outputs": [
        {
          "output_type": "execute_result",
          "data": {
            "text/plain": [
              "<matplotlib.axes._subplots.AxesSubplot at 0x7f530ddfaed0>"
            ]
          },
          "metadata": {
            "tags": []
          },
          "execution_count": 74
        },
        {
          "output_type": "display_data",
          "data": {
            "image/png": "[encoded data removed]",
            "text/plain": [
              "<Figure size 432x288 with 2 Axes>"
            ]
          },
          "metadata": {
            "tags": [],
            "needs_background": "light"
          }
        }
      ]
    },
    {
      "cell_type": "code",
      "metadata": {
        "colab": {
          "base_uri": "https://localhost:8080/",
          "height": 296
        },
        "id": "9Usf2usryw_f",
        "outputId": "f11b818f-ab16-4e47-a723-82b9233844c5"
      },
      "source": [
        "incorr_fraction = 1 - np.diag(cm) / np.sum(cm, axis=1)\n",
        "plt.bar(np.arange(5), incorr_fraction)\n",
        "plt.xlabel('True Label')\n",
        "plt.ylabel('Fraction of incorrect predictions')"
      ],
      "execution_count": null,
      "outputs": [
        {
          "output_type": "execute_result",
          "data": {
            "text/plain": [
              "Text(0, 0.5, 'Fraction of incorrect predictions')"
            ]
          },
          "metadata": {
            "tags": []
          },
          "execution_count": 75
        },
        {
          "output_type": "display_data",
          "data": {
            "image/png": "[encoded data removed]",
            "text/plain": [
              "<Figure size 432x288 with 1 Axes>"
            ]
          },
          "metadata": {
            "tags": [],
            "needs_background": "light"
          }
        }
      ]
    },
    {
      "cell_type": "code",
      "metadata": {
        "colab": {
          "base_uri": "https://localhost:8080/"
        },
        "id": "3-xCjzkbXvf7",
        "outputId": "647682d8-f5ea-4dca-c021-8e41c0f34bf9"
      },
      "source": [
        "cp = classification_report(Ytest,prediction_RF)\n",
        "print(cp)"
      ],
      "execution_count": null,
      "outputs": [
        {
          "output_type": "stream",
          "text": [
            "              precision    recall  f1-score   support\n",
            "\n",
            "           1       0.97      0.97      0.97       241\n",
            "           2       0.74      0.74      0.74       250\n",
            "           3       0.72      0.67      0.70       217\n",
            "           4       0.75      0.80      0.77       204\n",
            "           5       0.76      0.77      0.77       238\n",
            "\n",
            "    accuracy                           0.79      1150\n",
            "   macro avg       0.79      0.79      0.79      1150\n",
            "weighted avg       0.79      0.79      0.79      1150\n",
            "\n"
          ],
          "name": "stdout"
        }
      ]
    },
    {
      "cell_type": "markdown",
      "metadata": {
        "id": "vD77rgesYBA-"
      },
      "source": [
        "#Bar chart"
      ]
    },
    {
      "cell_type": "code",
      "metadata": {
        "colab": {
          "base_uri": "https://localhost:8080/",
          "height": 297
        },
        "id": "ZAdzQ7OnYGzw",
        "outputId": "cf65c572-cfda-4134-fb3d-7d4911dd2ca9"
      },
      "source": [
        "labels = ['CNN', 'CNN_LSTM']\n",
        "accuracy_training = [0.990,0.771]\n",
        "accuracy_val = [0.779, 0.760]\n",
        "\n",
        "x = np.arange(len(labels))  # the label locations\n",
        "width = 0.35  # the width of the bars\n",
        "\n",
        "fig, ax = plt.subplots()\n",
        "rects1 = ax.bar(x - width/2, accuracy_training, width, label='accuracy_training',color='red')\n",
        "rects2 = ax.bar(x + width/2, accuracy_val, width, label='accuracy_val')\n",
        "\n",
        "ax=plt.gca()\n",
        "for p in ax.patches:\n",
        "  ax.text(p.get_x()+p.get_width()/2,p.get_height(),'%.3f' % float(p.get_height()))\n",
        "\n",
        "# Add some text for labels, title and custom x-axis tick labels, etc.\n",
        "ax.set_ylabel('% accuracy')\n",
        "ax.set_title('Scores by model')\n",
        "ax.set_xticks(x)\n",
        "ax.set_xticklabels(labels)\n",
        "ax.legend()\n",
        "\n",
        "plt.ylim(0, 1.5) \n",
        "#ax.bar_label(rects1, padding=3)\n",
        "#ax.bar_label(rects2, padding=3)\n",
        "\n",
        "fig.tight_layout()\n",
        "\n",
        "plt.show()"
      ],
      "execution_count": null,
      "outputs": [
        {
          "output_type": "display_data",
          "data": {
            "image/png": "[encoded data removed]",
            "text/plain": [
              "<Figure size 432x288 with 1 Axes>"
            ]
          },
          "metadata": {
            "tags": [],
            "needs_background": "light"
          }
        }
      ]
    },
    {
      "cell_type": "code",
      "metadata": {
        "colab": {
          "base_uri": "https://localhost:8080/",
          "height": 297
        },
        "id": "11-OS_vMZabr",
        "outputId": "bb771e2b-52a6-4e1c-d11c-dbcac46c6dfe"
      },
      "source": [
        "labels = ['CNN', 'CNN_LSTM', 'CNN_SVM', 'CNN_RF']\n",
        "#twoClasss_Scores = [0.8713,0.8652,0.8704,0.8704]\n",
        "fiveClass_Scores = [0.779, 0.760, 0.786, 0.791]\n",
        "\n",
        "x = np.arange(len(labels))  # the label locations\n",
        "width = 0.35  # the width of the bars\n",
        "\n",
        "fig, ax = plt.subplots()\n",
        "#rects1 = ax.bar(x - width/2, twoClasss_Scores, width, label='TwoClasss_Scores',color='red')\n",
        "rects2 = ax.bar(x + width/2, fiveClass_Scores, width, label='fiveClass_Scores')\n",
        "\n",
        "ax=plt.gca()\n",
        "for p in ax.patches:\n",
        "  ax.text(p.get_x()+p.get_width()/2,p.get_height(),'%.3f' % float(p.get_height()))\n",
        "\n",
        "# Add some text for labels, title and custom x-axis tick labels, etc.\n",
        "ax.set_ylabel('% accuracy_val')\n",
        "ax.set_title('Scores by model')\n",
        "ax.set_xticks(x)\n",
        "ax.set_xticklabels(labels)\n",
        "ax.legend()\n",
        "\n",
        "plt.ylim(0.4, 1) \n",
        "#ax.bar_label(rects1, padding=3)\n",
        "#ax.bar_label(rects2, padding=3)\n",
        "\n",
        "fig.tight_layout()\n",
        "\n",
        "plt.show()"
      ],
      "execution_count": null,
      "outputs": [
        {
          "output_type": "display_data",
          "data": {
            "image/png": "[encoded data removed]",
            "text/plain": [
              "<Figure size 432x288 with 1 Axes>"
            ]
          },
          "metadata": {
            "tags": [],
            "needs_background": "light"
          }
        }
      ]
    },
    {
      "cell_type": "code",
      "metadata": {
        "colab": {
          "base_uri": "https://localhost:8080/",
          "height": 297
        },
        "id": "7mRWmVWRc1YP",
        "outputId": "738fcfd6-d3e6-46ab-90ae-f9f7418e2a43"
      },
      "source": [
        "labels = ['CNN_LSTM32', 'CNN_LSTM64', 'CNN_LSTM128']\n",
        "#twoClasss_Scores = [0.8713,0.8652,0.8704,0.8704]\n",
        "CNN_LSTM_Scores = [0.708,0.760, 0.757]\n",
        "\n",
        "x = np.arange(len(labels))  # the label locations\n",
        "width = 0.35  # the width of the bars\n",
        "\n",
        "fig, ax = plt.subplots()\n",
        "#rects1 = ax.bar(x - width/2, twoClasss_Scores, width, label='TwoClasss_Scores',color='red')\n",
        "rects2 = ax.bar(x + width/2, CNN_LSTM_Scores, width, label='CNN_LSTM_Scores')\n",
        "\n",
        "ax=plt.gca()\n",
        "for p in ax.patches:\n",
        "  ax.text(p.get_x()+p.get_width()/2,p.get_height(),'%.3f' % float(p.get_height()))\n",
        "\n",
        "# Add some text for labels, title and custom x-axis tick labels, etc.\n",
        "ax.set_ylabel('% accuracy_val')\n",
        "ax.set_title('Scores by model')\n",
        "ax.set_xticks(x)\n",
        "ax.set_xticklabels(labels)\n",
        "ax.legend()\n",
        "\n",
        "plt.ylim(0.4, 1) \n",
        "#ax.bar_label(rects1, padding=3)\n",
        "#ax.bar_label(rects2, padding=3)\n",
        "\n",
        "fig.tight_layout()\n",
        "\n",
        "plt.show()"
      ],
      "execution_count": null,
      "outputs": [
        {
          "output_type": "display_data",
          "data": {
            "image/png": "[encoded data removed]",
            "text/plain": [
              "<Figure size 432x288 with 1 Axes>"
            ]
          },
          "metadata": {
            "tags": [],
            "needs_background": "light"
          }
        }
      ]
    },
    {
      "cell_type": "markdown",
      "metadata": {
        "id": "zeDuS4FOZvUw"
      },
      "source": [
        "#CNN_LSTM 32"
      ]
    },
    {
      "cell_type": "markdown",
      "metadata": {
        "id": "SMV78ScvbPuf"
      },
      "source": [
        "32 neurones"
      ]
    },
    {
      "cell_type": "code",
      "metadata": {
        "id": "Yqjra83rZySS"
      },
      "source": [
        "model_LSTM = Sequential()\n",
        "model_LSTM.add(Conv1D(64,kernel_size=3,activation='relu',strides=1,input_shape=(Xtrain.shape[1],Xtrain.shape[2])))\n",
        "model_LSTM.add(MaxPooling1D(pool_size=2,strides=2))\n",
        "\n",
        "model_LSTM.add(Conv1D(128,kernel_size=3,activation='relu'))\n",
        "model_LSTM.add(Conv1D(512,kernel_size=3,activation='relu'))\n",
        "model_LSTM.add(Conv1D(1024,kernel_size=3,activation='relu'))\n",
        "\n",
        "#model.add(Flatten())\n",
        "model_LSTM.add(Dense(256,activation='relu'))\n",
        "model_LSTM.add(Dropout(0.2))\n",
        "model_LSTM.add(LSTM(32,activation='tanh',return_sequences=True))\n",
        "model_LSTM.add(LSTM(32,activation='tanh'))\n",
        "model_LSTM.add(Dense(256,activation='relu'))\n",
        "model_LSTM.add(Dense(128,activation='relu'))\n",
        "model_LSTM.add(Dense(64,activation='relu'))\n",
        "model_LSTM.add(Dense(Ytrain_one_hot.shape[1], activation = 'softmax'))\n"
      ],
      "execution_count": null,
      "outputs": []
    },
    {
      "cell_type": "code",
      "metadata": {
        "id": "UeqK2eLFaGsJ"
      },
      "source": [
        "model_LSTM.compile(loss=keras.losses.categorical_crossentropy,optimizer=keras.optimizers.Adam(),metrics=['accuracy'])"
      ],
      "execution_count": null,
      "outputs": []
    },
    {
      "cell_type": "code",
      "metadata": {
        "id": "Cvig_u_maLPW"
      },
      "source": [
        "batch_size = 1350 #elements contains\n",
        "epochs = 50"
      ],
      "execution_count": null,
      "outputs": []
    },
    {
      "cell_type": "code",
      "metadata": {
        "colab": {
          "base_uri": "https://localhost:8080/"
        },
        "id": "sceyfNI0aPCx",
        "outputId": "0670c9f6-5654-4651-bd4f-25f862113d52"
      },
      "source": [
        "history_LSTM = model_LSTM.fit(Xtrain,Ytrain_one_hot,batch_size = batch_size,epochs=epochs,verbose=1,validation_data=(Xtest,Ytest_one_hot))"
      ],
      "execution_count": null,
      "outputs": [
        {
          "output_type": "stream",
          "text": [
            "Epoch 1/50\n",
            "8/8 [==============================] - 7s 530ms/step - loss: 1.7608 - accuracy: 0.1870 - val_loss: 1.5811 - val_accuracy: 0.2443\n",
            "Epoch 2/50\n",
            "8/8 [==============================] - 3s 386ms/step - loss: 1.5366 - accuracy: 0.3062 - val_loss: 1.3822 - val_accuracy: 0.3591\n",
            "Epoch 3/50\n",
            "8/8 [==============================] - 3s 391ms/step - loss: 1.3709 - accuracy: 0.3687 - val_loss: 1.2460 - val_accuracy: 0.4078\n",
            "Epoch 4/50\n",
            "8/8 [==============================] - 3s 388ms/step - loss: 1.2299 - accuracy: 0.4371 - val_loss: 1.1391 - val_accuracy: 0.4722\n",
            "Epoch 5/50\n",
            "8/8 [==============================] - 3s 389ms/step - loss: 1.1513 - accuracy: 0.4576 - val_loss: 1.2047 - val_accuracy: 0.4070\n",
            "Epoch 6/50\n",
            "8/8 [==============================] - 3s 389ms/step - loss: 1.1669 - accuracy: 0.4391 - val_loss: 1.1289 - val_accuracy: 0.4278\n",
            "Epoch 7/50\n",
            "8/8 [==============================] - 3s 390ms/step - loss: 1.1208 - accuracy: 0.4649 - val_loss: 1.0753 - val_accuracy: 0.5165\n",
            "Epoch 8/50\n",
            "8/8 [==============================] - 3s 392ms/step - loss: 1.0563 - accuracy: 0.5258 - val_loss: 1.0220 - val_accuracy: 0.5417\n",
            "Epoch 9/50\n",
            "8/8 [==============================] - 3s 392ms/step - loss: 1.0223 - accuracy: 0.5502 - val_loss: 0.9706 - val_accuracy: 0.5557\n",
            "Epoch 10/50\n",
            "8/8 [==============================] - 3s 393ms/step - loss: 1.0073 - accuracy: 0.5560 - val_loss: 0.9927 - val_accuracy: 0.5417\n",
            "Epoch 11/50\n",
            "8/8 [==============================] - 3s 395ms/step - loss: 0.9708 - accuracy: 0.5790 - val_loss: 0.9141 - val_accuracy: 0.5878\n",
            "Epoch 12/50\n",
            "8/8 [==============================] - 3s 395ms/step - loss: 0.9100 - accuracy: 0.6053 - val_loss: 0.8724 - val_accuracy: 0.6078\n",
            "Epoch 13/50\n",
            "8/8 [==============================] - 3s 396ms/step - loss: 0.8738 - accuracy: 0.6270 - val_loss: 0.8533 - val_accuracy: 0.6035\n",
            "Epoch 14/50\n",
            "8/8 [==============================] - 3s 398ms/step - loss: 0.8598 - accuracy: 0.6207 - val_loss: 0.8873 - val_accuracy: 0.5965\n",
            "Epoch 15/50\n",
            "8/8 [==============================] - 3s 401ms/step - loss: 0.8441 - accuracy: 0.6244 - val_loss: 0.8159 - val_accuracy: 0.6000\n",
            "Epoch 16/50\n",
            "8/8 [==============================] - 3s 402ms/step - loss: 0.8079 - accuracy: 0.6364 - val_loss: 0.8219 - val_accuracy: 0.6043\n",
            "Epoch 17/50\n",
            "8/8 [==============================] - 3s 398ms/step - loss: 0.8026 - accuracy: 0.6335 - val_loss: 0.8158 - val_accuracy: 0.6304\n",
            "Epoch 18/50\n",
            "8/8 [==============================] - 3s 399ms/step - loss: 0.7592 - accuracy: 0.6561 - val_loss: 0.7902 - val_accuracy: 0.6191\n",
            "Epoch 19/50\n",
            "8/8 [==============================] - 3s 401ms/step - loss: 0.7808 - accuracy: 0.6389 - val_loss: 0.7360 - val_accuracy: 0.6409\n",
            "Epoch 20/50\n",
            "8/8 [==============================] - 3s 402ms/step - loss: 0.7269 - accuracy: 0.6646 - val_loss: 0.7300 - val_accuracy: 0.6609\n",
            "Epoch 21/50\n",
            "8/8 [==============================] - 3s 401ms/step - loss: 0.7163 - accuracy: 0.6682 - val_loss: 0.7023 - val_accuracy: 0.6870\n",
            "Epoch 22/50\n",
            "8/8 [==============================] - 3s 402ms/step - loss: 0.6825 - accuracy: 0.6862 - val_loss: 0.6879 - val_accuracy: 0.6748\n",
            "Epoch 23/50\n",
            "8/8 [==============================] - 3s 404ms/step - loss: 0.6829 - accuracy: 0.6905 - val_loss: 0.6906 - val_accuracy: 0.6783\n",
            "Epoch 24/50\n",
            "8/8 [==============================] - 3s 403ms/step - loss: 0.6778 - accuracy: 0.6895 - val_loss: 0.6563 - val_accuracy: 0.6878\n",
            "Epoch 25/50\n",
            "8/8 [==============================] - 3s 405ms/step - loss: 0.6318 - accuracy: 0.7014 - val_loss: 0.6595 - val_accuracy: 0.7087\n",
            "Epoch 26/50\n",
            "8/8 [==============================] - 3s 405ms/step - loss: 0.6242 - accuracy: 0.7094 - val_loss: 0.7428 - val_accuracy: 0.6704\n",
            "Epoch 27/50\n",
            "8/8 [==============================] - 3s 406ms/step - loss: 0.8107 - accuracy: 0.6379 - val_loss: 0.7495 - val_accuracy: 0.6513\n",
            "Epoch 28/50\n",
            "8/8 [==============================] - 3s 405ms/step - loss: 0.7186 - accuracy: 0.6751 - val_loss: 0.7043 - val_accuracy: 0.6826\n",
            "Epoch 29/50\n",
            "8/8 [==============================] - 3s 406ms/step - loss: 0.6692 - accuracy: 0.6887 - val_loss: 0.6610 - val_accuracy: 0.6774\n",
            "Epoch 30/50\n",
            "8/8 [==============================] - 3s 406ms/step - loss: 0.6354 - accuracy: 0.7029 - val_loss: 0.6564 - val_accuracy: 0.6791\n",
            "Epoch 31/50\n",
            "8/8 [==============================] - 3s 407ms/step - loss: 0.6218 - accuracy: 0.7038 - val_loss: 0.6326 - val_accuracy: 0.7304\n",
            "Epoch 32/50\n",
            "8/8 [==============================] - 3s 406ms/step - loss: 0.6074 - accuracy: 0.7058 - val_loss: 0.6036 - val_accuracy: 0.7235\n",
            "Epoch 33/50\n",
            "8/8 [==============================] - 3s 408ms/step - loss: 0.6009 - accuracy: 0.7152 - val_loss: 0.5999 - val_accuracy: 0.7209\n",
            "Epoch 34/50\n",
            "8/8 [==============================] - 3s 408ms/step - loss: 0.5858 - accuracy: 0.7215 - val_loss: 0.5918 - val_accuracy: 0.7278\n",
            "Epoch 35/50\n",
            "8/8 [==============================] - 3s 407ms/step - loss: 0.5731 - accuracy: 0.7273 - val_loss: 0.5844 - val_accuracy: 0.7270\n",
            "Epoch 36/50\n",
            "8/8 [==============================] - 3s 408ms/step - loss: 0.5634 - accuracy: 0.7370 - val_loss: 0.5812 - val_accuracy: 0.7304\n",
            "Epoch 37/50\n",
            "8/8 [==============================] - 3s 408ms/step - loss: 0.5596 - accuracy: 0.7331 - val_loss: 0.5710 - val_accuracy: 0.7357\n",
            "Epoch 38/50\n",
            "8/8 [==============================] - 3s 411ms/step - loss: 0.5634 - accuracy: 0.7391 - val_loss: 0.5700 - val_accuracy: 0.7339\n",
            "Epoch 39/50\n",
            "8/8 [==============================] - 3s 411ms/step - loss: 0.5571 - accuracy: 0.7362 - val_loss: 0.5879 - val_accuracy: 0.7278\n",
            "Epoch 40/50\n",
            "8/8 [==============================] - 3s 411ms/step - loss: 0.5697 - accuracy: 0.7245 - val_loss: 0.6237 - val_accuracy: 0.7191\n",
            "Epoch 41/50\n",
            "8/8 [==============================] - 3s 411ms/step - loss: 0.5819 - accuracy: 0.7245 - val_loss: 0.6300 - val_accuracy: 0.7070\n",
            "Epoch 42/50\n",
            "8/8 [==============================] - 3s 411ms/step - loss: 0.5791 - accuracy: 0.7246 - val_loss: 0.5629 - val_accuracy: 0.7400\n",
            "Epoch 43/50\n",
            "8/8 [==============================] - 3s 411ms/step - loss: 0.5681 - accuracy: 0.7342 - val_loss: 0.5632 - val_accuracy: 0.7348\n",
            "Epoch 44/50\n",
            "8/8 [==============================] - 3s 411ms/step - loss: 0.5518 - accuracy: 0.7366 - val_loss: 0.5617 - val_accuracy: 0.7391\n",
            "Epoch 45/50\n",
            "8/8 [==============================] - 3s 412ms/step - loss: 0.5420 - accuracy: 0.7456 - val_loss: 0.5576 - val_accuracy: 0.7296\n",
            "Epoch 46/50\n",
            "8/8 [==============================] - 3s 413ms/step - loss: 0.5423 - accuracy: 0.7493 - val_loss: 0.5405 - val_accuracy: 0.7557\n",
            "Epoch 47/50\n",
            "8/8 [==============================] - 3s 413ms/step - loss: 0.5364 - accuracy: 0.7441 - val_loss: 0.5422 - val_accuracy: 0.7435\n",
            "Epoch 48/50\n",
            "8/8 [==============================] - 3s 413ms/step - loss: 0.5441 - accuracy: 0.7396 - val_loss: 0.5590 - val_accuracy: 0.7426\n",
            "Epoch 49/50\n",
            "8/8 [==============================] - 3s 414ms/step - loss: 0.5446 - accuracy: 0.7427 - val_loss: 0.5782 - val_accuracy: 0.7365\n",
            "Epoch 50/50\n",
            "8/8 [==============================] - 3s 415ms/step - loss: 0.5432 - accuracy: 0.7470 - val_loss: 0.6282 - val_accuracy: 0.7087\n"
          ],
          "name": "stdout"
        }
      ]
    },
    {
      "cell_type": "code",
      "metadata": {
        "colab": {
          "base_uri": "https://localhost:8080/"
        },
        "id": "wtZ8XFKfa8MQ",
        "outputId": "3c0ddce8-4293-4e82-f660-82fc0c15572a"
      },
      "source": [
        "score = model_LSTM.evaluate(Xtrain,Ytrain_one_hot,verbose=0)\n",
        "print('test loss = ',score[0])\n",
        "print('accuracy = ',score[1])"
      ],
      "execution_count": null,
      "outputs": [
        {
          "output_type": "stream",
          "text": [
            "test loss =  0.5772236585617065\n",
            "accuracy =  0.7344927787780762\n"
          ],
          "name": "stdout"
        }
      ]
    },
    {
      "cell_type": "code",
      "metadata": {
        "colab": {
          "base_uri": "https://localhost:8080/"
        },
        "id": "cO9UBTygbC4r",
        "outputId": "bdc19de3-b327-43ed-94c2-cfd9de9e975a"
      },
      "source": [
        "score = model_LSTM.evaluate(Xtest,Ytest_one_hot,verbose=0)\n",
        "print('test loss = ',score[0])\n",
        "print('accuracy = ',score[1])"
      ],
      "execution_count": null,
      "outputs": [
        {
          "output_type": "stream",
          "text": [
            "test loss =  0.6282267570495605\n",
            "accuracy =  0.708695650100708\n"
          ],
          "name": "stdout"
        }
      ]
    },
    {
      "cell_type": "markdown",
      "metadata": {
        "id": "JY9ZMvNtbXVi"
      },
      "source": [
        "128 neurones"
      ]
    },
    {
      "cell_type": "code",
      "metadata": {
        "id": "m702WnakbYxx"
      },
      "source": [
        "model_LSTM = Sequential()\n",
        "model_LSTM.add(Conv1D(64,kernel_size=3,activation='relu',strides=1,input_shape=(Xtrain.shape[1],Xtrain.shape[2])))\n",
        "model_LSTM.add(MaxPooling1D(pool_size=2,strides=2))\n",
        "\n",
        "model_LSTM.add(Conv1D(128,kernel_size=3,activation='relu'))\n",
        "model_LSTM.add(Conv1D(512,kernel_size=3,activation='relu'))\n",
        "model_LSTM.add(Conv1D(1024,kernel_size=3,activation='relu'))\n",
        "\n",
        "#model.add(Flatten())\n",
        "model_LSTM.add(Dense(256,activation='relu'))\n",
        "model_LSTM.add(Dropout(0.2))\n",
        "model_LSTM.add(LSTM(128,activation='tanh',return_sequences=True))\n",
        "model_LSTM.add(LSTM(128,activation='tanh'))\n",
        "model_LSTM.add(Dense(256,activation='relu'))\n",
        "model_LSTM.add(Dense(128,activation='relu'))\n",
        "model_LSTM.add(Dense(64,activation='relu'))\n",
        "model_LSTM.add(Dense(Ytrain_one_hot.shape[1], activation = 'softmax'))\n"
      ],
      "execution_count": null,
      "outputs": []
    },
    {
      "cell_type": "code",
      "metadata": {
        "id": "tFxu3h9obl5d"
      },
      "source": [
        "model_LSTM.compile(loss=keras.losses.categorical_crossentropy,optimizer=keras.optimizers.Adam(),metrics=['accuracy'])"
      ],
      "execution_count": null,
      "outputs": []
    },
    {
      "cell_type": "code",
      "metadata": {
        "colab": {
          "base_uri": "https://localhost:8080/"
        },
        "id": "TS82xmg5brzF",
        "outputId": "02ee10fb-6b30-4420-ee59-e0617a56ab82"
      },
      "source": [
        "history_LSTM = model_LSTM.fit(Xtrain,Ytrain_one_hot,batch_size = batch_size,epochs=epochs,verbose=1,validation_data=(Xtest,Ytest_one_hot))"
      ],
      "execution_count": null,
      "outputs": [
        {
          "output_type": "stream",
          "text": [
            "Epoch 1/50\n",
            "8/8 [==============================] - 8s 605ms/step - loss: 1.7151 - accuracy: 0.1961 - val_loss: 1.5035 - val_accuracy: 0.2687\n",
            "Epoch 2/50\n",
            "8/8 [==============================] - 4s 462ms/step - loss: 1.4882 - accuracy: 0.3256 - val_loss: 1.3429 - val_accuracy: 0.3835\n",
            "Epoch 3/50\n",
            "8/8 [==============================] - 4s 463ms/step - loss: 1.2573 - accuracy: 0.4214 - val_loss: 1.1410 - val_accuracy: 0.4852\n",
            "Epoch 4/50\n",
            "8/8 [==============================] - 4s 465ms/step - loss: 1.1462 - accuracy: 0.4828 - val_loss: 1.1091 - val_accuracy: 0.4617\n",
            "Epoch 5/50\n",
            "8/8 [==============================] - 4s 465ms/step - loss: 1.0882 - accuracy: 0.5008 - val_loss: 1.0210 - val_accuracy: 0.5400\n",
            "Epoch 6/50\n",
            "8/8 [==============================] - 4s 468ms/step - loss: 1.0097 - accuracy: 0.5491 - val_loss: 1.0032 - val_accuracy: 0.5504\n",
            "Epoch 7/50\n",
            "8/8 [==============================] - 4s 469ms/step - loss: 1.0128 - accuracy: 0.5360 - val_loss: 0.9779 - val_accuracy: 0.5513\n",
            "Epoch 8/50\n",
            "8/8 [==============================] - 4s 469ms/step - loss: 0.9549 - accuracy: 0.5748 - val_loss: 0.9662 - val_accuracy: 0.5661\n",
            "Epoch 9/50\n",
            "8/8 [==============================] - 4s 470ms/step - loss: 1.0061 - accuracy: 0.5444 - val_loss: 1.0068 - val_accuracy: 0.5191\n",
            "Epoch 10/50\n",
            "8/8 [==============================] - 4s 471ms/step - loss: 0.9713 - accuracy: 0.5589 - val_loss: 0.9489 - val_accuracy: 0.5696\n",
            "Epoch 11/50\n",
            "8/8 [==============================] - 4s 472ms/step - loss: 0.9103 - accuracy: 0.6003 - val_loss: 0.9267 - val_accuracy: 0.5730\n",
            "Epoch 12/50\n",
            "8/8 [==============================] - 4s 473ms/step - loss: 0.8816 - accuracy: 0.6090 - val_loss: 0.8414 - val_accuracy: 0.6035\n",
            "Epoch 13/50\n",
            "8/8 [==============================] - 4s 473ms/step - loss: 0.8086 - accuracy: 0.6467 - val_loss: 0.7525 - val_accuracy: 0.6522\n",
            "Epoch 14/50\n",
            "8/8 [==============================] - 4s 474ms/step - loss: 0.7465 - accuracy: 0.6541 - val_loss: 0.7097 - val_accuracy: 0.6522\n",
            "Epoch 15/50\n",
            "8/8 [==============================] - 4s 474ms/step - loss: 0.8023 - accuracy: 0.6283 - val_loss: 0.7448 - val_accuracy: 0.6548\n",
            "Epoch 16/50\n",
            "8/8 [==============================] - 4s 474ms/step - loss: 0.7098 - accuracy: 0.6797 - val_loss: 0.7430 - val_accuracy: 0.6600\n",
            "Epoch 17/50\n",
            "8/8 [==============================] - 4s 474ms/step - loss: 0.6813 - accuracy: 0.6883 - val_loss: 0.6523 - val_accuracy: 0.6687\n",
            "Epoch 18/50\n",
            "8/8 [==============================] - 4s 476ms/step - loss: 0.6574 - accuracy: 0.6973 - val_loss: 0.6561 - val_accuracy: 0.7035\n",
            "Epoch 19/50\n",
            "8/8 [==============================] - 4s 476ms/step - loss: 0.6561 - accuracy: 0.6969 - val_loss: 0.6344 - val_accuracy: 0.7017\n",
            "Epoch 20/50\n",
            "8/8 [==============================] - 4s 475ms/step - loss: 0.6266 - accuracy: 0.7063 - val_loss: 0.6940 - val_accuracy: 0.7035\n",
            "Epoch 21/50\n",
            "8/8 [==============================] - 4s 477ms/step - loss: 0.6511 - accuracy: 0.6915 - val_loss: 0.6191 - val_accuracy: 0.7157\n",
            "Epoch 22/50\n",
            "8/8 [==============================] - 4s 477ms/step - loss: 0.5892 - accuracy: 0.7226 - val_loss: 0.6103 - val_accuracy: 0.7261\n",
            "Epoch 23/50\n",
            "8/8 [==============================] - 4s 478ms/step - loss: 0.5875 - accuracy: 0.7217 - val_loss: 0.6139 - val_accuracy: 0.7009\n",
            "Epoch 24/50\n",
            "8/8 [==============================] - 4s 477ms/step - loss: 0.5938 - accuracy: 0.7153 - val_loss: 0.5968 - val_accuracy: 0.7217\n",
            "Epoch 25/50\n",
            "8/8 [==============================] - 4s 479ms/step - loss: 0.5692 - accuracy: 0.7295 - val_loss: 0.6105 - val_accuracy: 0.7017\n",
            "Epoch 26/50\n",
            "8/8 [==============================] - 4s 481ms/step - loss: 0.5828 - accuracy: 0.7202 - val_loss: 0.6227 - val_accuracy: 0.6922\n",
            "Epoch 27/50\n",
            "8/8 [==============================] - 4s 479ms/step - loss: 0.5811 - accuracy: 0.7164 - val_loss: 0.6024 - val_accuracy: 0.7217\n",
            "Epoch 28/50\n",
            "8/8 [==============================] - 4s 479ms/step - loss: 0.5675 - accuracy: 0.7286 - val_loss: 0.5854 - val_accuracy: 0.7052\n",
            "Epoch 29/50\n",
            "8/8 [==============================] - 4s 481ms/step - loss: 0.5685 - accuracy: 0.7316 - val_loss: 0.5803 - val_accuracy: 0.7191\n",
            "Epoch 30/50\n",
            "8/8 [==============================] - 4s 482ms/step - loss: 0.5621 - accuracy: 0.7309 - val_loss: 0.5685 - val_accuracy: 0.7287\n",
            "Epoch 31/50\n",
            "8/8 [==============================] - 4s 482ms/step - loss: 0.5499 - accuracy: 0.7354 - val_loss: 0.5681 - val_accuracy: 0.7313\n",
            "Epoch 32/50\n",
            "8/8 [==============================] - 4s 482ms/step - loss: 0.5452 - accuracy: 0.7331 - val_loss: 0.5668 - val_accuracy: 0.7409\n",
            "Epoch 33/50\n",
            "8/8 [==============================] - 4s 483ms/step - loss: 0.5364 - accuracy: 0.7442 - val_loss: 0.6184 - val_accuracy: 0.7174\n",
            "Epoch 34/50\n",
            "8/8 [==============================] - 4s 483ms/step - loss: 0.5739 - accuracy: 0.7257 - val_loss: 0.5606 - val_accuracy: 0.7252\n",
            "Epoch 35/50\n",
            "8/8 [==============================] - 4s 484ms/step - loss: 0.5470 - accuracy: 0.7353 - val_loss: 0.5581 - val_accuracy: 0.7339\n",
            "Epoch 36/50\n",
            "8/8 [==============================] - 4s 484ms/step - loss: 0.5426 - accuracy: 0.7419 - val_loss: 0.5714 - val_accuracy: 0.7348\n",
            "Epoch 37/50\n",
            "8/8 [==============================] - 4s 485ms/step - loss: 0.5418 - accuracy: 0.7397 - val_loss: 0.5647 - val_accuracy: 0.7278\n",
            "Epoch 38/50\n",
            "8/8 [==============================] - 4s 484ms/step - loss: 0.5328 - accuracy: 0.7417 - val_loss: 0.5607 - val_accuracy: 0.7348\n",
            "Epoch 39/50\n",
            "8/8 [==============================] - 4s 485ms/step - loss: 0.5293 - accuracy: 0.7419 - val_loss: 0.5411 - val_accuracy: 0.7383\n",
            "Epoch 40/50\n",
            "8/8 [==============================] - 4s 484ms/step - loss: 0.5303 - accuracy: 0.7422 - val_loss: 0.5495 - val_accuracy: 0.7383\n",
            "Epoch 41/50\n",
            "8/8 [==============================] - 4s 485ms/step - loss: 0.5199 - accuracy: 0.7500 - val_loss: 0.5551 - val_accuracy: 0.7496\n",
            "Epoch 42/50\n",
            "8/8 [==============================] - 4s 486ms/step - loss: 0.5283 - accuracy: 0.7410 - val_loss: 0.5342 - val_accuracy: 0.7400\n",
            "Epoch 43/50\n",
            "8/8 [==============================] - 4s 486ms/step - loss: 0.5184 - accuracy: 0.7515 - val_loss: 0.5589 - val_accuracy: 0.7383\n",
            "Epoch 44/50\n",
            "8/8 [==============================] - 4s 487ms/step - loss: 0.5089 - accuracy: 0.7594 - val_loss: 0.5522 - val_accuracy: 0.7365\n",
            "Epoch 45/50\n",
            "8/8 [==============================] - 4s 486ms/step - loss: 0.5111 - accuracy: 0.7561 - val_loss: 0.5823 - val_accuracy: 0.7391\n",
            "Epoch 46/50\n",
            "8/8 [==============================] - 4s 486ms/step - loss: 0.5220 - accuracy: 0.7514 - val_loss: 0.5349 - val_accuracy: 0.7504\n",
            "Epoch 47/50\n",
            "8/8 [==============================] - 4s 487ms/step - loss: 0.5012 - accuracy: 0.7507 - val_loss: 0.5357 - val_accuracy: 0.7565\n",
            "Epoch 48/50\n",
            "8/8 [==============================] - 4s 487ms/step - loss: 0.4800 - accuracy: 0.7689 - val_loss: 0.5532 - val_accuracy: 0.7409\n",
            "Epoch 49/50\n",
            "8/8 [==============================] - 4s 487ms/step - loss: 0.5114 - accuracy: 0.7503 - val_loss: 0.5726 - val_accuracy: 0.7304\n",
            "Epoch 50/50\n",
            "8/8 [==============================] - 4s 487ms/step - loss: 0.4972 - accuracy: 0.7580 - val_loss: 0.5409 - val_accuracy: 0.7574\n"
          ],
          "name": "stdout"
        }
      ]
    },
    {
      "cell_type": "code",
      "metadata": {
        "colab": {
          "base_uri": "https://localhost:8080/"
        },
        "id": "BPUnK8PbcgBA",
        "outputId": "087f368a-e041-48f3-da46-f4ca9dadd0d6"
      },
      "source": [
        "score = model_LSTM.evaluate(Xtrain,Ytrain_one_hot,verbose=0)\n",
        "print('test loss = ',score[0])\n",
        "print('accuracy = ',score[1])"
      ],
      "execution_count": null,
      "outputs": [
        {
          "output_type": "stream",
          "text": [
            "test loss =  0.49366116523742676\n",
            "accuracy =  0.765313982963562\n"
          ],
          "name": "stdout"
        }
      ]
    },
    {
      "cell_type": "code",
      "metadata": {
        "colab": {
          "base_uri": "https://localhost:8080/"
        },
        "id": "V5zx6yFVcpqr",
        "outputId": "ad254710-ad81-40c6-f549-393916c8ad73"
      },
      "source": [
        "score = model_LSTM.evaluate(Xtest,Ytest_one_hot,verbose=0)\n",
        "print('test loss = ',score[0])\n",
        "print('accuracy = ',score[1])"
      ],
      "execution_count": null,
      "outputs": [
        {
          "output_type": "stream",
          "text": [
            "test loss =  0.5408706068992615\n",
            "accuracy =  0.7573913335800171\n"
          ],
          "name": "stdout"
        }
      ]
    }
  ]
}