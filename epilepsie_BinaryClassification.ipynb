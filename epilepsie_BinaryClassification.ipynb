{
  "nbformat": 4,
  "nbformat_minor": 0,
  "metadata": {
    "colab": {
      "name": "BinaryClassification.ipynb",
      "provenance": [],
      "collapsed_sections": []
    },
    "kernelspec": {
      "display_name": "Python 3",
      "name": "python3"
    },
    "language_info": {
      "name": "python"
    },
    "accelerator": "GPU"
  },
  "cells": [
    {
      "cell_type": "code",
      "metadata": {
        "id": "bxmovc3CUXP_"
      },
      "source": [
        "import keras\n",
        "#from keras.datasets import mnist #import Data\n",
        "from sklearn.model_selection import train_test_split\n",
        "from keras.models import Sequential #preparing layres position\n",
        "from keras.layers import Dense, Dropout, Flatten, Activation  #3 layers\n",
        "from keras.layers import Conv2D,MaxPooling2D,GRU,Conv1D,MaxPooling1D #convolution & pooling\n",
        "from tensorflow.keras import utils as np_utils\n",
        "import numpy as np\n",
        "np.set_printoptions(threshold=1000,suppress=True)\n",
        "import pandas as pd\n",
        "import seaborn as sns\n",
        "import matplotlib \n",
        "import matplotlib.pyplot as plt #graph 2D\n",
        "import warnings\n",
        "warnings.filterwarnings('ignore')"
      ],
      "execution_count": null,
      "outputs": []
    },
    {
      "cell_type": "code",
      "metadata": {
        "colab": {
          "base_uri": "https://localhost:8080/",
          "height": 270
        },
        "id": "ig2xomCZVSEV",
        "outputId": "59e65794-c8a8-4792-e5f4-fd1c9ec11bc5"
      },
      "source": [
        "epilepsie_data=pd.read_csv('data.csv',sep=',',header=0)\n",
        "epilepsie_data.head()"
      ],
      "execution_count": null,
      "outputs": [
        {
          "output_type": "execute_result",
          "data": {
            "text/html": [
              "<div>\n",
              "<style scoped>\n",
              "    .dataframe tbody tr th:only-of-type {\n",
              "        vertical-align: middle;\n",
              "    }\n",
              "\n",
              "    .dataframe tbody tr th {\n",
              "        vertical-align: top;\n",
              "    }\n",
              "\n",
              "    .dataframe thead th {\n",
              "        text-align: right;\n",
              "    }\n",
              "</style>\n",
              "<table border=\"1\" class=\"dataframe\">\n",
              "  <thead>\n",
              "    <tr style=\"text-align: right;\">\n",
              "      <th></th>\n",
              "      <th>Unnamed: 0</th>\n",
              "      <th>X1</th>\n",
              "      <th>X2</th>\n",
              "      <th>X3</th>\n",
              "      <th>X4</th>\n",
              "      <th>X5</th>\n",
              "      <th>X6</th>\n",
              "      <th>X7</th>\n",
              "      <th>X8</th>\n",
              "      <th>X9</th>\n",
              "      <th>X10</th>\n",
              "      <th>X11</th>\n",
              "      <th>X12</th>\n",
              "      <th>X13</th>\n",
              "      <th>X14</th>\n",
              "      <th>X15</th>\n",
              "      <th>X16</th>\n",
              "      <th>X17</th>\n",
              "      <th>X18</th>\n",
              "      <th>X19</th>\n",
              "      <th>X20</th>\n",
              "      <th>X21</th>\n",
              "      <th>X22</th>\n",
              "      <th>X23</th>\n",
              "      <th>X24</th>\n",
              "      <th>X25</th>\n",
              "      <th>X26</th>\n",
              "      <th>X27</th>\n",
              "      <th>X28</th>\n",
              "      <th>X29</th>\n",
              "      <th>X30</th>\n",
              "      <th>X31</th>\n",
              "      <th>X32</th>\n",
              "      <th>X33</th>\n",
              "      <th>X34</th>\n",
              "      <th>X35</th>\n",
              "      <th>X36</th>\n",
              "      <th>X37</th>\n",
              "      <th>X38</th>\n",
              "      <th>X39</th>\n",
              "      <th>...</th>\n",
              "      <th>X140</th>\n",
              "      <th>X141</th>\n",
              "      <th>X142</th>\n",
              "      <th>X143</th>\n",
              "      <th>X144</th>\n",
              "      <th>X145</th>\n",
              "      <th>X146</th>\n",
              "      <th>X147</th>\n",
              "      <th>X148</th>\n",
              "      <th>X149</th>\n",
              "      <th>X150</th>\n",
              "      <th>X151</th>\n",
              "      <th>X152</th>\n",
              "      <th>X153</th>\n",
              "      <th>X154</th>\n",
              "      <th>X155</th>\n",
              "      <th>X156</th>\n",
              "      <th>X157</th>\n",
              "      <th>X158</th>\n",
              "      <th>X159</th>\n",
              "      <th>X160</th>\n",
              "      <th>X161</th>\n",
              "      <th>X162</th>\n",
              "      <th>X163</th>\n",
              "      <th>X164</th>\n",
              "      <th>X165</th>\n",
              "      <th>X166</th>\n",
              "      <th>X167</th>\n",
              "      <th>X168</th>\n",
              "      <th>X169</th>\n",
              "      <th>X170</th>\n",
              "      <th>X171</th>\n",
              "      <th>X172</th>\n",
              "      <th>X173</th>\n",
              "      <th>X174</th>\n",
              "      <th>X175</th>\n",
              "      <th>X176</th>\n",
              "      <th>X177</th>\n",
              "      <th>X178</th>\n",
              "      <th>y</th>\n",
              "    </tr>\n",
              "  </thead>\n",
              "  <tbody>\n",
              "    <tr>\n",
              "      <th>0</th>\n",
              "      <td>X21.V1.791</td>\n",
              "      <td>135</td>\n",
              "      <td>190</td>\n",
              "      <td>229</td>\n",
              "      <td>223</td>\n",
              "      <td>192</td>\n",
              "      <td>125</td>\n",
              "      <td>55</td>\n",
              "      <td>-9</td>\n",
              "      <td>-33</td>\n",
              "      <td>-38</td>\n",
              "      <td>-10</td>\n",
              "      <td>35</td>\n",
              "      <td>64</td>\n",
              "      <td>113</td>\n",
              "      <td>152</td>\n",
              "      <td>164</td>\n",
              "      <td>127</td>\n",
              "      <td>50</td>\n",
              "      <td>-47</td>\n",
              "      <td>-121</td>\n",
              "      <td>-138</td>\n",
              "      <td>-125</td>\n",
              "      <td>-101</td>\n",
              "      <td>-50</td>\n",
              "      <td>11</td>\n",
              "      <td>39</td>\n",
              "      <td>24</td>\n",
              "      <td>48</td>\n",
              "      <td>64</td>\n",
              "      <td>46</td>\n",
              "      <td>13</td>\n",
              "      <td>-19</td>\n",
              "      <td>-61</td>\n",
              "      <td>-96</td>\n",
              "      <td>-130</td>\n",
              "      <td>-132</td>\n",
              "      <td>-116</td>\n",
              "      <td>-115</td>\n",
              "      <td>-71</td>\n",
              "      <td>...</td>\n",
              "      <td>54</td>\n",
              "      <td>90</td>\n",
              "      <td>111</td>\n",
              "      <td>107</td>\n",
              "      <td>64</td>\n",
              "      <td>32</td>\n",
              "      <td>18</td>\n",
              "      <td>-25</td>\n",
              "      <td>-69</td>\n",
              "      <td>-65</td>\n",
              "      <td>-44</td>\n",
              "      <td>-33</td>\n",
              "      <td>-57</td>\n",
              "      <td>-88</td>\n",
              "      <td>-114</td>\n",
              "      <td>-130</td>\n",
              "      <td>-114</td>\n",
              "      <td>-83</td>\n",
              "      <td>-53</td>\n",
              "      <td>-79</td>\n",
              "      <td>-72</td>\n",
              "      <td>-85</td>\n",
              "      <td>-109</td>\n",
              "      <td>-98</td>\n",
              "      <td>-72</td>\n",
              "      <td>-65</td>\n",
              "      <td>-63</td>\n",
              "      <td>-11</td>\n",
              "      <td>10</td>\n",
              "      <td>8</td>\n",
              "      <td>-17</td>\n",
              "      <td>-15</td>\n",
              "      <td>-31</td>\n",
              "      <td>-77</td>\n",
              "      <td>-103</td>\n",
              "      <td>-127</td>\n",
              "      <td>-116</td>\n",
              "      <td>-83</td>\n",
              "      <td>-51</td>\n",
              "      <td>4</td>\n",
              "    </tr>\n",
              "    <tr>\n",
              "      <th>1</th>\n",
              "      <td>X15.V1.924</td>\n",
              "      <td>386</td>\n",
              "      <td>382</td>\n",
              "      <td>356</td>\n",
              "      <td>331</td>\n",
              "      <td>320</td>\n",
              "      <td>315</td>\n",
              "      <td>307</td>\n",
              "      <td>272</td>\n",
              "      <td>244</td>\n",
              "      <td>232</td>\n",
              "      <td>237</td>\n",
              "      <td>258</td>\n",
              "      <td>212</td>\n",
              "      <td>2</td>\n",
              "      <td>-267</td>\n",
              "      <td>-605</td>\n",
              "      <td>-850</td>\n",
              "      <td>-1001</td>\n",
              "      <td>-1109</td>\n",
              "      <td>-1090</td>\n",
              "      <td>-967</td>\n",
              "      <td>-746</td>\n",
              "      <td>-464</td>\n",
              "      <td>-152</td>\n",
              "      <td>118</td>\n",
              "      <td>318</td>\n",
              "      <td>427</td>\n",
              "      <td>473</td>\n",
              "      <td>485</td>\n",
              "      <td>447</td>\n",
              "      <td>397</td>\n",
              "      <td>339</td>\n",
              "      <td>312</td>\n",
              "      <td>314</td>\n",
              "      <td>326</td>\n",
              "      <td>335</td>\n",
              "      <td>332</td>\n",
              "      <td>324</td>\n",
              "      <td>310</td>\n",
              "      <td>...</td>\n",
              "      <td>27</td>\n",
              "      <td>146</td>\n",
              "      <td>229</td>\n",
              "      <td>269</td>\n",
              "      <td>297</td>\n",
              "      <td>307</td>\n",
              "      <td>303</td>\n",
              "      <td>305</td>\n",
              "      <td>306</td>\n",
              "      <td>307</td>\n",
              "      <td>280</td>\n",
              "      <td>231</td>\n",
              "      <td>159</td>\n",
              "      <td>85</td>\n",
              "      <td>51</td>\n",
              "      <td>43</td>\n",
              "      <td>62</td>\n",
              "      <td>63</td>\n",
              "      <td>63</td>\n",
              "      <td>69</td>\n",
              "      <td>89</td>\n",
              "      <td>123</td>\n",
              "      <td>136</td>\n",
              "      <td>127</td>\n",
              "      <td>102</td>\n",
              "      <td>95</td>\n",
              "      <td>105</td>\n",
              "      <td>131</td>\n",
              "      <td>163</td>\n",
              "      <td>168</td>\n",
              "      <td>164</td>\n",
              "      <td>150</td>\n",
              "      <td>146</td>\n",
              "      <td>152</td>\n",
              "      <td>157</td>\n",
              "      <td>156</td>\n",
              "      <td>154</td>\n",
              "      <td>143</td>\n",
              "      <td>129</td>\n",
              "      <td>1</td>\n",
              "    </tr>\n",
              "    <tr>\n",
              "      <th>2</th>\n",
              "      <td>X8.V1.1</td>\n",
              "      <td>-32</td>\n",
              "      <td>-39</td>\n",
              "      <td>-47</td>\n",
              "      <td>-37</td>\n",
              "      <td>-32</td>\n",
              "      <td>-36</td>\n",
              "      <td>-57</td>\n",
              "      <td>-73</td>\n",
              "      <td>-85</td>\n",
              "      <td>-94</td>\n",
              "      <td>-99</td>\n",
              "      <td>-94</td>\n",
              "      <td>-96</td>\n",
              "      <td>-104</td>\n",
              "      <td>-103</td>\n",
              "      <td>-92</td>\n",
              "      <td>-75</td>\n",
              "      <td>-69</td>\n",
              "      <td>-69</td>\n",
              "      <td>-53</td>\n",
              "      <td>-37</td>\n",
              "      <td>-14</td>\n",
              "      <td>-10</td>\n",
              "      <td>-39</td>\n",
              "      <td>-78</td>\n",
              "      <td>-102</td>\n",
              "      <td>-98</td>\n",
              "      <td>-80</td>\n",
              "      <td>-54</td>\n",
              "      <td>-40</td>\n",
              "      <td>-35</td>\n",
              "      <td>-39</td>\n",
              "      <td>-32</td>\n",
              "      <td>-13</td>\n",
              "      <td>7</td>\n",
              "      <td>34</td>\n",
              "      <td>41</td>\n",
              "      <td>33</td>\n",
              "      <td>6</td>\n",
              "      <td>...</td>\n",
              "      <td>-82</td>\n",
              "      <td>-107</td>\n",
              "      <td>-126</td>\n",
              "      <td>-124</td>\n",
              "      <td>-108</td>\n",
              "      <td>-84</td>\n",
              "      <td>-68</td>\n",
              "      <td>-61</td>\n",
              "      <td>-56</td>\n",
              "      <td>-63</td>\n",
              "      <td>-62</td>\n",
              "      <td>-33</td>\n",
              "      <td>1</td>\n",
              "      <td>28</td>\n",
              "      <td>45</td>\n",
              "      <td>37</td>\n",
              "      <td>48</td>\n",
              "      <td>62</td>\n",
              "      <td>80</td>\n",
              "      <td>66</td>\n",
              "      <td>23</td>\n",
              "      <td>-11</td>\n",
              "      <td>-39</td>\n",
              "      <td>-44</td>\n",
              "      <td>-42</td>\n",
              "      <td>-45</td>\n",
              "      <td>-48</td>\n",
              "      <td>-42</td>\n",
              "      <td>-6</td>\n",
              "      <td>29</td>\n",
              "      <td>57</td>\n",
              "      <td>64</td>\n",
              "      <td>48</td>\n",
              "      <td>19</td>\n",
              "      <td>-12</td>\n",
              "      <td>-30</td>\n",
              "      <td>-35</td>\n",
              "      <td>-35</td>\n",
              "      <td>-36</td>\n",
              "      <td>5</td>\n",
              "    </tr>\n",
              "    <tr>\n",
              "      <th>3</th>\n",
              "      <td>X16.V1.60</td>\n",
              "      <td>-105</td>\n",
              "      <td>-101</td>\n",
              "      <td>-96</td>\n",
              "      <td>-92</td>\n",
              "      <td>-89</td>\n",
              "      <td>-95</td>\n",
              "      <td>-102</td>\n",
              "      <td>-100</td>\n",
              "      <td>-87</td>\n",
              "      <td>-79</td>\n",
              "      <td>-72</td>\n",
              "      <td>-68</td>\n",
              "      <td>-74</td>\n",
              "      <td>-80</td>\n",
              "      <td>-83</td>\n",
              "      <td>-73</td>\n",
              "      <td>-68</td>\n",
              "      <td>-61</td>\n",
              "      <td>-58</td>\n",
              "      <td>-59</td>\n",
              "      <td>-64</td>\n",
              "      <td>-79</td>\n",
              "      <td>-84</td>\n",
              "      <td>-97</td>\n",
              "      <td>-94</td>\n",
              "      <td>-84</td>\n",
              "      <td>-77</td>\n",
              "      <td>-75</td>\n",
              "      <td>-72</td>\n",
              "      <td>-68</td>\n",
              "      <td>-76</td>\n",
              "      <td>-76</td>\n",
              "      <td>-72</td>\n",
              "      <td>-67</td>\n",
              "      <td>-69</td>\n",
              "      <td>-69</td>\n",
              "      <td>-69</td>\n",
              "      <td>-67</td>\n",
              "      <td>-68</td>\n",
              "      <td>...</td>\n",
              "      <td>-69</td>\n",
              "      <td>-66</td>\n",
              "      <td>-74</td>\n",
              "      <td>-69</td>\n",
              "      <td>-61</td>\n",
              "      <td>-51</td>\n",
              "      <td>-45</td>\n",
              "      <td>-45</td>\n",
              "      <td>-49</td>\n",
              "      <td>-58</td>\n",
              "      <td>-64</td>\n",
              "      <td>-78</td>\n",
              "      <td>-80</td>\n",
              "      <td>-90</td>\n",
              "      <td>-87</td>\n",
              "      <td>-83</td>\n",
              "      <td>-78</td>\n",
              "      <td>-64</td>\n",
              "      <td>-38</td>\n",
              "      <td>-22</td>\n",
              "      <td>-29</td>\n",
              "      <td>-42</td>\n",
              "      <td>-51</td>\n",
              "      <td>-68</td>\n",
              "      <td>-71</td>\n",
              "      <td>-69</td>\n",
              "      <td>-69</td>\n",
              "      <td>-74</td>\n",
              "      <td>-74</td>\n",
              "      <td>-80</td>\n",
              "      <td>-82</td>\n",
              "      <td>-81</td>\n",
              "      <td>-80</td>\n",
              "      <td>-77</td>\n",
              "      <td>-85</td>\n",
              "      <td>-77</td>\n",
              "      <td>-72</td>\n",
              "      <td>-69</td>\n",
              "      <td>-65</td>\n",
              "      <td>5</td>\n",
              "    </tr>\n",
              "    <tr>\n",
              "      <th>4</th>\n",
              "      <td>X20.V1.54</td>\n",
              "      <td>-9</td>\n",
              "      <td>-65</td>\n",
              "      <td>-98</td>\n",
              "      <td>-102</td>\n",
              "      <td>-78</td>\n",
              "      <td>-48</td>\n",
              "      <td>-16</td>\n",
              "      <td>0</td>\n",
              "      <td>-21</td>\n",
              "      <td>-59</td>\n",
              "      <td>-90</td>\n",
              "      <td>-103</td>\n",
              "      <td>-84</td>\n",
              "      <td>-43</td>\n",
              "      <td>-9</td>\n",
              "      <td>3</td>\n",
              "      <td>-21</td>\n",
              "      <td>-60</td>\n",
              "      <td>-96</td>\n",
              "      <td>-103</td>\n",
              "      <td>-75</td>\n",
              "      <td>-29</td>\n",
              "      <td>14</td>\n",
              "      <td>55</td>\n",
              "      <td>78</td>\n",
              "      <td>73</td>\n",
              "      <td>28</td>\n",
              "      <td>-13</td>\n",
              "      <td>-43</td>\n",
              "      <td>-68</td>\n",
              "      <td>-78</td>\n",
              "      <td>-75</td>\n",
              "      <td>-55</td>\n",
              "      <td>-41</td>\n",
              "      <td>-19</td>\n",
              "      <td>-20</td>\n",
              "      <td>-29</td>\n",
              "      <td>-36</td>\n",
              "      <td>-20</td>\n",
              "      <td>...</td>\n",
              "      <td>38</td>\n",
              "      <td>26</td>\n",
              "      <td>10</td>\n",
              "      <td>-4</td>\n",
              "      <td>-13</td>\n",
              "      <td>-8</td>\n",
              "      <td>0</td>\n",
              "      <td>10</td>\n",
              "      <td>19</td>\n",
              "      <td>29</td>\n",
              "      <td>57</td>\n",
              "      <td>63</td>\n",
              "      <td>45</td>\n",
              "      <td>7</td>\n",
              "      <td>-13</td>\n",
              "      <td>-23</td>\n",
              "      <td>-9</td>\n",
              "      <td>9</td>\n",
              "      <td>11</td>\n",
              "      <td>3</td>\n",
              "      <td>-1</td>\n",
              "      <td>-2</td>\n",
              "      <td>4</td>\n",
              "      <td>18</td>\n",
              "      <td>27</td>\n",
              "      <td>27</td>\n",
              "      <td>14</td>\n",
              "      <td>15</td>\n",
              "      <td>11</td>\n",
              "      <td>10</td>\n",
              "      <td>4</td>\n",
              "      <td>2</td>\n",
              "      <td>-12</td>\n",
              "      <td>-32</td>\n",
              "      <td>-41</td>\n",
              "      <td>-65</td>\n",
              "      <td>-83</td>\n",
              "      <td>-89</td>\n",
              "      <td>-73</td>\n",
              "      <td>5</td>\n",
              "    </tr>\n",
              "  </tbody>\n",
              "</table>\n",
              "<p>5 rows × 180 columns</p>\n",
              "</div>"
            ],
            "text/plain": [
              "   Unnamed: 0   X1   X2   X3   X4   X5  ...  X174  X175  X176  X177  X178  y\n",
              "0  X21.V1.791  135  190  229  223  192  ...  -103  -127  -116   -83   -51  4\n",
              "1  X15.V1.924  386  382  356  331  320  ...   157   156   154   143   129  1\n",
              "2     X8.V1.1  -32  -39  -47  -37  -32  ...   -12   -30   -35   -35   -36  5\n",
              "3   X16.V1.60 -105 -101  -96  -92  -89  ...   -85   -77   -72   -69   -65  5\n",
              "4   X20.V1.54   -9  -65  -98 -102  -78  ...   -41   -65   -83   -89   -73  5\n",
              "\n",
              "[5 rows x 180 columns]"
            ]
          },
          "metadata": {
            "tags": []
          },
          "execution_count": 2
        }
      ]
    },
    {
      "cell_type": "code",
      "metadata": {
        "colab": {
          "base_uri": "https://localhost:8080/"
        },
        "id": "HDgQqFQxVa73",
        "outputId": "cd4d73af-aabf-463d-e1d5-686f0d5ab72d"
      },
      "source": [
        "epilepsie_data.shape"
      ],
      "execution_count": null,
      "outputs": [
        {
          "output_type": "execute_result",
          "data": {
            "text/plain": [
              "(11500, 180)"
            ]
          },
          "metadata": {
            "tags": []
          },
          "execution_count": 3
        }
      ]
    },
    {
      "cell_type": "code",
      "metadata": {
        "id": "CIDKk2lBVfkM"
      },
      "source": [
        "epilepsie_data=epilepsie_data.drop(['Unnamed: 0'],axis=1)"
      ],
      "execution_count": null,
      "outputs": []
    },
    {
      "cell_type": "code",
      "metadata": {
        "colab": {
          "base_uri": "https://localhost:8080/"
        },
        "id": "0_ByQzkbVfvK",
        "outputId": "3c28d784-b1a6-42cd-cc73-5483cb947ae8"
      },
      "source": [
        "epilepsie_data.shape"
      ],
      "execution_count": null,
      "outputs": [
        {
          "output_type": "execute_result",
          "data": {
            "text/plain": [
              "(11500, 179)"
            ]
          },
          "metadata": {
            "tags": []
          },
          "execution_count": 5
        }
      ]
    },
    {
      "cell_type": "code",
      "metadata": {
        "id": "dCdLtcUebwuw"
      },
      "source": [
        "X=epilepsie_data.iloc[:,0:178]\n",
        "Y=epilepsie_data['y']\n",
        "X=X.values\n",
        "Y=Y.values"
      ],
      "execution_count": null,
      "outputs": []
    },
    {
      "cell_type": "code",
      "metadata": {
        "colab": {
          "base_uri": "https://localhost:8080/"
        },
        "id": "-r3MmejBcZpk",
        "outputId": "3dc85250-a098-41c6-fd44-bc09ca1aa3e4"
      },
      "source": [
        "Y"
      ],
      "execution_count": null,
      "outputs": [
        {
          "output_type": "execute_result",
          "data": {
            "text/plain": [
              "array([4, 1, 5, ..., 5, 3, 4])"
            ]
          },
          "metadata": {
            "tags": []
          },
          "execution_count": 7
        }
      ]
    },
    {
      "cell_type": "code",
      "metadata": {
        "id": "LljrYPOKb2z3"
      },
      "source": [
        "Y[Y[:] == 1]=1\n",
        "Y[Y[:] > 1]=0"
      ],
      "execution_count": null,
      "outputs": []
    },
    {
      "cell_type": "code",
      "metadata": {
        "colab": {
          "base_uri": "https://localhost:8080/"
        },
        "id": "gTo3QFU_cW76",
        "outputId": "79c01405-b63e-48e8-ddd5-994aa2cbea1b"
      },
      "source": [
        "Y"
      ],
      "execution_count": null,
      "outputs": [
        {
          "output_type": "execute_result",
          "data": {
            "text/plain": [
              "array([0, 1, 0, ..., 0, 0, 0])"
            ]
          },
          "metadata": {
            "tags": []
          },
          "execution_count": 9
        }
      ]
    },
    {
      "cell_type": "code",
      "metadata": {
        "colab": {
          "base_uri": "https://localhost:8080/"
        },
        "id": "1ZsBxMf4JfWH",
        "outputId": "12d622eb-9aac-42fc-f675-7c0340c465f7"
      },
      "source": [
        "epilepsie_data['y'].value_counts()"
      ],
      "execution_count": null,
      "outputs": [
        {
          "output_type": "execute_result",
          "data": {
            "text/plain": [
              "0    9200\n",
              "1    2300\n",
              "Name: y, dtype: int64"
            ]
          },
          "metadata": {
            "tags": []
          },
          "execution_count": 10
        }
      ]
    },
    {
      "cell_type": "code",
      "metadata": {
        "colab": {
          "base_uri": "https://localhost:8080/",
          "height": 282
        },
        "id": "SQ7h-39cJSb4",
        "outputId": "eb5833f3-a129-49aa-9a16-b4c1d662dfc7"
      },
      "source": [
        "plt.hist(epilepsie_data['y'],label='y')\n",
        "plt.legend()"
      ],
      "execution_count": null,
      "outputs": [
        {
          "output_type": "execute_result",
          "data": {
            "text/plain": [
              "<matplotlib.legend.Legend at 0x7fad7f967c90>"
            ]
          },
          "metadata": {
            "tags": []
          },
          "execution_count": 11
        },
        {
          "output_type": "display_data",
          "data": {
            "image/png": "[encoded data removed]",
            "text/plain": [
              "<Figure size 432x288 with 1 Axes>"
            ]
          },
          "metadata": {
            "tags": [],
            "needs_background": "light"
          }
        }
      ]
    },
    {
      "cell_type": "code",
      "metadata": {
        "colab": {
          "base_uri": "https://localhost:8080/"
        },
        "id": "2AxFwvp_cnda",
        "outputId": "487a1fa9-4f0f-469e-d534-6541d8d4ed5a"
      },
      "source": [
        "X"
      ],
      "execution_count": null,
      "outputs": [
        {
          "output_type": "execute_result",
          "data": {
            "text/plain": [
              "array([[ 135,  190,  229, ..., -116,  -83,  -51],\n",
              "       [ 386,  382,  356, ...,  154,  143,  129],\n",
              "       [ -32,  -39,  -47, ...,  -35,  -35,  -36],\n",
              "       ...,\n",
              "       [  14,    6,  -13, ...,   -2,   -1,   -8],\n",
              "       [ -40,  -25,   -9, ...,   68,   59,   55],\n",
              "       [  29,   41,   57, ...,   -2,    2,   20]])"
            ]
          },
          "metadata": {
            "tags": []
          },
          "execution_count": 12
        }
      ]
    },
    {
      "cell_type": "code",
      "metadata": {
        "id": "tpfh2IHX6gPO"
      },
      "source": [
        "from sklearn.preprocessing import StandardScaler\n",
        "scaler = StandardScaler().fit(X)\n",
        "X = scaler.transform(X)"
      ],
      "execution_count": null,
      "outputs": []
    },
    {
      "cell_type": "code",
      "metadata": {
        "id": "cJ6-8oy9cyeb"
      },
      "source": [
        "Xtrain,Xtest,Ytrain,Ytest = train_test_split(X,Y,test_size=0.1,random_state=1)"
      ],
      "execution_count": null,
      "outputs": []
    },
    {
      "cell_type": "code",
      "metadata": {
        "id": "KjwWE4D9dEkZ"
      },
      "source": [
        "Xtrain=Xtrain.reshape(Xtrain.shape[0],Xtrain.shape[1],1).astype('float32')\n",
        "Xtest=Xtest.reshape(Xtest.shape[0],Xtrain.shape[1],1).astype('float32')\n",
        "input_shape=(Xtrain.shape[1],1)"
      ],
      "execution_count": null,
      "outputs": []
    },
    {
      "cell_type": "code",
      "metadata": {
        "id": "u7pvyfTfdLzR"
      },
      "source": [
        "Xtrain /=255.0\n",
        "Xtest /=255.0"
      ],
      "execution_count": null,
      "outputs": []
    },
    {
      "cell_type": "code",
      "metadata": {
        "colab": {
          "base_uri": "https://localhost:8080/"
        },
        "id": "VblgtbqgdNgB",
        "outputId": "e7b489b5-d8b7-489e-a76c-5a75b1d4498b"
      },
      "source": [
        "Xtrain.shape"
      ],
      "execution_count": null,
      "outputs": [
        {
          "output_type": "execute_result",
          "data": {
            "text/plain": [
              "(10350, 178, 1)"
            ]
          },
          "metadata": {
            "tags": []
          },
          "execution_count": 16
        }
      ]
    },
    {
      "cell_type": "code",
      "metadata": {
        "colab": {
          "base_uri": "https://localhost:8080/"
        },
        "id": "F_Ar-N8KdTVi",
        "outputId": "3e2da9c3-812d-4d48-caa2-27b61d21552f"
      },
      "source": [
        "Ytrain.shape"
      ],
      "execution_count": null,
      "outputs": [
        {
          "output_type": "execute_result",
          "data": {
            "text/plain": [
              "(10350,)"
            ]
          },
          "metadata": {
            "tags": []
          },
          "execution_count": 17
        }
      ]
    },
    {
      "cell_type": "code",
      "metadata": {
        "id": "53EdOljIDKPP"
      },
      "source": [
        "Ytrain_one_hot = np_utils.to_categorical(Ytrain,2)\n",
        "Ytest_one_hot = np_utils.to_categorical(Ytest,2)"
      ],
      "execution_count": null,
      "outputs": []
    },
    {
      "cell_type": "code",
      "metadata": {
        "id": "e3tC4FftdZjp"
      },
      "source": [
        "model = Sequential()\n",
        "model.add(Conv1D(64,kernel_size=3,activation='relu',strides=1,input_shape=(Xtrain.shape[1],Xtrain.shape[2])))\n",
        "model.add(MaxPooling1D(pool_size=2,strides=2))\n",
        "\n",
        "model.add(Conv1D(128,kernel_size=3,activation='relu'))\n",
        "model.add(Conv1D(512,kernel_size=3,activation='relu'))\n",
        "model.add(Conv1D(1024,kernel_size=3,activation='relu'))\n",
        "\n",
        "model.add(Flatten())\n",
        "x = model.output\n",
        "x=Dense(256,activation='relu')(x)\n",
        "x=Dropout(0.3)(x)\n",
        "x=Dense(256,activation='relu')(x)\n",
        "#x=Dropout(0.3)(x)\n",
        "x=Dense(128,activation='relu')(x)\n",
        "#x=Dropout(0.2)(x)\n",
        "x=Dense(64,activation='relu')(x)\n",
        "\n",
        "prediction_layer = Dense(2, activation = 'softmax')(x)\n",
        "#model.add(Dense(6,activation='softmax'))"
      ],
      "execution_count": null,
      "outputs": []
    },
    {
      "cell_type": "code",
      "metadata": {
        "id": "c1ZjhQ_UCAL1"
      },
      "source": [
        "from keras.models import Model"
      ],
      "execution_count": null,
      "outputs": []
    },
    {
      "cell_type": "code",
      "metadata": {
        "id": "XSRx6t_aCGL0"
      },
      "source": [
        "cnn_model = Model(inputs=model.input,outputs=prediction_layer)"
      ],
      "execution_count": null,
      "outputs": []
    },
    {
      "cell_type": "code",
      "metadata": {
        "colab": {
          "base_uri": "https://localhost:8080/"
        },
        "id": "_iKJ_xjVfCHE",
        "outputId": "44dbb14a-9e98-47c2-bdd0-1cce71e528d8"
      },
      "source": [
        "cnn_model.summary()"
      ],
      "execution_count": null,
      "outputs": [
        {
          "output_type": "stream",
          "text": [
            "Model: \"model\"\n",
            "_________________________________________________________________\n",
            "Layer (type)                 Output Shape              Param #   \n",
            "=================================================================\n",
            "conv1d_input (InputLayer)    [(None, 178, 1)]          0         \n",
            "_________________________________________________________________\n",
            "conv1d (Conv1D)              (None, 176, 64)           256       \n",
            "_________________________________________________________________\n",
            "max_pooling1d (MaxPooling1D) (None, 88, 64)            0         \n",
            "_________________________________________________________________\n",
            "conv1d_1 (Conv1D)            (None, 86, 128)           24704     \n",
            "_________________________________________________________________\n",
            "conv1d_2 (Conv1D)            (None, 84, 512)           197120    \n",
            "_________________________________________________________________\n",
            "conv1d_3 (Conv1D)            (None, 82, 1024)          1573888   \n",
            "_________________________________________________________________\n",
            "flatten (Flatten)            (None, 83968)             0         \n",
            "_________________________________________________________________\n",
            "dense (Dense)                (None, 256)               21496064  \n",
            "_________________________________________________________________\n",
            "dropout (Dropout)            (None, 256)               0         \n",
            "_________________________________________________________________\n",
            "dense_1 (Dense)              (None, 256)               65792     \n",
            "_________________________________________________________________\n",
            "dense_2 (Dense)              (None, 128)               32896     \n",
            "_________________________________________________________________\n",
            "dense_3 (Dense)              (None, 64)                8256      \n",
            "_________________________________________________________________\n",
            "dense_4 (Dense)              (None, 2)                 130       \n",
            "=================================================================\n",
            "Total params: 23,399,106\n",
            "Trainable params: 23,399,106\n",
            "Non-trainable params: 0\n",
            "_________________________________________________________________\n"
          ],
          "name": "stdout"
        }
      ]
    },
    {
      "cell_type": "code",
      "metadata": {
        "id": "QJZ5zKb4fTvM"
      },
      "source": [
        "cnn_model.compile(loss=keras.losses.categorical_crossentropy,optimizer=keras.optimizers.Adam(),metrics=['accuracy'])"
      ],
      "execution_count": null,
      "outputs": []
    },
    {
      "cell_type": "code",
      "metadata": {
        "id": "p6fSRhfRfbhe"
      },
      "source": [
        "batch_size = 1350 #elements contains\n",
        "epochs = 50"
      ],
      "execution_count": null,
      "outputs": []
    },
    {
      "cell_type": "code",
      "metadata": {
        "colab": {
          "base_uri": "https://localhost:8080/"
        },
        "id": "dZH3Ec-hfst0",
        "outputId": "129f9a63-06fe-4dc4-95c1-c8d9ffe3f3c7"
      },
      "source": [
        "history = cnn_model.fit(Xtrain,Ytrain_one_hot,batch_size=batch_size,epochs=epochs,verbose=1,validation_data=(Xtest,Ytest_one_hot))"
      ],
      "execution_count": null,
      "outputs": [
        {
          "output_type": "stream",
          "text": [
            "Epoch 1/50\n",
            "8/8 [==============================] - 52s 732ms/step - loss: 0.7181 - accuracy: 0.4986 - val_loss: 0.5500 - val_accuracy: 0.9470\n",
            "Epoch 2/50\n",
            "8/8 [==============================] - 3s 344ms/step - loss: 0.4071 - accuracy: 0.9456 - val_loss: 0.2197 - val_accuracy: 0.9426\n",
            "Epoch 3/50\n",
            "8/8 [==============================] - 3s 346ms/step - loss: 0.1855 - accuracy: 0.9458 - val_loss: 0.1349 - val_accuracy: 0.9461\n",
            "Epoch 4/50\n",
            "8/8 [==============================] - 3s 346ms/step - loss: 0.1371 - accuracy: 0.9468 - val_loss: 0.1355 - val_accuracy: 0.9522\n",
            "Epoch 5/50\n",
            "8/8 [==============================] - 3s 347ms/step - loss: 0.1103 - accuracy: 0.9554 - val_loss: 0.1081 - val_accuracy: 0.9574\n",
            "Epoch 6/50\n",
            "8/8 [==============================] - 3s 347ms/step - loss: 0.0954 - accuracy: 0.9589 - val_loss: 0.1048 - val_accuracy: 0.9574\n",
            "Epoch 7/50\n",
            "8/8 [==============================] - 3s 349ms/step - loss: 0.0909 - accuracy: 0.9619 - val_loss: 0.0983 - val_accuracy: 0.9635\n",
            "Epoch 8/50\n",
            "8/8 [==============================] - 3s 350ms/step - loss: 0.0884 - accuracy: 0.9619 - val_loss: 0.0920 - val_accuracy: 0.9661\n",
            "Epoch 9/50\n",
            "8/8 [==============================] - 3s 353ms/step - loss: 0.0810 - accuracy: 0.9669 - val_loss: 0.0862 - val_accuracy: 0.9713\n",
            "Epoch 10/50\n",
            "8/8 [==============================] - 3s 353ms/step - loss: 0.0723 - accuracy: 0.9708 - val_loss: 0.0843 - val_accuracy: 0.9722\n",
            "Epoch 11/50\n",
            "8/8 [==============================] - 3s 356ms/step - loss: 0.0655 - accuracy: 0.9753 - val_loss: 0.0807 - val_accuracy: 0.9722\n",
            "Epoch 12/50\n",
            "8/8 [==============================] - 3s 356ms/step - loss: 0.0662 - accuracy: 0.9741 - val_loss: 0.0708 - val_accuracy: 0.9757\n",
            "Epoch 13/50\n",
            "8/8 [==============================] - 3s 358ms/step - loss: 0.0624 - accuracy: 0.9752 - val_loss: 0.0658 - val_accuracy: 0.9783\n",
            "Epoch 14/50\n",
            "8/8 [==============================] - 3s 360ms/step - loss: 0.0515 - accuracy: 0.9808 - val_loss: 0.0570 - val_accuracy: 0.9817\n",
            "Epoch 15/50\n",
            "8/8 [==============================] - 3s 362ms/step - loss: 0.0497 - accuracy: 0.9801 - val_loss: 0.0542 - val_accuracy: 0.9817\n",
            "Epoch 16/50\n",
            "8/8 [==============================] - 3s 365ms/step - loss: 0.0437 - accuracy: 0.9839 - val_loss: 0.0516 - val_accuracy: 0.9843\n",
            "Epoch 17/50\n",
            "8/8 [==============================] - 3s 365ms/step - loss: 0.0396 - accuracy: 0.9847 - val_loss: 0.0508 - val_accuracy: 0.9835\n",
            "Epoch 18/50\n",
            "8/8 [==============================] - 3s 365ms/step - loss: 0.0376 - accuracy: 0.9872 - val_loss: 0.0454 - val_accuracy: 0.9852\n",
            "Epoch 19/50\n",
            "8/8 [==============================] - 3s 365ms/step - loss: 0.0309 - accuracy: 0.9887 - val_loss: 0.0472 - val_accuracy: 0.9835\n",
            "Epoch 20/50\n",
            "8/8 [==============================] - 3s 368ms/step - loss: 0.0279 - accuracy: 0.9908 - val_loss: 0.0430 - val_accuracy: 0.9852\n",
            "Epoch 21/50\n",
            "8/8 [==============================] - 3s 370ms/step - loss: 0.0241 - accuracy: 0.9917 - val_loss: 0.0446 - val_accuracy: 0.9843\n",
            "Epoch 22/50\n",
            "8/8 [==============================] - 3s 372ms/step - loss: 0.0225 - accuracy: 0.9917 - val_loss: 0.0591 - val_accuracy: 0.9835\n",
            "Epoch 23/50\n",
            "8/8 [==============================] - 3s 373ms/step - loss: 0.0223 - accuracy: 0.9910 - val_loss: 0.0531 - val_accuracy: 0.9852\n",
            "Epoch 24/50\n",
            "8/8 [==============================] - 3s 375ms/step - loss: 0.0182 - accuracy: 0.9949 - val_loss: 0.0521 - val_accuracy: 0.9852\n",
            "Epoch 25/50\n",
            "8/8 [==============================] - 3s 378ms/step - loss: 0.0154 - accuracy: 0.9958 - val_loss: 0.0471 - val_accuracy: 0.9861\n",
            "Epoch 26/50\n",
            "8/8 [==============================] - 3s 380ms/step - loss: 0.0113 - accuracy: 0.9970 - val_loss: 0.0647 - val_accuracy: 0.9878\n",
            "Epoch 27/50\n",
            "8/8 [==============================] - 3s 381ms/step - loss: 0.0099 - accuracy: 0.9969 - val_loss: 0.0608 - val_accuracy: 0.9852\n",
            "Epoch 28/50\n",
            "8/8 [==============================] - 3s 388ms/step - loss: 0.0099 - accuracy: 0.9966 - val_loss: 0.0565 - val_accuracy: 0.9870\n",
            "Epoch 29/50\n",
            "8/8 [==============================] - 3s 384ms/step - loss: 0.0067 - accuracy: 0.9982 - val_loss: 0.0942 - val_accuracy: 0.9835\n",
            "Epoch 30/50\n",
            "8/8 [==============================] - 3s 385ms/step - loss: 0.0228 - accuracy: 0.9930 - val_loss: 0.0641 - val_accuracy: 0.9835\n",
            "Epoch 31/50\n",
            "8/8 [==============================] - 3s 384ms/step - loss: 0.0474 - accuracy: 0.9824 - val_loss: 0.0593 - val_accuracy: 0.9800\n",
            "Epoch 32/50\n",
            "8/8 [==============================] - 3s 384ms/step - loss: 0.0289 - accuracy: 0.9912 - val_loss: 0.0474 - val_accuracy: 0.9852\n",
            "Epoch 33/50\n",
            "8/8 [==============================] - 3s 386ms/step - loss: 0.0212 - accuracy: 0.9931 - val_loss: 0.0428 - val_accuracy: 0.9861\n",
            "Epoch 34/50\n",
            "8/8 [==============================] - 3s 379ms/step - loss: 0.0136 - accuracy: 0.9966 - val_loss: 0.0567 - val_accuracy: 0.9826\n",
            "Epoch 35/50\n",
            "8/8 [==============================] - 3s 378ms/step - loss: 0.0093 - accuracy: 0.9974 - val_loss: 0.0502 - val_accuracy: 0.9843\n",
            "Epoch 36/50\n",
            "8/8 [==============================] - 3s 381ms/step - loss: 0.0068 - accuracy: 0.9987 - val_loss: 0.0620 - val_accuracy: 0.9861\n",
            "Epoch 37/50\n",
            "8/8 [==============================] - 3s 375ms/step - loss: 0.0062 - accuracy: 0.9985 - val_loss: 0.0692 - val_accuracy: 0.9861\n",
            "Epoch 38/50\n",
            "8/8 [==============================] - 3s 373ms/step - loss: 0.0054 - accuracy: 0.9988 - val_loss: 0.0779 - val_accuracy: 0.9852\n",
            "Epoch 39/50\n",
            "8/8 [==============================] - 3s 372ms/step - loss: 0.0060 - accuracy: 0.9988 - val_loss: 0.0621 - val_accuracy: 0.9843\n",
            "Epoch 40/50\n",
            "8/8 [==============================] - 3s 372ms/step - loss: 0.0035 - accuracy: 0.9993 - val_loss: 0.0791 - val_accuracy: 0.9843\n",
            "Epoch 41/50\n",
            "8/8 [==============================] - 3s 372ms/step - loss: 0.0033 - accuracy: 0.9991 - val_loss: 0.0769 - val_accuracy: 0.9852\n",
            "Epoch 42/50\n",
            "8/8 [==============================] - 3s 372ms/step - loss: 0.0036 - accuracy: 0.9992 - val_loss: 0.0759 - val_accuracy: 0.9852\n",
            "Epoch 43/50\n",
            "8/8 [==============================] - 3s 370ms/step - loss: 0.0027 - accuracy: 0.9991 - val_loss: 0.0808 - val_accuracy: 0.9870\n",
            "Epoch 44/50\n",
            "8/8 [==============================] - 3s 368ms/step - loss: 0.0025 - accuracy: 0.9992 - val_loss: 0.0807 - val_accuracy: 0.9878\n",
            "Epoch 45/50\n",
            "8/8 [==============================] - 3s 368ms/step - loss: 0.0025 - accuracy: 0.9993 - val_loss: 0.1024 - val_accuracy: 0.9835\n",
            "Epoch 46/50\n",
            "8/8 [==============================] - 3s 371ms/step - loss: 0.0019 - accuracy: 0.9993 - val_loss: 0.1195 - val_accuracy: 0.9826\n",
            "Epoch 47/50\n",
            "8/8 [==============================] - 3s 369ms/step - loss: 0.0026 - accuracy: 0.9989 - val_loss: 0.1203 - val_accuracy: 0.9843\n",
            "Epoch 48/50\n",
            "8/8 [==============================] - 3s 370ms/step - loss: 0.0018 - accuracy: 0.9996 - val_loss: 0.0875 - val_accuracy: 0.9861\n",
            "Epoch 49/50\n",
            "8/8 [==============================] - 3s 371ms/step - loss: 0.0024 - accuracy: 0.9992 - val_loss: 0.0755 - val_accuracy: 0.9887\n",
            "Epoch 50/50\n",
            "8/8 [==============================] - 3s 372ms/step - loss: 0.0031 - accuracy: 0.9995 - val_loss: 0.1357 - val_accuracy: 0.9843\n"
          ],
          "name": "stdout"
        }
      ]
    },
    {
      "cell_type": "code",
      "metadata": {
        "colab": {
          "base_uri": "https://localhost:8080/"
        },
        "id": "MuAAIFE4sjov",
        "outputId": "ac558934-05aa-4670-f665-cdf435fc2124"
      },
      "source": [
        "score = cnn_model.evaluate(Xtrain,Ytrain_one_hot,verbose=0)\n",
        "print('test loss = ',score[0])\n",
        "print('accuracy = ',score[1])"
      ],
      "execution_count": null,
      "outputs": [
        {
          "output_type": "stream",
          "text": [
            "test loss =  0.000853407138492912\n",
            "accuracy =  0.9995169043540955\n"
          ],
          "name": "stdout"
        }
      ]
    },
    {
      "cell_type": "code",
      "metadata": {
        "colab": {
          "base_uri": "https://localhost:8080/"
        },
        "id": "s3FtcsvZs5yV",
        "outputId": "2a4368e1-c9c6-48d1-9625-be7065fc8c7a"
      },
      "source": [
        "score = cnn_model.evaluate(Xtest,Ytest_one_hot,verbose=0)\n",
        "print('test loss = ',score[0])\n",
        "print('accuracy = ',score[1])"
      ],
      "execution_count": null,
      "outputs": [
        {
          "output_type": "stream",
          "text": [
            "test loss =  0.1357099562883377\n",
            "accuracy =  0.9843478202819824\n"
          ],
          "name": "stdout"
        }
      ]
    },
    {
      "cell_type": "code",
      "metadata": {
        "colab": {
          "base_uri": "https://localhost:8080/",
          "height": 332
        },
        "id": "D0layiQMtFv-",
        "outputId": "2569f626-1371-49b8-81eb-252fc0395e0c"
      },
      "source": [
        "print(history.history)\n",
        "plt.plot(history.history['accuracy'])\n",
        "plt.plot(history.history['val_accuracy'])\n",
        "plt.title('model accuracy')\n",
        "plt.ylabel('accuracy')\n",
        "plt.xlabel('epoch')\n",
        "plt.legend(['train','test'],loc='upper left')\n",
        "plt.show()"
      ],
      "execution_count": null,
      "outputs": [
        {
          "output_type": "stream",
          "text": [
            "{'loss': [0.691640317440033, 0.32940301299095154, 0.17014895379543304, 0.12798435986042023, 0.10509175807237625, 0.09688767790794373, 0.0911858007311821, 0.08573228865861893, 0.07815767824649811, 0.07299572974443436, 0.06635171920061111, 0.06284799426794052, 0.05668860301375389, 0.049790676683187485, 0.04984211176633835, 0.04389728233218193, 0.03954509645700455, 0.037357017397880554, 0.031383853405714035, 0.027621664106845856, 0.02381296269595623, 0.022030865773558617, 0.02022779919207096, 0.016950784251093864, 0.013597587123513222, 0.010586028918623924, 0.011326300911605358, 0.009955575689673424, 0.00838011596351862, 0.03559940680861473, 0.05182623118162155, 0.03023441880941391, 0.02159273624420166, 0.013506453484296799, 0.00951408501714468, 0.006634510587900877, 0.00610667048022151, 0.005711750593036413, 0.004924214910715818, 0.003735084319487214, 0.0034652934409677982, 0.003344068769365549, 0.002726383740082383, 0.002162256045266986, 0.0014656184939667583, 0.0022239009849727154, 0.002658988581970334, 0.0017647526692599058, 0.0023707894142717123, 0.0022014393471181393], 'accuracy': [0.6994202733039856, 0.9405797123908997, 0.9469565153121948, 0.9511111378669739, 0.9559420347213745, 0.95758455991745, 0.9623188376426697, 0.9623188376426697, 0.9680193066596985, 0.9702415466308594, 0.9742994904518127, 0.9754589200019836, 0.9774879217147827, 0.981642484664917, 0.9801932573318481, 0.9839613437652588, 0.984830915927887, 0.986859917640686, 0.9888888597488403, 0.991400957107544, 0.991304337978363, 0.992367148399353, 0.9922705292701721, 0.9948792457580566, 0.9964250922203064, 0.9971014261245728, 0.9965217113494873, 0.9965217113494873, 0.9977777600288391, 0.9894685745239258, 0.9818357229232788, 0.9900482892990112, 0.9931401014328003, 0.9966183304786682, 0.9971980452537537, 0.9987439513206482, 0.9984540939331055, 0.99893718957901, 0.99893718957901, 0.9992270469665527, 0.9991304278373718, 0.9993236660957336, 0.9992270469665527, 0.9993236660957336, 0.9997101426124573, 0.9991304278373718, 0.99893718957901, 0.9994202852249146, 0.9991304278373718, 0.9996135234832764], 'val_loss': [0.5499612092971802, 0.21974724531173706, 0.13485263288021088, 0.1355012208223343, 0.10806724429130554, 0.10476469248533249, 0.09832096099853516, 0.09195610880851746, 0.08620118349790573, 0.08431737124919891, 0.08068472146987915, 0.07082224637269974, 0.06576139479875565, 0.05697651579976082, 0.0541776642203331, 0.05163876712322235, 0.05083755776286125, 0.0453670397400856, 0.04718771204352379, 0.04301708564162254, 0.04455304890871048, 0.05913802608847618, 0.053102970123291016, 0.05211398005485535, 0.047136347740888596, 0.06467163562774658, 0.06075585260987282, 0.05649189278483391, 0.09424623847007751, 0.06407228857278824, 0.059300217777490616, 0.047418177127838135, 0.04277767613530159, 0.056702714413404465, 0.05021277815103531, 0.06196669861674309, 0.06915057450532913, 0.07786653190851212, 0.06212038919329643, 0.07909978181123734, 0.07688411325216293, 0.07592897117137909, 0.08082081377506256, 0.08068018406629562, 0.10241629183292389, 0.1194896548986435, 0.1202872097492218, 0.08752620220184326, 0.07552113384008408, 0.13570992648601532], 'val_accuracy': [0.9469565153121948, 0.9426087141036987, 0.9460869431495667, 0.9521738886833191, 0.9573913216590881, 0.9573913216590881, 0.9634782671928406, 0.9660869836807251, 0.9713043570518494, 0.9721739292144775, 0.9721739292144775, 0.9756521582603455, 0.97826087474823, 0.9817391037940979, 0.9817391037940979, 0.9843478202819824, 0.9834782481193542, 0.9852173924446106, 0.9834782481193542, 0.9852173924446106, 0.9843478202819824, 0.9834782481193542, 0.9852173924446106, 0.9852173924446106, 0.9860869646072388, 0.9878261089324951, 0.9852173924446106, 0.9869565367698669, 0.9834782481193542, 0.9834782481193542, 0.9800000190734863, 0.9852173924446106, 0.9860869646072388, 0.9826086759567261, 0.9843478202819824, 0.9860869646072388, 0.9860869646072388, 0.9852173924446106, 0.9843478202819824, 0.9843478202819824, 0.9852173924446106, 0.9852173924446106, 0.9869565367698669, 0.9878261089324951, 0.9834782481193542, 0.9826086759567261, 0.9843478202819824, 0.9860869646072388, 0.9886956810951233, 0.9843478202819824]}\n"
          ],
          "name": "stdout"
        },
        {
          "output_type": "display_data",
          "data": {
            "image/png": "[encoded data removed]",
            "text/plain": [
              "<Figure size 432x288 with 1 Axes>"
            ]
          },
          "metadata": {
            "tags": [],
            "needs_background": "light"
          }
        }
      ]
    },
    {
      "cell_type": "code",
      "metadata": {
        "colab": {
          "base_uri": "https://localhost:8080/",
          "height": 295
        },
        "id": "Jxf7G2K-Q0ap",
        "outputId": "cd30c552-9837-4b19-d987-37001ecff424"
      },
      "source": [
        "plt.plot(history.history['loss'])\n",
        "plt.plot(history.history['val_loss'])\n",
        "plt.title('model loss')\n",
        "plt.ylabel('loss')\n",
        "plt.xlabel('epoch')\n",
        "plt.legend(['train','test'],loc='upper left')\n",
        "plt.show()"
      ],
      "execution_count": null,
      "outputs": [
        {
          "output_type": "display_data",
          "data": {
            "image/png": "[encoded data removed]",
            "text/plain": [
              "<Figure size 432x288 with 1 Axes>"
            ]
          },
          "metadata": {
            "tags": [],
            "needs_background": "light"
          }
        }
      ]
    },
    {
      "cell_type": "code",
      "metadata": {
        "id": "4RnFWnRCtZ5E"
      },
      "source": [
        "y_pred = cnn_model.predict(Xtest)\n",
        "y_pred = np.argmax(y_pred,axis=-1)"
      ],
      "execution_count": null,
      "outputs": []
    },
    {
      "cell_type": "code",
      "metadata": {
        "id": "hs-5vqlbthJd"
      },
      "source": [
        "from sklearn.metrics import confusion_matrix, classification_report"
      ],
      "execution_count": null,
      "outputs": []
    },
    {
      "cell_type": "code",
      "metadata": {
        "id": "KSM2qpQMtl5q"
      },
      "source": [
        "cm = confusion_matrix(Ytest, y_pred)"
      ],
      "execution_count": null,
      "outputs": []
    },
    {
      "cell_type": "code",
      "metadata": {
        "colab": {
          "base_uri": "https://localhost:8080/",
          "height": 282
        },
        "id": "c4vtXZZLtr7d",
        "outputId": "91885b19-3fda-483a-b136-270f8340181a"
      },
      "source": [
        "sns.heatmap(cm,annot=True,fmt='g')"
      ],
      "execution_count": null,
      "outputs": [
        {
          "output_type": "execute_result",
          "data": {
            "text/plain": [
              "<matplotlib.axes._subplots.AxesSubplot at 0x7fad221c0710>"
            ]
          },
          "metadata": {
            "tags": []
          },
          "execution_count": 33
        },
        {
          "output_type": "display_data",
          "data": {
            "image/png": "[encoded data removed]",
            "text/plain": [
              "<Figure size 432x288 with 2 Axes>"
            ]
          },
          "metadata": {
            "tags": [],
            "needs_background": "light"
          }
        }
      ]
    },
    {
      "cell_type": "code",
      "metadata": {
        "colab": {
          "base_uri": "https://localhost:8080/",
          "height": 297
        },
        "id": "9VqSBg_r5oN_",
        "outputId": "8c3373fd-ee03-4540-9f62-2b2c78214280"
      },
      "source": [
        "incorr_fraction = 1 - np.diag(cm) / np.sum(cm, axis=1)\n",
        "plt.bar(np.arange(2), incorr_fraction)\n",
        "plt.xlabel('True Label')\n",
        "plt.ylabel('Fraction of incorrect predictions')"
      ],
      "execution_count": null,
      "outputs": [
        {
          "output_type": "execute_result",
          "data": {
            "text/plain": [
              "Text(0, 0.5, 'Fraction of incorrect predictions')"
            ]
          },
          "metadata": {
            "tags": []
          },
          "execution_count": 34
        },
        {
          "output_type": "display_data",
          "data": {
            "image/png": "[encoded data removed]",
            "text/plain": [
              "<Figure size 432x288 with 1 Axes>"
            ]
          },
          "metadata": {
            "tags": [],
            "needs_background": "light"
          }
        }
      ]
    },
    {
      "cell_type": "code",
      "metadata": {
        "colab": {
          "base_uri": "https://localhost:8080/"
        },
        "id": "HWbxNG3TKpOK",
        "outputId": "59914f16-ca54-43e9-f42a-f4ba32f4c6a8"
      },
      "source": [
        "cp = classification_report(Ytest,y_pred)\n",
        "print(cp)"
      ],
      "execution_count": null,
      "outputs": [
        {
          "output_type": "stream",
          "text": [
            "              precision    recall  f1-score   support\n",
            "\n",
            "           0       0.98      1.00      0.99       909\n",
            "           1       0.98      0.94      0.96       241\n",
            "\n",
            "    accuracy                           0.98      1150\n",
            "   macro avg       0.98      0.97      0.98      1150\n",
            "weighted avg       0.98      0.98      0.98      1150\n",
            "\n"
          ],
          "name": "stdout"
        }
      ]
    },
    {
      "cell_type": "markdown",
      "metadata": {
        "id": "h82ZfSoguV1b"
      },
      "source": [
        "#CNN_LSTM Model"
      ]
    },
    {
      "cell_type": "code",
      "metadata": {
        "id": "Co-KI6EJuomF"
      },
      "source": [
        "from keras.layers import LSTM"
      ],
      "execution_count": null,
      "outputs": []
    },
    {
      "cell_type": "code",
      "metadata": {
        "id": "NWeKyHPx0xGC"
      },
      "source": [
        "model_LSTM = Sequential()\n",
        "model_LSTM.add(Conv1D(64,kernel_size=3,activation='relu',strides=1,input_shape=(Xtrain.shape[1],Xtrain.shape[2])))\n",
        "model_LSTM.add(MaxPooling1D(pool_size=2,strides=2))\n",
        "\n",
        "model_LSTM.add(Conv1D(128,kernel_size=3,activation='relu'))\n",
        "model_LSTM.add(Conv1D(512,kernel_size=3,activation='relu'))\n",
        "model_LSTM.add(Conv1D(1024,kernel_size=3,activation='relu'))\n",
        "\n",
        "#model.add(Flatten())\n",
        "model_LSTM.add(Dense(256,activation='relu'))\n",
        "model_LSTM.add(Dropout(0.2))\n",
        "model_LSTM.add(LSTM(64,activation='tanh',return_sequences=True))\n",
        "model_LSTM.add(LSTM(64,activation='tanh'))\n",
        "model_LSTM.add(Dense(256,activation='relu'))\n",
        "model_LSTM.add(Dense(128,activation='relu'))\n",
        "model_LSTM.add(Dense(64,activation='relu'))\n",
        "model_LSTM.add(Dense(2, activation = 'softmax'))\n"
      ],
      "execution_count": null,
      "outputs": []
    },
    {
      "cell_type": "code",
      "metadata": {
        "id": "_9R-h_IovAo8"
      },
      "source": [
        "model_LSTM = Sequential()\n",
        "model_LSTM.add(Conv1D(64,kernel_size=3,activation='relu',strides=1,input_shape=(Xtrain.shape[1],Xtrain.shape[2])))\n",
        "model_LSTM.add(MaxPooling1D(pool_size=2,strides=2))\n",
        "\n",
        "model_LSTM.add(Conv1D(128,kernel_size=3,activation='relu'))\n",
        "model_LSTM.add(Conv1D(512,kernel_size=3,activation='relu'))\n",
        "model_LSTM.add(Conv1D(1024,kernel_size=3,activation='relu'))\n",
        "x = model_LSTM.output\n",
        "#model.add(Flatten())\n",
        "x = Dense(256,activation='relu')(x)\n",
        "x = Dropout(0.2)(x)\n",
        "x = LSTM(64,activation='tanh',return_sequences=True)(x)\n",
        "x = LSTM(64,activation='tanh')(x)\n",
        "x = Dense(256,activation='relu')(x)\n",
        "x = Dense(128,activation='relu')(x)\n",
        "x =Dense(64,activation='relu')(x)\n",
        "prediction_layer =  Dense(2, activation = 'softmax')(x)"
      ],
      "execution_count": null,
      "outputs": []
    },
    {
      "cell_type": "code",
      "metadata": {
        "id": "mPqh5bijw2XG"
      },
      "source": [
        "#model_CNN_LSTM = Model(inputs=model_LSTM.input,outputs=prediction_layer)"
      ],
      "execution_count": null,
      "outputs": []
    },
    {
      "cell_type": "code",
      "metadata": {
        "id": "I3qOm8l_xb6F",
        "colab": {
          "base_uri": "https://localhost:8080/"
        },
        "outputId": "9e57292f-5e81-45b5-b8d4-75990590d6bd"
      },
      "source": [
        "model_LSTM.summary()"
      ],
      "execution_count": null,
      "outputs": [
        {
          "output_type": "stream",
          "text": [
            "Model: \"sequential_5\"\n",
            "_________________________________________________________________\n",
            "Layer (type)                 Output Shape              Param #   \n",
            "=================================================================\n",
            "conv1d_20 (Conv1D)           (None, 176, 64)           256       \n",
            "_________________________________________________________________\n",
            "max_pooling1d_5 (MaxPooling1 (None, 88, 64)            0         \n",
            "_________________________________________________________________\n",
            "conv1d_21 (Conv1D)           (None, 86, 128)           24704     \n",
            "_________________________________________________________________\n",
            "conv1d_22 (Conv1D)           (None, 84, 512)           197120    \n",
            "_________________________________________________________________\n",
            "conv1d_23 (Conv1D)           (None, 82, 1024)          1573888   \n",
            "_________________________________________________________________\n",
            "dense_25 (Dense)             (None, 82, 256)           262400    \n",
            "_________________________________________________________________\n",
            "dropout_5 (Dropout)          (None, 82, 256)           0         \n",
            "_________________________________________________________________\n",
            "lstm_8 (LSTM)                (None, 82, 64)            82176     \n",
            "_________________________________________________________________\n",
            "lstm_9 (LSTM)                (None, 64)                33024     \n",
            "_________________________________________________________________\n",
            "dense_26 (Dense)             (None, 256)               16640     \n",
            "_________________________________________________________________\n",
            "dense_27 (Dense)             (None, 128)               32896     \n",
            "_________________________________________________________________\n",
            "dense_28 (Dense)             (None, 64)                8256      \n",
            "_________________________________________________________________\n",
            "dense_29 (Dense)             (None, 2)                 130       \n",
            "=================================================================\n",
            "Total params: 2,231,490\n",
            "Trainable params: 2,231,490\n",
            "Non-trainable params: 0\n",
            "_________________________________________________________________\n"
          ],
          "name": "stdout"
        }
      ]
    },
    {
      "cell_type": "code",
      "metadata": {
        "id": "p8dPjV5FxMTn"
      },
      "source": [
        "model_LSTM.compile(loss=keras.losses.categorical_crossentropy,optimizer=keras.optimizers.Adam(),metrics=['accuracy'])"
      ],
      "execution_count": null,
      "outputs": []
    },
    {
      "cell_type": "code",
      "metadata": {
        "id": "EwymOitXxhkP"
      },
      "source": [
        "batch_size = 1350\n",
        "epochs = 50"
      ],
      "execution_count": null,
      "outputs": []
    },
    {
      "cell_type": "code",
      "metadata": {
        "colab": {
          "base_uri": "https://localhost:8080/"
        },
        "id": "dDPhc9_Ixtdy",
        "outputId": "ba7c1899-7a1a-4a82-e12a-a58177983291"
      },
      "source": [
        "history_LSTM = model_LSTM.fit(Xtrain,Ytrain_one_hot,batch_size=batch_size,epochs=epochs,verbose=1,validation_data=(Xtest,Ytest_one_hot))"
      ],
      "execution_count": null,
      "outputs": [
        {
          "output_type": "stream",
          "text": [
            "Epoch 1/50\n",
            "8/8 [==============================] - 8s 574ms/step - loss: 0.6454 - accuracy: 0.8212 - val_loss: 0.2968 - val_accuracy: 0.9043\n",
            "Epoch 2/50\n",
            "8/8 [==============================] - 4s 441ms/step - loss: 0.2259 - accuracy: 0.9264 - val_loss: 0.1707 - val_accuracy: 0.9443\n",
            "Epoch 3/50\n",
            "8/8 [==============================] - 4s 442ms/step - loss: 0.1578 - accuracy: 0.9403 - val_loss: 0.1594 - val_accuracy: 0.9374\n",
            "Epoch 4/50\n",
            "8/8 [==============================] - 4s 444ms/step - loss: 0.1389 - accuracy: 0.9472 - val_loss: 0.1571 - val_accuracy: 0.9391\n",
            "Epoch 5/50\n",
            "8/8 [==============================] - 4s 445ms/step - loss: 0.1260 - accuracy: 0.9477 - val_loss: 0.1255 - val_accuracy: 0.9522\n",
            "Epoch 6/50\n",
            "8/8 [==============================] - 4s 450ms/step - loss: 0.1048 - accuracy: 0.9559 - val_loss: 0.1169 - val_accuracy: 0.9530\n",
            "Epoch 7/50\n",
            "8/8 [==============================] - 4s 454ms/step - loss: 0.1039 - accuracy: 0.9554 - val_loss: 0.1076 - val_accuracy: 0.9557\n",
            "Epoch 8/50\n",
            "8/8 [==============================] - 4s 458ms/step - loss: 0.0920 - accuracy: 0.9610 - val_loss: 0.1107 - val_accuracy: 0.9583\n",
            "Epoch 9/50\n",
            "8/8 [==============================] - 4s 459ms/step - loss: 0.0927 - accuracy: 0.9629 - val_loss: 0.1018 - val_accuracy: 0.9635\n",
            "Epoch 10/50\n",
            "8/8 [==============================] - 4s 458ms/step - loss: 0.0900 - accuracy: 0.9620 - val_loss: 0.1016 - val_accuracy: 0.9617\n",
            "Epoch 11/50\n",
            "8/8 [==============================] - 4s 452ms/step - loss: 0.0843 - accuracy: 0.9656 - val_loss: 0.1015 - val_accuracy: 0.9626\n",
            "Epoch 12/50\n",
            "8/8 [==============================] - 4s 446ms/step - loss: 0.0833 - accuracy: 0.9654 - val_loss: 0.0990 - val_accuracy: 0.9600\n",
            "Epoch 13/50\n",
            "8/8 [==============================] - 4s 446ms/step - loss: 0.0816 - accuracy: 0.9657 - val_loss: 0.1118 - val_accuracy: 0.9652\n",
            "Epoch 14/50\n",
            "8/8 [==============================] - 4s 441ms/step - loss: 0.0844 - accuracy: 0.9670 - val_loss: 0.0865 - val_accuracy: 0.9670\n",
            "Epoch 15/50\n",
            "8/8 [==============================] - 4s 439ms/step - loss: 0.0693 - accuracy: 0.9741 - val_loss: 0.0879 - val_accuracy: 0.9678\n",
            "Epoch 16/50\n",
            "8/8 [==============================] - 3s 438ms/step - loss: 0.0684 - accuracy: 0.9749 - val_loss: 0.0793 - val_accuracy: 0.9678\n",
            "Epoch 17/50\n",
            "8/8 [==============================] - 3s 436ms/step - loss: 0.0658 - accuracy: 0.9745 - val_loss: 0.0949 - val_accuracy: 0.9696\n",
            "Epoch 18/50\n",
            "8/8 [==============================] - 3s 437ms/step - loss: 0.0669 - accuracy: 0.9723 - val_loss: 0.0663 - val_accuracy: 0.9739\n",
            "Epoch 19/50\n",
            "8/8 [==============================] - 3s 432ms/step - loss: 0.0545 - accuracy: 0.9800 - val_loss: 0.0626 - val_accuracy: 0.9774\n",
            "Epoch 20/50\n",
            "8/8 [==============================] - 3s 432ms/step - loss: 0.0502 - accuracy: 0.9813 - val_loss: 0.0916 - val_accuracy: 0.9722\n",
            "Epoch 21/50\n",
            "8/8 [==============================] - 3s 435ms/step - loss: 0.0645 - accuracy: 0.9732 - val_loss: 0.0678 - val_accuracy: 0.9765\n",
            "Epoch 22/50\n",
            "8/8 [==============================] - 3s 430ms/step - loss: 0.0563 - accuracy: 0.9797 - val_loss: 0.0616 - val_accuracy: 0.9791\n",
            "Epoch 23/50\n",
            "8/8 [==============================] - 3s 429ms/step - loss: 0.0506 - accuracy: 0.9812 - val_loss: 0.0723 - val_accuracy: 0.9757\n",
            "Epoch 24/50\n",
            "8/8 [==============================] - 3s 431ms/step - loss: 0.0547 - accuracy: 0.9787 - val_loss: 0.0666 - val_accuracy: 0.9800\n",
            "Epoch 25/50\n",
            "8/8 [==============================] - 3s 431ms/step - loss: 0.0420 - accuracy: 0.9851 - val_loss: 0.0519 - val_accuracy: 0.9826\n",
            "Epoch 26/50\n",
            "8/8 [==============================] - 3s 431ms/step - loss: 0.0373 - accuracy: 0.9874 - val_loss: 0.0458 - val_accuracy: 0.9826\n",
            "Epoch 27/50\n",
            "8/8 [==============================] - 3s 432ms/step - loss: 0.0366 - accuracy: 0.9887 - val_loss: 0.0523 - val_accuracy: 0.9826\n",
            "Epoch 28/50\n",
            "8/8 [==============================] - 3s 433ms/step - loss: 0.0398 - accuracy: 0.9844 - val_loss: 0.0457 - val_accuracy: 0.9817\n",
            "Epoch 29/50\n",
            "8/8 [==============================] - 3s 434ms/step - loss: 0.0368 - accuracy: 0.9864 - val_loss: 0.0473 - val_accuracy: 0.9843\n",
            "Epoch 30/50\n",
            "8/8 [==============================] - 4s 439ms/step - loss: 0.0311 - accuracy: 0.9883 - val_loss: 0.0416 - val_accuracy: 0.9852\n",
            "Epoch 31/50\n",
            "8/8 [==============================] - 3s 436ms/step - loss: 0.0285 - accuracy: 0.9901 - val_loss: 0.0467 - val_accuracy: 0.9817\n",
            "Epoch 32/50\n",
            "8/8 [==============================] - 3s 437ms/step - loss: 0.0325 - accuracy: 0.9890 - val_loss: 0.0475 - val_accuracy: 0.9835\n",
            "Epoch 33/50\n",
            "8/8 [==============================] - 3s 437ms/step - loss: 0.0311 - accuracy: 0.9884 - val_loss: 0.0433 - val_accuracy: 0.9870\n",
            "Epoch 34/50\n",
            "8/8 [==============================] - 4s 439ms/step - loss: 0.0307 - accuracy: 0.9893 - val_loss: 0.0668 - val_accuracy: 0.9800\n",
            "Epoch 35/50\n",
            "8/8 [==============================] - 4s 439ms/step - loss: 0.0363 - accuracy: 0.9865 - val_loss: 0.0573 - val_accuracy: 0.9870\n",
            "Epoch 36/50\n",
            "8/8 [==============================] - 3s 438ms/step - loss: 0.0312 - accuracy: 0.9890 - val_loss: 0.0571 - val_accuracy: 0.9800\n",
            "Epoch 37/50\n",
            "8/8 [==============================] - 3s 438ms/step - loss: 0.0321 - accuracy: 0.9886 - val_loss: 0.0408 - val_accuracy: 0.9852\n",
            "Epoch 38/50\n",
            "8/8 [==============================] - 3s 438ms/step - loss: 0.0244 - accuracy: 0.9909 - val_loss: 0.0453 - val_accuracy: 0.9852\n",
            "Epoch 39/50\n",
            "8/8 [==============================] - 3s 438ms/step - loss: 0.0248 - accuracy: 0.9917 - val_loss: 0.0511 - val_accuracy: 0.9852\n",
            "Epoch 40/50\n",
            "8/8 [==============================] - 3s 437ms/step - loss: 0.0244 - accuracy: 0.9913 - val_loss: 0.0501 - val_accuracy: 0.9835\n",
            "Epoch 41/50\n",
            "8/8 [==============================] - 3s 436ms/step - loss: 0.0225 - accuracy: 0.9915 - val_loss: 0.0443 - val_accuracy: 0.9870\n",
            "Epoch 42/50\n",
            "8/8 [==============================] - 3s 436ms/step - loss: 0.0223 - accuracy: 0.9922 - val_loss: 0.0396 - val_accuracy: 0.9843\n",
            "Epoch 43/50\n",
            "8/8 [==============================] - 3s 434ms/step - loss: 0.0236 - accuracy: 0.9913 - val_loss: 0.0478 - val_accuracy: 0.9817\n",
            "Epoch 44/50\n",
            "8/8 [==============================] - 3s 434ms/step - loss: 0.0191 - accuracy: 0.9932 - val_loss: 0.0541 - val_accuracy: 0.9835\n",
            "Epoch 45/50\n",
            "8/8 [==============================] - 3s 435ms/step - loss: 0.0213 - accuracy: 0.9929 - val_loss: 0.0469 - val_accuracy: 0.9870\n",
            "Epoch 46/50\n",
            "8/8 [==============================] - 3s 435ms/step - loss: 0.0198 - accuracy: 0.9932 - val_loss: 0.0700 - val_accuracy: 0.9748\n",
            "Epoch 47/50\n",
            "8/8 [==============================] - 3s 435ms/step - loss: 0.0371 - accuracy: 0.9875 - val_loss: 0.0475 - val_accuracy: 0.9835\n",
            "Epoch 48/50\n",
            "8/8 [==============================] - 3s 435ms/step - loss: 0.0275 - accuracy: 0.9909 - val_loss: 0.0550 - val_accuracy: 0.9870\n",
            "Epoch 49/50\n",
            "8/8 [==============================] - 3s 438ms/step - loss: 0.0280 - accuracy: 0.9912 - val_loss: 0.0468 - val_accuracy: 0.9843\n",
            "Epoch 50/50\n",
            "8/8 [==============================] - 3s 434ms/step - loss: 0.0247 - accuracy: 0.9924 - val_loss: 0.0462 - val_accuracy: 0.9870\n"
          ],
          "name": "stdout"
        }
      ]
    },
    {
      "cell_type": "code",
      "metadata": {
        "colab": {
          "base_uri": "https://localhost:8080/"
        },
        "id": "6OQbnvONQVGN",
        "outputId": "945ab385-6e36-4db2-dffc-e6d61323e457"
      },
      "source": [
        "score = model_LSTM.evaluate(Xtrain,Ytrain_one_hot,verbose=0)\n",
        "print('test loss = ',score[0])\n",
        "print('accuracy = ',score[1])"
      ],
      "execution_count": null,
      "outputs": [
        {
          "output_type": "stream",
          "text": [
            "test loss =  0.019920876249670982\n",
            "accuracy =  0.9928502440452576\n"
          ],
          "name": "stdout"
        }
      ]
    },
    {
      "cell_type": "code",
      "metadata": {
        "colab": {
          "base_uri": "https://localhost:8080/"
        },
        "id": "eRWxMYqUQrUh",
        "outputId": "10e0792a-0ac4-4f61-bf61-637858ed7f0a"
      },
      "source": [
        "score = model_LSTM.evaluate(Xtest,Ytest_one_hot,verbose=0)\n",
        "print('test loss = ',score[0])\n",
        "print('accuracy = ',score[1])"
      ],
      "execution_count": null,
      "outputs": [
        {
          "output_type": "stream",
          "text": [
            "test loss =  0.04615790396928787\n",
            "accuracy =  0.9869565367698669\n"
          ],
          "name": "stdout"
        }
      ]
    },
    {
      "cell_type": "code",
      "metadata": {
        "colab": {
          "base_uri": "https://localhost:8080/",
          "height": 295
        },
        "id": "1PYPZp92ROtI",
        "outputId": "06221d10-9255-4f98-927b-6053b1cd166e"
      },
      "source": [
        "#print(history_LSTM.history)\n",
        "plt.plot(history.history['accuracy'])\n",
        "plt.plot(history_LSTM.history['val_accuracy'])\n",
        "plt.title('model accuracy')\n",
        "plt.ylabel('accuracy')\n",
        "plt.xlabel('epoch')\n",
        "plt.legend(['train','test'],loc='upper left')\n",
        "plt.show()"
      ],
      "execution_count": null,
      "outputs": [
        {
          "output_type": "display_data",
          "data": {
            "image/png": "[encoded data removed]",
            "text/plain": [
              "<Figure size 432x288 with 1 Axes>"
            ]
          },
          "metadata": {
            "tags": [],
            "needs_background": "light"
          }
        }
      ]
    },
    {
      "cell_type": "code",
      "metadata": {
        "colab": {
          "base_uri": "https://localhost:8080/",
          "height": 295
        },
        "id": "M_K4NXz1RjhZ",
        "outputId": "716fce9d-bbb5-43cc-8712-511b2c1092ff"
      },
      "source": [
        "plt.plot(history_LSTM.history['loss'])\n",
        "plt.plot(history_LSTM.history['val_loss'])\n",
        "plt.title('model loss')\n",
        "plt.ylabel('loss')\n",
        "plt.xlabel('epoch')\n",
        "plt.legend(['train','test'],loc='upper left')\n",
        "plt.show()"
      ],
      "execution_count": null,
      "outputs": [
        {
          "output_type": "display_data",
          "data": {
            "image/png": "[encoded data removed]",
            "text/plain": [
              "<Figure size 432x288 with 1 Axes>"
            ]
          },
          "metadata": {
            "tags": [],
            "needs_background": "light"
          }
        }
      ]
    },
    {
      "cell_type": "code",
      "metadata": {
        "id": "sG4bW7W7RyBa"
      },
      "source": [
        "y_pred = model_LSTM.predict(Xtest)\n",
        "y_pred = np.argmax(y_pred,axis=-1)"
      ],
      "execution_count": null,
      "outputs": []
    },
    {
      "cell_type": "code",
      "metadata": {
        "id": "SVThsKfnSA40"
      },
      "source": [
        "from sklearn.metrics import confusion_matrix,classification_report"
      ],
      "execution_count": null,
      "outputs": []
    },
    {
      "cell_type": "code",
      "metadata": {
        "id": "uc5C2T9aSIq0"
      },
      "source": [
        "cm = confusion_matrix(Ytest, y_pred)"
      ],
      "execution_count": null,
      "outputs": []
    },
    {
      "cell_type": "code",
      "metadata": {
        "colab": {
          "base_uri": "https://localhost:8080/",
          "height": 286
        },
        "id": "Jfk9K03rSKhq",
        "outputId": "967af2aa-4af5-4860-c9a8-168a433f8948"
      },
      "source": [
        "sns.heatmap(cm, annot=True,fmt='g')"
      ],
      "execution_count": null,
      "outputs": [
        {
          "output_type": "execute_result",
          "data": {
            "text/plain": [
              "<matplotlib.axes._subplots.AxesSubplot at 0x7fab79aa3790>"
            ]
          },
          "metadata": {
            "tags": []
          },
          "execution_count": 140
        },
        {
          "output_type": "display_data",
          "data": {
            "image/png": "[encoded data removed]",
            "text/plain": [
              "<Figure size 432x288 with 2 Axes>"
            ]
          },
          "metadata": {
            "tags": [],
            "needs_background": "light"
          }
        }
      ]
    },
    {
      "cell_type": "code",
      "metadata": {
        "colab": {
          "base_uri": "https://localhost:8080/",
          "height": 296
        },
        "id": "ZFrmkd6R7ceC",
        "outputId": "2cf54398-6b0f-492e-ef32-5ebc0529d7fd"
      },
      "source": [
        "incorr_fraction = 1 - np.diag(cm) / np.sum(cm, axis=1)\n",
        "plt.bar(np.arange(2), incorr_fraction)\n",
        "plt.xlabel('True Label')\n",
        "plt.ylabel('Fraction of incorrect predictions')"
      ],
      "execution_count": null,
      "outputs": [
        {
          "output_type": "execute_result",
          "data": {
            "text/plain": [
              "Text(0, 0.5, 'Fraction of incorrect predictions')"
            ]
          },
          "metadata": {
            "tags": []
          },
          "execution_count": 141
        },
        {
          "output_type": "display_data",
          "data": {
            "image/png": "[encoded data removed]",
            "text/plain": [
              "<Figure size 432x288 with 1 Axes>"
            ]
          },
          "metadata": {
            "tags": [],
            "needs_background": "light"
          }
        }
      ]
    },
    {
      "cell_type": "code",
      "metadata": {
        "colab": {
          "base_uri": "https://localhost:8080/"
        },
        "id": "fJbMew5_NMUH",
        "outputId": "d1998e28-d5e9-45fd-86f1-e733bace055c"
      },
      "source": [
        "cp = classification_report(Ytest,y_pred)\n",
        "print(cp)"
      ],
      "execution_count": null,
      "outputs": [
        {
          "output_type": "stream",
          "text": [
            "              precision    recall  f1-score   support\n",
            "\n",
            "           0       0.99      0.99      0.99       909\n",
            "           1       0.97      0.96      0.97       241\n",
            "\n",
            "    accuracy                           0.99      1150\n",
            "   macro avg       0.98      0.98      0.98      1150\n",
            "weighted avg       0.99      0.99      0.99      1150\n",
            "\n"
          ],
          "name": "stdout"
        }
      ]
    },
    {
      "cell_type": "markdown",
      "metadata": {
        "id": "xrZ5auOiSZy1"
      },
      "source": [
        "#CNN_Model & CNN_LSTM_Model Courbe"
      ]
    },
    {
      "cell_type": "code",
      "metadata": {
        "colab": {
          "base_uri": "https://localhost:8080/",
          "height": 295
        },
        "id": "5n44-XB-Sgau",
        "outputId": "4c91903f-1fff-4943-9303-21e2a600e9e5"
      },
      "source": [
        "#print(history_LSTM.history)\n",
        "#plt.plot(history_LSTM.history['accuracy'])\n",
        "plt.plot(history_LSTM.history['val_accuracy'])\n",
        "plt.plot(history.history['val_accuracy'])\n",
        "plt.title('model accuracy')\n",
        "plt.ylabel('accuracy')\n",
        "plt.xlabel('epoch')\n",
        "plt.legend(['CNN_LSTM_Model','CNN_Model'],loc='upper left')\n",
        "plt.show()"
      ],
      "execution_count": null,
      "outputs": [
        {
          "output_type": "display_data",
          "data": {
            "image/png": "[encoded data removed]",
            "text/plain": [
              "<Figure size 432x288 with 1 Axes>"
            ]
          },
          "metadata": {
            "tags": [],
            "needs_background": "light"
          }
        }
      ]
    },
    {
      "cell_type": "code",
      "metadata": {
        "colab": {
          "base_uri": "https://localhost:8080/",
          "height": 295
        },
        "id": "mBRY58G-TDst",
        "outputId": "7088b727-ea84-401e-fc8b-ffb327087cb2"
      },
      "source": [
        "plt.plot(history_LSTM.history['val_loss'])\n",
        "plt.plot(history.history['val_loss'])\n",
        "plt.title('model loss')\n",
        "plt.ylabel('loss')\n",
        "plt.xlabel('epoch')\n",
        "plt.legend(['CNN_LSTM_Model','CNN_Model'],loc='upper left')\n",
        "plt.show()"
      ],
      "execution_count": null,
      "outputs": [
        {
          "output_type": "display_data",
          "data": {
            "image/png": "[encoded data removed]",
            "text/plain": [
              "<Figure size 432x288 with 1 Axes>"
            ]
          },
          "metadata": {
            "tags": [],
            "needs_background": "light"
          }
        }
      ]
    },
    {
      "cell_type": "markdown",
      "metadata": {
        "id": "JDWrAHLaTOHb"
      },
      "source": [
        "#CNN_SVM_Model"
      ]
    },
    {
      "cell_type": "code",
      "metadata": {
        "id": "jlNmUXNdTTsL"
      },
      "source": [
        "X_for_SVM = cnn_model.predict(Xtrain)"
      ],
      "execution_count": null,
      "outputs": []
    },
    {
      "cell_type": "code",
      "metadata": {
        "id": "WQNM0tMwTfWW"
      },
      "source": [
        "from sklearn.svm import SVC"
      ],
      "execution_count": null,
      "outputs": []
    },
    {
      "cell_type": "code",
      "metadata": {
        "id": "u8I-EqhdTmBA"
      },
      "source": [
        "SVM_model = SVC(gamma='auto',C=150,kernel='linear')"
      ],
      "execution_count": null,
      "outputs": []
    },
    {
      "cell_type": "code",
      "metadata": {
        "colab": {
          "base_uri": "https://localhost:8080/"
        },
        "id": "e3jEYtzDTqz2",
        "outputId": "5a4e62a0-18bd-48b1-dc62-3919ff39ef7d"
      },
      "source": [
        "SVM_model.fit(X_for_SVM,Ytrain)"
      ],
      "execution_count": null,
      "outputs": [
        {
          "output_type": "execute_result",
          "data": {
            "text/plain": [
              "SVC(C=150, break_ties=False, cache_size=200, class_weight=None, coef0=0.0,\n",
              "    decision_function_shape='ovr', degree=3, gamma='auto', kernel='linear',\n",
              "    max_iter=-1, probability=False, random_state=None, shrinking=True,\n",
              "    tol=0.001, verbose=False)"
            ]
          },
          "metadata": {
            "tags": []
          },
          "execution_count": 57
        }
      ]
    },
    {
      "cell_type": "code",
      "metadata": {
        "id": "6zvLVXMJWFBe"
      },
      "source": [
        "X_test_features = cnn_model.predict(Xtest)"
      ],
      "execution_count": null,
      "outputs": []
    },
    {
      "cell_type": "code",
      "metadata": {
        "id": "u_K4eBw0WQwD"
      },
      "source": [
        "prediction_SVM = SVM_model.predict(X_test_features)"
      ],
      "execution_count": null,
      "outputs": []
    },
    {
      "cell_type": "code",
      "metadata": {
        "id": "FG0oWsRrW5E0"
      },
      "source": [
        "from sklearn import metrics"
      ],
      "execution_count": null,
      "outputs": []
    },
    {
      "cell_type": "code",
      "metadata": {
        "colab": {
          "base_uri": "https://localhost:8080/"
        },
        "id": "_eNXhmJ3W90b",
        "outputId": "2965cb4c-35b4-4d51-bd26-ca6dadd4a81d"
      },
      "source": [
        "print (\"Accuracy = \", metrics.accuracy_score(Ytest, prediction_SVM))"
      ],
      "execution_count": null,
      "outputs": [
        {
          "output_type": "stream",
          "text": [
            "Accuracy =  0.9826086956521739\n"
          ],
          "name": "stdout"
        }
      ]
    },
    {
      "cell_type": "code",
      "metadata": {
        "colab": {
          "base_uri": "https://localhost:8080/"
        },
        "id": "TvWohydBXT7z",
        "outputId": "bf2a07ff-24b7-44af-a5f1-39f0a637e56a"
      },
      "source": [
        "cm = confusion_matrix(Ytest, prediction_SVM)\n",
        "print(cm)"
      ],
      "execution_count": null,
      "outputs": [
        {
          "output_type": "stream",
          "text": [
            "[[902   7]\n",
            " [ 13 228]]\n"
          ],
          "name": "stdout"
        }
      ]
    },
    {
      "cell_type": "code",
      "metadata": {
        "colab": {
          "base_uri": "https://localhost:8080/",
          "height": 286
        },
        "id": "VetSGmc0XaDf",
        "outputId": "7cda8643-3781-4b58-ef70-6829adf8257b"
      },
      "source": [
        "sns.heatmap(cm, annot=True,fmt='g')"
      ],
      "execution_count": null,
      "outputs": [
        {
          "output_type": "execute_result",
          "data": {
            "text/plain": [
              "<matplotlib.axes._subplots.AxesSubplot at 0x7fad2b16c3d0>"
            ]
          },
          "metadata": {
            "tags": []
          },
          "execution_count": 63
        },
        {
          "output_type": "display_data",
          "data": {
            "image/png": "[encoded data removed]",
            "text/plain": [
              "<Figure size 432x288 with 2 Axes>"
            ]
          },
          "metadata": {
            "tags": [],
            "needs_background": "light"
          }
        }
      ]
    },
    {
      "cell_type": "code",
      "metadata": {
        "colab": {
          "base_uri": "https://localhost:8080/",
          "height": 296
        },
        "id": "gnHc6vEc8RKT",
        "outputId": "32e5cf66-99da-460f-e378-f5c68c3ca034"
      },
      "source": [
        "incorr_fraction = 1 - np.diag(cm) / np.sum(cm, axis=1)\n",
        "plt.bar(np.arange(2), incorr_fraction)\n",
        "plt.xlabel('True Label')\n",
        "plt.ylabel('Fraction of incorrect predictions')"
      ],
      "execution_count": null,
      "outputs": [
        {
          "output_type": "execute_result",
          "data": {
            "text/plain": [
              "Text(0, 0.5, 'Fraction of incorrect predictions')"
            ]
          },
          "metadata": {
            "tags": []
          },
          "execution_count": 64
        },
        {
          "output_type": "display_data",
          "data": {
            "image/png": "[encoded data removed]",
            "text/plain": [
              "<Figure size 432x288 with 1 Axes>"
            ]
          },
          "metadata": {
            "tags": [],
            "needs_background": "light"
          }
        }
      ]
    },
    {
      "cell_type": "code",
      "metadata": {
        "colab": {
          "base_uri": "https://localhost:8080/"
        },
        "id": "wtE6cJs6OmiD",
        "outputId": "b79eb4aa-cb83-4f79-aa79-0465cc9ec577"
      },
      "source": [
        "cp = classification_report(Ytest,y_pred)\n",
        "print(cp)"
      ],
      "execution_count": null,
      "outputs": [
        {
          "output_type": "stream",
          "text": [
            "              precision    recall  f1-score   support\n",
            "\n",
            "           0       0.99      1.00      0.99       909\n",
            "           1       0.98      0.95      0.97       241\n",
            "\n",
            "    accuracy                           0.99      1150\n",
            "   macro avg       0.99      0.97      0.98      1150\n",
            "weighted avg       0.99      0.99      0.99      1150\n",
            "\n"
          ],
          "name": "stdout"
        }
      ]
    },
    {
      "cell_type": "markdown",
      "metadata": {
        "id": "m1Fh4bJBYhHv"
      },
      "source": [
        "#CNN_RF_Model"
      ]
    },
    {
      "cell_type": "code",
      "metadata": {
        "id": "XKZMLqI-Yls9"
      },
      "source": [
        "X_For_RF = cnn_model.predict(Xtrain)"
      ],
      "execution_count": null,
      "outputs": []
    },
    {
      "cell_type": "code",
      "metadata": {
        "id": "xYCOxlFLYtv-"
      },
      "source": [
        "from sklearn.ensemble import RandomForestClassifier"
      ],
      "execution_count": null,
      "outputs": []
    },
    {
      "cell_type": "code",
      "metadata": {
        "id": "3r0sLmX3Yx2Q"
      },
      "source": [
        "RF_model = RandomForestClassifier(n_estimators=200,criterion='entropy',random_state=42)"
      ],
      "execution_count": null,
      "outputs": []
    },
    {
      "cell_type": "code",
      "metadata": {
        "colab": {
          "base_uri": "https://localhost:8080/"
        },
        "id": "6dLeMrF4Y3V9",
        "outputId": "d786a199-4fcf-4a8f-bbf9-f82b3c978122"
      },
      "source": [
        "RF_model.fit(X_For_RF,Ytrain)"
      ],
      "execution_count": null,
      "outputs": [
        {
          "output_type": "execute_result",
          "data": {
            "text/plain": [
              "RandomForestClassifier(bootstrap=True, ccp_alpha=0.0, class_weight=None,\n",
              "                       criterion='entropy', max_depth=None, max_features='auto',\n",
              "                       max_leaf_nodes=None, max_samples=None,\n",
              "                       min_impurity_decrease=0.0, min_impurity_split=None,\n",
              "                       min_samples_leaf=1, min_samples_split=2,\n",
              "                       min_weight_fraction_leaf=0.0, n_estimators=200,\n",
              "                       n_jobs=None, oob_score=False, random_state=42, verbose=0,\n",
              "                       warm_start=False)"
            ]
          },
          "metadata": {
            "tags": []
          },
          "execution_count": 69
        }
      ]
    },
    {
      "cell_type": "code",
      "metadata": {
        "id": "tCrIMt_pZXE3"
      },
      "source": [
        "X_test_features = cnn_model.predict(Xtest)"
      ],
      "execution_count": null,
      "outputs": []
    },
    {
      "cell_type": "code",
      "metadata": {
        "id": "nsULG6YZZeYz"
      },
      "source": [
        "prediction_RF = RF_model.predict(X_test_features)"
      ],
      "execution_count": null,
      "outputs": []
    },
    {
      "cell_type": "code",
      "metadata": {
        "id": "_wwYAuD9ZjU2"
      },
      "source": [
        "from sklearn import metrics"
      ],
      "execution_count": null,
      "outputs": []
    },
    {
      "cell_type": "code",
      "metadata": {
        "colab": {
          "base_uri": "https://localhost:8080/"
        },
        "id": "lzvo-MNtZk4m",
        "outputId": "452b037c-e568-4ed1-fb93-f530e0e5e420"
      },
      "source": [
        "print (\"Accuracy = \", metrics.accuracy_score(Ytest, prediction_RF))"
      ],
      "execution_count": null,
      "outputs": [
        {
          "output_type": "stream",
          "text": [
            "Accuracy =  0.9826086956521739\n"
          ],
          "name": "stdout"
        }
      ]
    },
    {
      "cell_type": "code",
      "metadata": {
        "id": "HJRwE_UEZwp7"
      },
      "source": [
        "cm = confusion_matrix(Ytest, prediction_RF)"
      ],
      "execution_count": null,
      "outputs": []
    },
    {
      "cell_type": "code",
      "metadata": {
        "colab": {
          "base_uri": "https://localhost:8080/",
          "height": 286
        },
        "id": "VLCwkjGiZ2ce",
        "outputId": "3934c441-5c2a-48dc-82f4-2c940bc5296d"
      },
      "source": [
        "sns.heatmap(cm, annot=True,fmt='g')"
      ],
      "execution_count": null,
      "outputs": [
        {
          "output_type": "execute_result",
          "data": {
            "text/plain": [
              "<matplotlib.axes._subplots.AxesSubplot at 0x7fab8e31b810>"
            ]
          },
          "metadata": {
            "tags": []
          },
          "execution_count": 75
        },
        {
          "output_type": "display_data",
          "data": {
            "image/png": "[encoded data removed]",
            "text/plain": [
              "<Figure size 432x288 with 2 Axes>"
            ]
          },
          "metadata": {
            "tags": [],
            "needs_background": "light"
          }
        }
      ]
    },
    {
      "cell_type": "code",
      "metadata": {
        "colab": {
          "base_uri": "https://localhost:8080/",
          "height": 296
        },
        "id": "-k_bR1G28uwC",
        "outputId": "5a7cca55-1d9e-4fb1-fbde-4d33a799a1fe"
      },
      "source": [
        "incorr_fraction = 1 - np.diag(cm) / np.sum(cm, axis=1)\n",
        "plt.bar(np.arange(2), incorr_fraction)\n",
        "plt.xlabel('True Label')\n",
        "plt.ylabel('Fraction of incorrect predictions')"
      ],
      "execution_count": null,
      "outputs": [
        {
          "output_type": "execute_result",
          "data": {
            "text/plain": [
              "Text(0, 0.5, 'Fraction of incorrect predictions')"
            ]
          },
          "metadata": {
            "tags": []
          },
          "execution_count": 76
        },
        {
          "output_type": "display_data",
          "data": {
            "image/png": "[encoded data removed]",
            "text/plain": [
              "<Figure size 432x288 with 1 Axes>"
            ]
          },
          "metadata": {
            "tags": [],
            "needs_background": "light"
          }
        }
      ]
    },
    {
      "cell_type": "code",
      "metadata": {
        "colab": {
          "base_uri": "https://localhost:8080/"
        },
        "id": "3o-hqbWkOiBU",
        "outputId": "9efff844-1b30-4dd1-e9e7-23d57ae1e211"
      },
      "source": [
        "cp = classification_report(Ytest,y_pred)\n",
        "print(cp)"
      ],
      "execution_count": null,
      "outputs": [
        {
          "output_type": "stream",
          "text": [
            "              precision    recall  f1-score   support\n",
            "\n",
            "           0       0.99      1.00      0.99       909\n",
            "           1       0.98      0.95      0.97       241\n",
            "\n",
            "    accuracy                           0.99      1150\n",
            "   macro avg       0.99      0.97      0.98      1150\n",
            "weighted avg       0.99      0.99      0.99      1150\n",
            "\n"
          ],
          "name": "stdout"
        }
      ]
    },
    {
      "cell_type": "markdown",
      "metadata": {
        "id": "1cTTn_rLt3hh"
      },
      "source": [
        "#Histogramme"
      ]
    },
    {
      "cell_type": "markdown",
      "metadata": {
        "id": "mpbFCdsFz_hZ"
      },
      "source": [
        "accuracy-training & accuracy val"
      ]
    },
    {
      "cell_type": "code",
      "metadata": {
        "colab": {
          "base_uri": "https://localhost:8080/",
          "height": 297
        },
        "id": "UZHtrcIy0GL_",
        "outputId": "e3161ceb-5f5c-4599-aaa9-9b7360424c14"
      },
      "source": [
        "labels = ['CNN', 'CNN_LSTM']\n",
        "accuracy_training = [1.0,0.992]\n",
        "accuracy_val = [0.984, 0.986]\n",
        "\n",
        "x = np.arange(len(labels))  # the label locations\n",
        "width = 0.35  # the width of the bars\n",
        "\n",
        "fig, ax = plt.subplots()\n",
        "rects1 = ax.bar(x - width/2, accuracy_training, width, label='accuracy_training',color='red')\n",
        "rects2 = ax.bar(x + width/2, accuracy_val, width, label='accuracy_val')\n",
        "\n",
        "ax=plt.gca()\n",
        "for p in ax.patches:\n",
        "  ax.text(p.get_x()+p.get_width()/2,p.get_height(),'%.3f' % float(p.get_height()))\n",
        "\n",
        "# Add some text for labels, title and custom x-axis tick labels, etc.\n",
        "ax.set_ylabel('% accuracy')\n",
        "ax.set_title('Scores by model')\n",
        "ax.set_xticks(x)\n",
        "ax.set_xticklabels(labels)\n",
        "ax.legend()\n",
        "\n",
        "plt.ylim(0, 1.5) \n",
        "#ax.bar_label(rects1, padding=3)\n",
        "#ax.bar_label(rects2, padding=3)\n",
        "\n",
        "fig.tight_layout()\n",
        "\n",
        "plt.show()"
      ],
      "execution_count": null,
      "outputs": [
        {
          "output_type": "display_data",
          "data": {
            "image/png": "[encoded data removed]",
            "text/plain": [
              "<Figure size 432x288 with 1 Axes>"
            ]
          },
          "metadata": {
            "tags": [],
            "needs_background": "light"
          }
        }
      ]
    },
    {
      "cell_type": "markdown",
      "metadata": {
        "id": "q86lPfLM1eX4"
      },
      "source": [
        "accuracy 4 modéle"
      ]
    },
    {
      "cell_type": "code",
      "metadata": {
        "colab": {
          "base_uri": "https://localhost:8080/",
          "height": 297
        },
        "id": "X_pdlHfSYqoA",
        "outputId": "669fd75e-b8eb-4135-be92-508cd349144d"
      },
      "source": [
        "labels = ['CNN', 'CNN_LSTM', 'CNN_SVM', 'CNN_RF']\n",
        "twoClasss_Scores = [0.984, 0.986,0.982,0.982]\n",
        "#women_means = [25, 32, 34, 20, 25]\n",
        "\n",
        "x = np.arange(len(labels))  # the label locations\n",
        "width = 0.35  # the width of the bars\n",
        "\n",
        "fig, ax = plt.subplots()\n",
        "rects1 = ax.bar(x - width/2, twoClasss_Scores, width, label='TwoClasss_Scores',color='red')\n",
        "#rects2 = ax.bar(x + width/2, women_means, width, label='Women')\n",
        "\n",
        "ax=plt.gca()\n",
        "for p in ax.patches:\n",
        "  ax.text(p.get_x()+p.get_width()/2,p.get_height(),'%.3f' % float(p.get_height()))\n",
        "\n",
        "# Add some text for labels, title and custom x-axis tick labels, etc.\n",
        "ax.set_ylabel('% accuracy_val')\n",
        "ax.set_title('Scores by model')\n",
        "ax.set_xticks(x)\n",
        "ax.set_xticklabels(labels)\n",
        "ax.legend()\n",
        "plt.ylim(0.4, 1.2)\n",
        "\n",
        "#ax.bar_label(rects1, padding=3)\n",
        "#ax.bar_label(rects2, padding=3)\n",
        "\n",
        "fig.tight_layout()\n",
        "\n",
        "plt.show()"
      ],
      "execution_count": null,
      "outputs": [
        {
          "output_type": "display_data",
          "data": {
            "image/png": "[encoded data removed]",
            "text/plain": [
              "<Figure size 432x288 with 1 Axes>"
            ]
          },
          "metadata": {
            "tags": [],
            "needs_background": "light"
          }
        }
      ]
    },
    {
      "cell_type": "markdown",
      "metadata": {
        "id": "k9AsxsCS0b_e"
      },
      "source": [
        "accuracy model 5 classe et model binaire"
      ]
    },
    {
      "cell_type": "code",
      "metadata": {
        "colab": {
          "base_uri": "https://localhost:8080/",
          "height": 297
        },
        "id": "dyErj0GCkS3S",
        "outputId": "dfacd0f4-6c0a-4abe-d9e7-612cb87a9ab5"
      },
      "source": [
        "labels = ['CNN', 'CNN_LSTM', 'CNN_SVM', 'CNN_RF']\n",
        "twoClasss_Scores = [0.984, 0.986,0.982,0.982]\n",
        "fiveClass_Scores = [0.779, 0.760, 0.786, 0.791]\n",
        "\n",
        "x = np.arange(len(labels))  # the label locations\n",
        "width = 0.35  # the width of the bars\n",
        "\n",
        "fig, ax = plt.subplots()\n",
        "rects1 = ax.bar(x - width/2, twoClasss_Scores, width, label='TwoClasss_Scores',color='red')\n",
        "rects2 = ax.bar(x + width/2, fiveClass_Scores, width, label='fiveClass_Scores')\n",
        "\n",
        "ax=plt.gca()\n",
        "for p in ax.patches:\n",
        "  ax.text(p.get_x()+p.get_width()/2,p.get_height(),'%.3f' % float(p.get_height()),fontsize=12)\n",
        "\n",
        "# Add some text for labels, title and custom x-axis tick labels, etc.\n",
        "ax.set_ylabel('% accuracy_val')\n",
        "ax.set_title('Scores by model')\n",
        "ax.set_xticks(x)\n",
        "ax.set_xticklabels(labels)\n",
        "ax.legend()\n",
        "\n",
        "plt.ylim(0.4, 1.5) \n",
        "#ax.bar_label(rects1, padding=3)\n",
        "#ax.bar_label(rects2, padding=3)\n",
        "\n",
        "fig.tight_layout()\n",
        "\n",
        "plt.show()"
      ],
      "execution_count": null,
      "outputs": [
        {
          "output_type": "display_data",
          "data": {
            "image/png": "[encoded data removed]",
            "text/plain": [
              "<Figure size 432x288 with 1 Axes>"
            ]
          },
          "metadata": {
            "tags": [],
            "needs_background": "light"
          }
        }
      ]
    },
    {
      "cell_type": "code",
      "metadata": {
        "colab": {
          "base_uri": "https://localhost:8080/",
          "height": 297
        },
        "id": "v1xHyQKvv8Dy",
        "outputId": "70aaec7e-46c5-4aae-8555-ea2593eec5ab"
      },
      "source": [
        "labels = ['CNN', 'CNN_LSTM']\n",
        "twoClasss_Scores = [0.13,0.046]\n",
        "fiveClass_Scores = [0.93, 0.52]\n",
        "\n",
        "x = np.arange(len(labels))  # the label locations\n",
        "width = 0.35  # the width of the bars\n",
        "\n",
        "fig, ax = plt.subplots()\n",
        "rects1 = ax.bar(x - width/2, twoClasss_Scores, width, label='TwoClasss_Scores',color='red')\n",
        "rects2 = ax.bar(x + width/2, fiveClass_Scores, width, label='fiveClass_Scores')\n",
        "\n",
        "ax=plt.gca()\n",
        "for p in ax.patches:\n",
        "  ax.text(p.get_x()+p.get_width()/2,p.get_height(),'%.3f' % float(p.get_height()),fontsize=15)\n",
        "\n",
        "# Add some text for labels, title and custom x-axis tick labels, etc.\n",
        "ax.set_ylabel('% Loss_val')\n",
        "ax.set_title('Scores by model')\n",
        "ax.set_xticks(x)\n",
        "ax.set_xticklabels(labels)\n",
        "ax.legend()\n",
        "\n",
        "#plt.ylim(0, 1.5) \n",
        "#ax.bar_label(rects1, padding=3)\n",
        "#ax.bar_label(rects2, padding=3)\n",
        "\n",
        "fig.tight_layout()\n",
        "\n",
        "plt.show()"
      ],
      "execution_count": null,
      "outputs": [
        {
          "output_type": "display_data",
          "data": {
            "image/png": "[encoded data removed]",
            "text/plain": [
              "<Figure size 432x288 with 1 Axes>"
            ]
          },
          "metadata": {
            "tags": [],
            "needs_background": "light"
          }
        }
      ]
    },
    {
      "cell_type": "code",
      "metadata": {
        "colab": {
          "base_uri": "https://localhost:8080/",
          "height": 297
        },
        "id": "3BABrhr9VwRn",
        "outputId": "f5b97dbe-716c-4a9f-b340-c08a9514cc2b"
      },
      "source": [
        "labels = ['CNN_LSTM32', 'CNN_LSTM64', 'CNN_LSTM128']\n",
        "twoClasss_Scores = [0.984, 0.986,0.989]\n",
        "fiveClass_Scores = [0.708,0.760, 0.757]\n",
        "\n",
        "x = np.arange(len(labels))  # the label locations\n",
        "width = 0.35  # the width of the bars\n",
        "\n",
        "fig, ax = plt.subplots()\n",
        "rects1 = ax.bar(x - width/2, twoClasss_Scores, width, label='TwoClasss_Scores',color='red')\n",
        "rects2 = ax.bar(x + width/2, fiveClass_Scores, width, label='fiveClass_Scores')\n",
        "\n",
        "ax=plt.gca()\n",
        "for p in ax.patches:\n",
        "  ax.text(p.get_x()+p.get_width()/2,p.get_height(),'%.3f' % float(p.get_height()),fontsize=12)\n",
        "\n",
        "# Add some text for labels, title and custom x-axis tick labels, etc.\n",
        "ax.set_ylabel('% accuracy_val')\n",
        "ax.set_title('Scores by model')\n",
        "ax.set_xticks(x)\n",
        "ax.set_xticklabels(labels)\n",
        "ax.legend()\n",
        "\n",
        "plt.ylim(0.4, 1.5) \n",
        "#ax.bar_label(rects1, padding=3)\n",
        "#ax.bar_label(rects2, padding=3)\n",
        "\n",
        "fig.tight_layout()\n",
        "\n",
        "plt.show()"
      ],
      "execution_count": null,
      "outputs": [
        {
          "output_type": "display_data",
          "data": {
            "image/png": "[encoded data removed]",
            "text/plain": [
              "<Figure size 432x288 with 1 Axes>"
            ]
          },
          "metadata": {
            "tags": [],
            "needs_background": "light"
          }
        }
      ]
    },
    {
      "cell_type": "markdown",
      "metadata": {
        "id": "LhnxlSqsRak2"
      },
      "source": [
        "#CNN_LSTM_Differentes Nbre Neurones"
      ]
    },
    {
      "cell_type": "markdown",
      "metadata": {
        "id": "t4-dMGlMRh_5"
      },
      "source": [
        "32 neurones"
      ]
    },
    {
      "cell_type": "code",
      "metadata": {
        "id": "v3jmRh-FRlKP"
      },
      "source": [
        "model_LSTM32 = Sequential()\n",
        "model_LSTM32.add(Conv1D(64,kernel_size=3,activation='relu',strides=1,input_shape=(Xtrain.shape[1],Xtrain.shape[2])))\n",
        "model_LSTM32.add(MaxPooling1D(pool_size=2,strides=2))\n",
        "\n",
        "model_LSTM32.add(Conv1D(128,kernel_size=3,activation='relu'))\n",
        "model_LSTM32.add(Conv1D(512,kernel_size=3,activation='relu'))\n",
        "model_LSTM32.add(Conv1D(1024,kernel_size=3,activation='relu'))\n",
        "\n",
        "#model.add(Flatten())\n",
        "model_LSTM32.add(Dense(256,activation='relu'))\n",
        "model_LSTM32.add(Dropout(0.2))\n",
        "model_LSTM32.add(LSTM(32,activation='tanh',return_sequences=True))\n",
        "model_LSTM32.add(LSTM(32,activation='tanh'))\n",
        "model_LSTM32.add(Dense(256,activation='relu'))\n",
        "model_LSTM32.add(Dense(128,activation='relu'))\n",
        "model_LSTM32.add(Dense(64,activation='relu'))\n",
        "model_LSTM32.add(Dense(Ytrain_one_hot.shape[1], activation = 'softmax'))\n"
      ],
      "execution_count": null,
      "outputs": []
    },
    {
      "cell_type": "code",
      "metadata": {
        "id": "awwD8mqaSAdC"
      },
      "source": [
        "model_LSTM32.compile(loss=keras.losses.categorical_crossentropy,optimizer=keras.optimizers.Adam(),metrics=['accuracy'])"
      ],
      "execution_count": null,
      "outputs": []
    },
    {
      "cell_type": "code",
      "metadata": {
        "colab": {
          "base_uri": "https://localhost:8080/"
        },
        "id": "mENcPw4MSXq1",
        "outputId": "e7df6b9e-c6f6-4895-de56-55bf28925b28"
      },
      "source": [
        "history_LSTM32 = model_LSTM32.fit(Xtrain,Ytrain_one_hot,batch_size = batch_size,epochs=epochs,verbose=1,validation_data=(Xtest,Ytest_one_hot))"
      ],
      "execution_count": null,
      "outputs": [
        {
          "output_type": "stream",
          "text": [
            "Epoch 1/50\n",
            "8/8 [==============================] - 8s 555ms/step - loss: 0.6680 - accuracy: 0.5966 - val_loss: 0.5305 - val_accuracy: 0.9435\n",
            "Epoch 2/50\n",
            "8/8 [==============================] - 3s 425ms/step - loss: 0.4390 - accuracy: 0.9409 - val_loss: 0.2505 - val_accuracy: 0.9096\n",
            "Epoch 3/50\n",
            "8/8 [==============================] - 3s 429ms/step - loss: 0.1887 - accuracy: 0.9322 - val_loss: 0.1432 - val_accuracy: 0.9496\n",
            "Epoch 4/50\n",
            "8/8 [==============================] - 3s 429ms/step - loss: 0.1230 - accuracy: 0.9513 - val_loss: 0.1292 - val_accuracy: 0.9417\n",
            "Epoch 5/50\n",
            "8/8 [==============================] - 3s 432ms/step - loss: 0.1024 - accuracy: 0.9548 - val_loss: 0.1117 - val_accuracy: 0.9513\n",
            "Epoch 6/50\n",
            "8/8 [==============================] - 3s 435ms/step - loss: 0.0965 - accuracy: 0.9553 - val_loss: 0.1119 - val_accuracy: 0.9617\n",
            "Epoch 7/50\n",
            "8/8 [==============================] - 3s 438ms/step - loss: 0.1001 - accuracy: 0.9598 - val_loss: 0.1126 - val_accuracy: 0.9478\n",
            "Epoch 8/50\n",
            "8/8 [==============================] - 4s 440ms/step - loss: 0.0926 - accuracy: 0.9601 - val_loss: 0.1171 - val_accuracy: 0.9583\n",
            "Epoch 9/50\n",
            "8/8 [==============================] - 3s 437ms/step - loss: 0.0929 - accuracy: 0.9561 - val_loss: 0.1020 - val_accuracy: 0.9591\n",
            "Epoch 10/50\n",
            "8/8 [==============================] - 3s 434ms/step - loss: 0.0829 - accuracy: 0.9659 - val_loss: 0.0925 - val_accuracy: 0.9652\n",
            "Epoch 11/50\n",
            "8/8 [==============================] - 3s 431ms/step - loss: 0.0809 - accuracy: 0.9628 - val_loss: 0.0838 - val_accuracy: 0.9626\n",
            "Epoch 12/50\n",
            "8/8 [==============================] - 3s 427ms/step - loss: 0.0798 - accuracy: 0.9675 - val_loss: 0.0807 - val_accuracy: 0.9652\n",
            "Epoch 13/50\n",
            "8/8 [==============================] - 3s 424ms/step - loss: 0.0780 - accuracy: 0.9682 - val_loss: 0.0815 - val_accuracy: 0.9661\n",
            "Epoch 14/50\n",
            "8/8 [==============================] - 3s 422ms/step - loss: 0.0755 - accuracy: 0.9694 - val_loss: 0.0746 - val_accuracy: 0.9696\n",
            "Epoch 15/50\n",
            "8/8 [==============================] - 3s 421ms/step - loss: 0.0638 - accuracy: 0.9766 - val_loss: 0.0838 - val_accuracy: 0.9696\n",
            "Epoch 16/50\n",
            "8/8 [==============================] - 3s 419ms/step - loss: 0.0741 - accuracy: 0.9710 - val_loss: 0.1015 - val_accuracy: 0.9678\n",
            "Epoch 17/50\n",
            "8/8 [==============================] - 3s 417ms/step - loss: 0.0750 - accuracy: 0.9696 - val_loss: 0.0848 - val_accuracy: 0.9739\n",
            "Epoch 18/50\n",
            "8/8 [==============================] - 3s 415ms/step - loss: 0.0645 - accuracy: 0.9763 - val_loss: 0.0726 - val_accuracy: 0.9739\n",
            "Epoch 19/50\n",
            "8/8 [==============================] - 3s 415ms/step - loss: 0.0632 - accuracy: 0.9759 - val_loss: 0.0671 - val_accuracy: 0.9739\n",
            "Epoch 20/50\n",
            "8/8 [==============================] - 3s 414ms/step - loss: 0.0604 - accuracy: 0.9782 - val_loss: 0.0678 - val_accuracy: 0.9757\n",
            "Epoch 21/50\n",
            "8/8 [==============================] - 3s 414ms/step - loss: 0.0543 - accuracy: 0.9803 - val_loss: 0.0776 - val_accuracy: 0.9757\n",
            "Epoch 22/50\n",
            "8/8 [==============================] - 3s 413ms/step - loss: 0.0611 - accuracy: 0.9786 - val_loss: 0.0647 - val_accuracy: 0.9800\n",
            "Epoch 23/50\n",
            "8/8 [==============================] - 3s 413ms/step - loss: 0.0682 - accuracy: 0.9748 - val_loss: 0.0895 - val_accuracy: 0.9722\n",
            "Epoch 24/50\n",
            "8/8 [==============================] - 3s 412ms/step - loss: 0.0586 - accuracy: 0.9767 - val_loss: 0.0587 - val_accuracy: 0.9783\n",
            "Epoch 25/50\n",
            "8/8 [==============================] - 3s 414ms/step - loss: 0.0521 - accuracy: 0.9809 - val_loss: 0.0594 - val_accuracy: 0.9783\n",
            "Epoch 26/50\n",
            "8/8 [==============================] - 3s 414ms/step - loss: 0.0558 - accuracy: 0.9806 - val_loss: 0.0568 - val_accuracy: 0.9800\n",
            "Epoch 27/50\n",
            "8/8 [==============================] - 3s 414ms/step - loss: 0.0513 - accuracy: 0.9839 - val_loss: 0.0529 - val_accuracy: 0.9800\n",
            "Epoch 28/50\n",
            "8/8 [==============================] - 3s 414ms/step - loss: 0.0462 - accuracy: 0.9827 - val_loss: 0.0520 - val_accuracy: 0.9843\n",
            "Epoch 29/50\n",
            "8/8 [==============================] - 3s 416ms/step - loss: 0.0512 - accuracy: 0.9806 - val_loss: 0.0577 - val_accuracy: 0.9800\n",
            "Epoch 30/50\n",
            "8/8 [==============================] - 3s 417ms/step - loss: 0.0498 - accuracy: 0.9827 - val_loss: 0.0558 - val_accuracy: 0.9791\n",
            "Epoch 31/50\n",
            "8/8 [==============================] - 3s 418ms/step - loss: 0.0495 - accuracy: 0.9826 - val_loss: 0.0504 - val_accuracy: 0.9835\n",
            "Epoch 32/50\n",
            "8/8 [==============================] - 3s 419ms/step - loss: 0.0428 - accuracy: 0.9845 - val_loss: 0.0464 - val_accuracy: 0.9843\n",
            "Epoch 33/50\n",
            "8/8 [==============================] - 3s 421ms/step - loss: 0.0487 - accuracy: 0.9829 - val_loss: 0.0525 - val_accuracy: 0.9800\n",
            "Epoch 34/50\n",
            "8/8 [==============================] - 3s 423ms/step - loss: 0.0401 - accuracy: 0.9857 - val_loss: 0.0517 - val_accuracy: 0.9817\n",
            "Epoch 35/50\n",
            "8/8 [==============================] - 3s 422ms/step - loss: 0.0376 - accuracy: 0.9864 - val_loss: 0.0466 - val_accuracy: 0.9870\n",
            "Epoch 36/50\n",
            "8/8 [==============================] - 3s 423ms/step - loss: 0.0361 - accuracy: 0.9866 - val_loss: 0.0420 - val_accuracy: 0.9852\n",
            "Epoch 37/50\n",
            "8/8 [==============================] - 3s 423ms/step - loss: 0.0352 - accuracy: 0.9866 - val_loss: 0.0565 - val_accuracy: 0.9817\n",
            "Epoch 38/50\n",
            "8/8 [==============================] - 3s 424ms/step - loss: 0.0322 - accuracy: 0.9891 - val_loss: 0.0442 - val_accuracy: 0.9835\n",
            "Epoch 39/50\n",
            "8/8 [==============================] - 3s 423ms/step - loss: 0.0321 - accuracy: 0.9891 - val_loss: 0.0438 - val_accuracy: 0.9843\n",
            "Epoch 40/50\n",
            "8/8 [==============================] - 3s 422ms/step - loss: 0.0359 - accuracy: 0.9858 - val_loss: 0.0481 - val_accuracy: 0.9826\n",
            "Epoch 41/50\n",
            "8/8 [==============================] - 3s 420ms/step - loss: 0.0361 - accuracy: 0.9867 - val_loss: 0.0538 - val_accuracy: 0.9809\n",
            "Epoch 42/50\n",
            "8/8 [==============================] - 3s 423ms/step - loss: 0.0438 - accuracy: 0.9841 - val_loss: 0.0591 - val_accuracy: 0.9765\n",
            "Epoch 43/50\n",
            "8/8 [==============================] - 3s 419ms/step - loss: 0.0431 - accuracy: 0.9839 - val_loss: 0.0544 - val_accuracy: 0.9826\n",
            "Epoch 44/50\n",
            "8/8 [==============================] - 3s 419ms/step - loss: 0.0359 - accuracy: 0.9869 - val_loss: 0.0523 - val_accuracy: 0.9817\n",
            "Epoch 45/50\n",
            "8/8 [==============================] - 3s 418ms/step - loss: 0.0348 - accuracy: 0.9869 - val_loss: 0.0494 - val_accuracy: 0.9826\n",
            "Epoch 46/50\n",
            "8/8 [==============================] - 3s 418ms/step - loss: 0.0332 - accuracy: 0.9885 - val_loss: 0.0457 - val_accuracy: 0.9843\n",
            "Epoch 47/50\n",
            "8/8 [==============================] - 3s 417ms/step - loss: 0.0289 - accuracy: 0.9894 - val_loss: 0.0486 - val_accuracy: 0.9826\n",
            "Epoch 48/50\n",
            "8/8 [==============================] - 3s 417ms/step - loss: 0.0313 - accuracy: 0.9884 - val_loss: 0.0464 - val_accuracy: 0.9852\n",
            "Epoch 49/50\n",
            "8/8 [==============================] - 3s 417ms/step - loss: 0.0275 - accuracy: 0.9909 - val_loss: 0.0410 - val_accuracy: 0.9861\n",
            "Epoch 50/50\n",
            "8/8 [==============================] - 3s 417ms/step - loss: 0.0255 - accuracy: 0.9916 - val_loss: 0.0411 - val_accuracy: 0.9843\n"
          ],
          "name": "stdout"
        }
      ]
    },
    {
      "cell_type": "code",
      "metadata": {
        "colab": {
          "base_uri": "https://localhost:8080/"
        },
        "id": "3c3TkMhPTlcH",
        "outputId": "c0fe0d30-9260-4680-d363-a1de08da47ee"
      },
      "source": [
        "score = model_LSTM32.evaluate(Xtrain,Ytrain_one_hot,verbose=0)\n",
        "print('test loss = ',score[0])\n",
        "print('accuracy = ',score[1])"
      ],
      "execution_count": null,
      "outputs": [
        {
          "output_type": "stream",
          "text": [
            "test loss =  0.023775093257427216\n",
            "accuracy =  0.9927536249160767\n"
          ],
          "name": "stdout"
        }
      ]
    },
    {
      "cell_type": "code",
      "metadata": {
        "colab": {
          "base_uri": "https://localhost:8080/"
        },
        "id": "3bSSiRvyTs9W",
        "outputId": "6184308b-8125-4089-f646-075ce606f5b2"
      },
      "source": [
        "score = model_LSTM32.evaluate(Xtest,Ytest_one_hot,verbose=0)\n",
        "print('test loss = ',score[0])\n",
        "print('accuracy = ',score[1])"
      ],
      "execution_count": null,
      "outputs": [
        {
          "output_type": "stream",
          "text": [
            "test loss =  0.04108666256070137\n",
            "accuracy =  0.9843478202819824\n"
          ],
          "name": "stdout"
        }
      ]
    },
    {
      "cell_type": "markdown",
      "metadata": {
        "id": "VZW32S5lT1R3"
      },
      "source": [
        "128 neurones"
      ]
    },
    {
      "cell_type": "code",
      "metadata": {
        "id": "WYbUpwloT32A"
      },
      "source": [
        "model_LSTM128 = Sequential()\n",
        "model_LSTM128.add(Conv1D(64,kernel_size=3,activation='relu',strides=1,input_shape=(Xtrain.shape[1],Xtrain.shape[2])))\n",
        "model_LSTM128.add(MaxPooling1D(pool_size=2,strides=2))\n",
        "\n",
        "model_LSTM128.add(Conv1D(128,kernel_size=3,activation='relu'))\n",
        "model_LSTM128.add(Conv1D(512,kernel_size=3,activation='relu'))\n",
        "model_LSTM128.add(Conv1D(1024,kernel_size=3,activation='relu'))\n",
        "\n",
        "#model.add(Flatten())\n",
        "model_LSTM128.add(Dense(256,activation='relu'))\n",
        "model_LSTM128.add(Dropout(0.2))\n",
        "model_LSTM128.add(LSTM(32,activation='tanh',return_sequences=True))\n",
        "model_LSTM128.add(LSTM(32,activation='tanh'))\n",
        "model_LSTM128.add(Dense(256,activation='relu'))\n",
        "model_LSTM128.add(Dense(128,activation='relu'))\n",
        "model_LSTM128.add(Dense(64,activation='relu'))\n",
        "model_LSTM128.add(Dense(Ytrain_one_hot.shape[1], activation = 'softmax'))\n"
      ],
      "execution_count": null,
      "outputs": []
    },
    {
      "cell_type": "code",
      "metadata": {
        "id": "fdpbLy29UPCW"
      },
      "source": [
        "model_LSTM128.compile(loss=keras.losses.categorical_crossentropy,optimizer=keras.optimizers.Adam(),metrics=['accuracy'])"
      ],
      "execution_count": null,
      "outputs": []
    },
    {
      "cell_type": "code",
      "metadata": {
        "colab": {
          "base_uri": "https://localhost:8080/"
        },
        "id": "NvYV9UgAUPQc",
        "outputId": "55bf76ce-2d18-40d4-bef6-cfc643d2f9a2"
      },
      "source": [
        "history_LSTM128 = model_LSTM128.fit(Xtrain,Ytrain_one_hot,batch_size = batch_size,epochs=epochs,verbose=1,validation_data=(Xtest,Ytest_one_hot))"
      ],
      "execution_count": null,
      "outputs": [
        {
          "output_type": "stream",
          "text": [
            "Epoch 1/50\n",
            "8/8 [==============================] - 8s 574ms/step - loss: 0.6667 - accuracy: 0.6698 - val_loss: 0.4881 - val_accuracy: 0.9087\n",
            "Epoch 2/50\n",
            "8/8 [==============================] - 3s 438ms/step - loss: 0.3592 - accuracy: 0.9357 - val_loss: 0.2241 - val_accuracy: 0.9313\n",
            "Epoch 3/50\n",
            "8/8 [==============================] - 4s 441ms/step - loss: 0.1722 - accuracy: 0.9399 - val_loss: 0.1581 - val_accuracy: 0.9374\n",
            "Epoch 4/50\n",
            "8/8 [==============================] - 4s 442ms/step - loss: 0.1494 - accuracy: 0.9370 - val_loss: 0.1354 - val_accuracy: 0.9496\n",
            "Epoch 5/50\n",
            "8/8 [==============================] - 4s 443ms/step - loss: 0.1231 - accuracy: 0.9524 - val_loss: 0.1283 - val_accuracy: 0.9443\n",
            "Epoch 6/50\n",
            "8/8 [==============================] - 4s 443ms/step - loss: 0.1146 - accuracy: 0.9527 - val_loss: 0.1141 - val_accuracy: 0.9539\n",
            "Epoch 7/50\n",
            "8/8 [==============================] - 3s 437ms/step - loss: 0.1011 - accuracy: 0.9602 - val_loss: 0.1196 - val_accuracy: 0.9487\n",
            "Epoch 8/50\n",
            "8/8 [==============================] - 3s 430ms/step - loss: 0.1024 - accuracy: 0.9594 - val_loss: 0.1144 - val_accuracy: 0.9522\n",
            "Epoch 9/50\n",
            "8/8 [==============================] - 3s 427ms/step - loss: 0.0976 - accuracy: 0.9604 - val_loss: 0.1047 - val_accuracy: 0.9574\n",
            "Epoch 10/50\n",
            "8/8 [==============================] - 3s 425ms/step - loss: 0.0884 - accuracy: 0.9634 - val_loss: 0.1059 - val_accuracy: 0.9600\n",
            "Epoch 11/50\n",
            "8/8 [==============================] - 3s 421ms/step - loss: 0.0871 - accuracy: 0.9657 - val_loss: 0.1094 - val_accuracy: 0.9574\n",
            "Epoch 12/50\n",
            "8/8 [==============================] - 3s 418ms/step - loss: 0.0867 - accuracy: 0.9643 - val_loss: 0.0927 - val_accuracy: 0.9652\n",
            "Epoch 13/50\n",
            "8/8 [==============================] - 3s 417ms/step - loss: 0.0806 - accuracy: 0.9705 - val_loss: 0.0872 - val_accuracy: 0.9635\n",
            "Epoch 14/50\n",
            "8/8 [==============================] - 3s 415ms/step - loss: 0.0700 - accuracy: 0.9725 - val_loss: 0.0873 - val_accuracy: 0.9661\n",
            "Epoch 15/50\n",
            "8/8 [==============================] - 3s 414ms/step - loss: 0.0776 - accuracy: 0.9697 - val_loss: 0.0909 - val_accuracy: 0.9696\n",
            "Epoch 16/50\n",
            "8/8 [==============================] - 3s 413ms/step - loss: 0.0778 - accuracy: 0.9733 - val_loss: 0.0902 - val_accuracy: 0.9652\n",
            "Epoch 17/50\n",
            "8/8 [==============================] - 3s 412ms/step - loss: 0.0775 - accuracy: 0.9689 - val_loss: 0.0801 - val_accuracy: 0.9704\n",
            "Epoch 18/50\n",
            "8/8 [==============================] - 3s 413ms/step - loss: 0.0678 - accuracy: 0.9750 - val_loss: 0.0996 - val_accuracy: 0.9643\n",
            "Epoch 19/50\n",
            "8/8 [==============================] - 3s 413ms/step - loss: 0.0756 - accuracy: 0.9700 - val_loss: 0.0780 - val_accuracy: 0.9678\n",
            "Epoch 20/50\n",
            "8/8 [==============================] - 3s 413ms/step - loss: 0.0662 - accuracy: 0.9745 - val_loss: 0.0730 - val_accuracy: 0.9748\n",
            "Epoch 21/50\n",
            "8/8 [==============================] - 3s 414ms/step - loss: 0.0639 - accuracy: 0.9757 - val_loss: 0.0668 - val_accuracy: 0.9757\n",
            "Epoch 22/50\n",
            "8/8 [==============================] - 3s 414ms/step - loss: 0.0625 - accuracy: 0.9766 - val_loss: 0.0669 - val_accuracy: 0.9713\n",
            "Epoch 23/50\n",
            "8/8 [==============================] - 3s 413ms/step - loss: 0.0520 - accuracy: 0.9810 - val_loss: 0.0576 - val_accuracy: 0.9791\n",
            "Epoch 24/50\n",
            "8/8 [==============================] - 3s 420ms/step - loss: 0.0568 - accuracy: 0.9779 - val_loss: 0.0548 - val_accuracy: 0.9817\n",
            "Epoch 25/50\n",
            "8/8 [==============================] - 3s 420ms/step - loss: 0.0486 - accuracy: 0.9823 - val_loss: 0.0558 - val_accuracy: 0.9809\n",
            "Epoch 26/50\n",
            "8/8 [==============================] - 3s 417ms/step - loss: 0.0501 - accuracy: 0.9806 - val_loss: 0.0691 - val_accuracy: 0.9800\n",
            "Epoch 27/50\n",
            "8/8 [==============================] - 3s 418ms/step - loss: 0.0528 - accuracy: 0.9808 - val_loss: 0.0675 - val_accuracy: 0.9800\n",
            "Epoch 28/50\n",
            "8/8 [==============================] - 3s 419ms/step - loss: 0.0467 - accuracy: 0.9835 - val_loss: 0.0613 - val_accuracy: 0.9783\n",
            "Epoch 29/50\n",
            "8/8 [==============================] - 3s 420ms/step - loss: 0.0466 - accuracy: 0.9835 - val_loss: 0.0502 - val_accuracy: 0.9843\n",
            "Epoch 30/50\n",
            "8/8 [==============================] - 3s 423ms/step - loss: 0.0448 - accuracy: 0.9819 - val_loss: 0.0629 - val_accuracy: 0.9791\n",
            "Epoch 31/50\n",
            "8/8 [==============================] - 3s 421ms/step - loss: 0.0475 - accuracy: 0.9830 - val_loss: 0.0465 - val_accuracy: 0.9852\n",
            "Epoch 32/50\n",
            "8/8 [==============================] - 3s 421ms/step - loss: 0.0389 - accuracy: 0.9864 - val_loss: 0.0454 - val_accuracy: 0.9861\n",
            "Epoch 33/50\n",
            "8/8 [==============================] - 3s 420ms/step - loss: 0.0434 - accuracy: 0.9834 - val_loss: 0.0589 - val_accuracy: 0.9835\n",
            "Epoch 34/50\n",
            "8/8 [==============================] - 3s 421ms/step - loss: 0.0424 - accuracy: 0.9853 - val_loss: 0.0493 - val_accuracy: 0.9817\n",
            "Epoch 35/50\n",
            "8/8 [==============================] - 3s 422ms/step - loss: 0.0385 - accuracy: 0.9846 - val_loss: 0.0473 - val_accuracy: 0.9835\n",
            "Epoch 36/50\n",
            "8/8 [==============================] - 3s 420ms/step - loss: 0.0401 - accuracy: 0.9854 - val_loss: 0.0579 - val_accuracy: 0.9826\n",
            "Epoch 37/50\n",
            "8/8 [==============================] - 3s 419ms/step - loss: 0.0380 - accuracy: 0.9873 - val_loss: 0.0453 - val_accuracy: 0.9843\n",
            "Epoch 38/50\n",
            "8/8 [==============================] - 3s 419ms/step - loss: 0.0352 - accuracy: 0.9874 - val_loss: 0.0405 - val_accuracy: 0.9861\n",
            "Epoch 39/50\n",
            "8/8 [==============================] - 3s 418ms/step - loss: 0.0338 - accuracy: 0.9879 - val_loss: 0.0373 - val_accuracy: 0.9870\n",
            "Epoch 40/50\n",
            "8/8 [==============================] - 3s 417ms/step - loss: 0.0333 - accuracy: 0.9882 - val_loss: 0.0402 - val_accuracy: 0.9861\n",
            "Epoch 41/50\n",
            "8/8 [==============================] - 3s 417ms/step - loss: 0.0319 - accuracy: 0.9889 - val_loss: 0.0954 - val_accuracy: 0.9704\n",
            "Epoch 42/50\n",
            "8/8 [==============================] - 3s 416ms/step - loss: 0.0626 - accuracy: 0.9762 - val_loss: 0.0500 - val_accuracy: 0.9826\n",
            "Epoch 43/50\n",
            "8/8 [==============================] - 3s 415ms/step - loss: 0.0420 - accuracy: 0.9859 - val_loss: 0.0492 - val_accuracy: 0.9835\n",
            "Epoch 44/50\n",
            "8/8 [==============================] - 3s 418ms/step - loss: 0.0378 - accuracy: 0.9868 - val_loss: 0.0451 - val_accuracy: 0.9861\n",
            "Epoch 45/50\n",
            "8/8 [==============================] - 3s 416ms/step - loss: 0.0313 - accuracy: 0.9889 - val_loss: 0.0455 - val_accuracy: 0.9861\n",
            "Epoch 46/50\n",
            "8/8 [==============================] - 3s 414ms/step - loss: 0.0284 - accuracy: 0.9915 - val_loss: 0.0346 - val_accuracy: 0.9878\n",
            "Epoch 47/50\n",
            "8/8 [==============================] - 3s 414ms/step - loss: 0.0278 - accuracy: 0.9903 - val_loss: 0.0379 - val_accuracy: 0.9870\n",
            "Epoch 48/50\n",
            "8/8 [==============================] - 3s 414ms/step - loss: 0.0314 - accuracy: 0.9900 - val_loss: 0.0482 - val_accuracy: 0.9843\n",
            "Epoch 49/50\n",
            "8/8 [==============================] - 3s 414ms/step - loss: 0.0306 - accuracy: 0.9902 - val_loss: 0.0392 - val_accuracy: 0.9852\n",
            "Epoch 50/50\n",
            "8/8 [==============================] - 3s 413ms/step - loss: 0.0259 - accuracy: 0.9912 - val_loss: 0.0313 - val_accuracy: 0.9896\n"
          ],
          "name": "stdout"
        }
      ]
    },
    {
      "cell_type": "code",
      "metadata": {
        "colab": {
          "base_uri": "https://localhost:8080/"
        },
        "id": "NgyVZUT9VO9Y",
        "outputId": "fd8afb6e-2f54-478f-db6d-09ba8fc3ad29"
      },
      "source": [
        "score = model_LSTM128.evaluate(Xtrain,Ytrain_one_hot,verbose=0)\n",
        "print('test loss = ',score[0])\n",
        "print('accuracy = ',score[1])"
      ],
      "execution_count": null,
      "outputs": [
        {
          "output_type": "stream",
          "text": [
            "test loss =  0.024573281407356262\n",
            "accuracy =  0.9916908144950867\n"
          ],
          "name": "stdout"
        }
      ]
    },
    {
      "cell_type": "code",
      "metadata": {
        "colab": {
          "base_uri": "https://localhost:8080/"
        },
        "id": "_BE7In2yVWbx",
        "outputId": "21a3e4d5-d7f4-4dc8-8fbf-b5ce4cfbb484"
      },
      "source": [
        "score = model_LSTM128.evaluate(Xtest,Ytest_one_hot,verbose=0)\n",
        "print('test loss = ',score[0])\n",
        "print('accuracy = ',score[1])"
      ],
      "execution_count": null,
      "outputs": [
        {
          "output_type": "stream",
          "text": [
            "test loss =  0.031335171312093735\n",
            "accuracy =  0.9895651936531067\n"
          ],
          "name": "stdout"
        }
      ]
    }
  ]
}